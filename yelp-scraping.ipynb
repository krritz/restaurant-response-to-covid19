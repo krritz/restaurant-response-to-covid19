{
 "cells": [
  {
   "cell_type": "markdown",
   "metadata": {},
   "source": [
    "# Scrape Yelp for Restaurant Review Data in Top 25 Counties Affected by Coronavirus\n",
    "\n",
    "Using the Yelp API and scraping, collect review data for up to 200 restaurants per county (up to 100 reviews per restaurant) for the top 25 counties with the most coronavirus-related deaths as of April 15, 2020.\n",
    "\n",
    "This program is ***extremely slow and breaks often*** due to Yelp security - you need to have Yelp open in another window, refreshing every ~1 minute, and be available to answer captcha questions as needed, or else the scraping will return no data. Below, you can see where I've manually stopped the program and run it multiple times to fill in gaps as a result. "
   ]
  },
  {
   "cell_type": "code",
   "execution_count": 1,
   "metadata": {},
   "outputs": [],
   "source": [
    "import pandas as pd\n",
    "import numpy as np\n",
    "import requests\n",
    "import json\n",
    "import urllib\n",
    "from bs4 import BeautifulSoup\n",
    "import os\n",
    "from datetime import date, datetime\n",
    "from tqdm import tqdm_notebook as tqdm\n",
    "import time"
   ]
  },
  {
   "cell_type": "markdown",
   "metadata": {},
   "source": [
    "## Identify top 25 counties with most coronavirus-related deaths\n",
    "Data collected from the New York Times, available through [Kaggle](https://www.kaggle.com/fireballbyedimyrnmom/us-counties-covid-19-dataset) - accurate as of 4/15/2020.\n"
   ]
  },
  {
   "cell_type": "code",
   "execution_count": 2,
   "metadata": {},
   "outputs": [
    {
     "data": {
      "text/plain": [
       "['New York City, New York',\n",
       " 'Nassau, New York',\n",
       " 'Wayne, Michigan',\n",
       " 'Westchester, New York',\n",
       " 'Suffolk, New York',\n",
       " 'Cook, Illinois',\n",
       " 'Bergen, New Jersey',\n",
       " 'Essex, New Jersey',\n",
       " 'Los Angeles, California',\n",
       " 'Oakland, Michigan',\n",
       " 'Fairfield, Connecticut',\n",
       " 'Macomb, Michigan',\n",
       " 'King, Washington',\n",
       " 'Hudson, New Jersey',\n",
       " 'Orleans, Louisiana',\n",
       " 'Union, New Jersey',\n",
       " 'Middlesex, New Jersey',\n",
       " 'Jefferson, Louisiana',\n",
       " 'Philadelphia, Pennsylvania',\n",
       " 'Middlesex, Massachusetts',\n",
       " 'Hartford, Connecticut',\n",
       " 'Rockland, New York',\n",
       " 'Morris, New Jersey',\n",
       " 'New Haven, Connecticut',\n",
       " 'Passaic, New Jersey']"
      ]
     },
     "execution_count": 2,
     "metadata": {},
     "output_type": "execute_result"
    }
   ],
   "source": [
    "covid_county_data = pd.read_csv('us-counties.csv')\n",
    "covid_county_data['date'] = pd.to_datetime(covid_county_data['date']).dt.normalize()\n",
    "#weekly_covid_data = covid_county_data.set_index('date').groupby(['state', 'county']).resample('1W').sum().reset_index().sort_values(['deaths', 'cases'], ascending=False)\n",
    "#overall_county_data = covid_county_data.groupby(['state', 'county']).sum().reset_index().sort_values(['deaths', 'cases'], ascending=False)\n",
    "#overall_county_data\n",
    "newest_county_data = covid_county_data[covid_county_data['date']==covid_county_data['date'].max()].sort_values(['deaths', 'cases'], ascending=False)\n",
    "top_affected_counties = newest_county_data[['county', 'state']].head(25)\n",
    "top_affected_counties['county_state'] = top_affected_counties['county'] + str(', ') + top_affected_counties['state']\n",
    "top_affected_counties = top_affected_counties['county_state'].to_list()\n",
    "top_affected_counties"
   ]
  },
  {
   "cell_type": "code",
   "execution_count": 3,
   "metadata": {},
   "outputs": [
    {
     "name": "stderr",
     "output_type": "stream",
     "text": [
      "/Applications/anaconda3/lib/python3.7/site-packages/pandas/core/frame.py:6692: FutureWarning: Sorting because non-concatenation axis is not aligned. A future version\n",
      "of pandas will change to not sort by default.\n",
      "\n",
      "To accept the future behavior, pass 'sort=False'.\n",
      "\n",
      "To retain the current behavior and silence the warning, pass 'sort=True'.\n",
      "\n",
      "  sort=sort)\n"
     ]
    }
   ],
   "source": [
    "yelp_api = os.environ['YELP_API']\n",
    "headers = {'Authorization': 'Bearer %s' % yelp_api}\n",
    "url = 'https://api.yelp.com/v3/businesses/search'\n",
    "\n",
    "business_df = pd.DataFrame()\n",
    "for c in top_affected_counties:\n",
    "    # generate up to 200 restaurants per location\n",
    "    # sort is based on YELP sort\n",
    "    # only restaurants\n",
    "    # about 10 miles\n",
    "    offsets = [0, 50, 100, 150]\n",
    "    for o in offsets:\n",
    "        params = {'term':'restaurants', 'location':str(c), 'limit':50, 'radius':16095, 'offset':o}\n",
    "        req = requests.get(url, params=params, headers=headers)\n",
    "        parsed = json.loads(req.text)\n",
    "        businesses = parsed[\"businesses\"]\n",
    "\n",
    "        # dict for business details\n",
    "        business_reviews = {}\n",
    "\n",
    "        for business in businesses:\n",
    "            business_reviews[business['id']] = business\n",
    "            business['city'] = c\n",
    "        for x in business_reviews:\n",
    "            business_reviews[x].pop('id')\n",
    "            business_reviews[x].pop('image_url')\n",
    "            business_reviews[x].pop('url')\n",
    "            business_reviews[x].pop('phone')    \n",
    "            business_reviews[x].pop('distance')\n",
    "            business_reviews[x].pop('display_phone')\n",
    "\n",
    "        business_df = business_df.append(pd.DataFrame.from_dict(business_reviews, orient='index'))\n"
   ]
  },
  {
   "cell_type": "code",
   "execution_count": 4,
   "metadata": {},
   "outputs": [
    {
     "data": {
      "text/plain": [
       "4396"
      ]
     },
     "execution_count": 4,
     "metadata": {},
     "output_type": "execute_result"
    }
   ],
   "source": [
    "business_df.index.nunique()"
   ]
  },
  {
   "cell_type": "code",
   "execution_count": 5,
   "metadata": {},
   "outputs": [
    {
     "data": {
      "text/html": [
       "<div>\n",
       "<style scoped>\n",
       "    .dataframe tbody tr th:only-of-type {\n",
       "        vertical-align: middle;\n",
       "    }\n",
       "\n",
       "    .dataframe tbody tr th {\n",
       "        vertical-align: top;\n",
       "    }\n",
       "\n",
       "    .dataframe thead th {\n",
       "        text-align: right;\n",
       "    }\n",
       "</style>\n",
       "<table border=\"1\" class=\"dataframe\">\n",
       "  <thead>\n",
       "    <tr style=\"text-align: right;\">\n",
       "      <th></th>\n",
       "      <th>alias</th>\n",
       "      <th>categories</th>\n",
       "      <th>city</th>\n",
       "      <th>coordinates</th>\n",
       "      <th>is_closed</th>\n",
       "      <th>location</th>\n",
       "      <th>name</th>\n",
       "      <th>price</th>\n",
       "      <th>rating</th>\n",
       "      <th>review_count</th>\n",
       "      <th>transactions</th>\n",
       "    </tr>\n",
       "  </thead>\n",
       "  <tbody>\n",
       "    <tr>\n",
       "      <th>srbKFMHjYqVpHJbmwHwl-A</th>\n",
       "      <td>chapos-latin-cuisine-woodland-park</td>\n",
       "      <td>[{'alias': 'puertorican', 'title': 'Puerto Ric...</td>\n",
       "      <td>Passaic, New Jersey</td>\n",
       "      <td>{'latitude': 40.88985, 'longitude': -74.21497}</td>\n",
       "      <td>False</td>\n",
       "      <td>{'address1': '71 Lackawanna Ave', 'address2': ...</td>\n",
       "      <td>Chapo's Latin Cuisine</td>\n",
       "      <td>NaN</td>\n",
       "      <td>5.0</td>\n",
       "      <td>7</td>\n",
       "      <td>[delivery]</td>\n",
       "    </tr>\n",
       "    <tr>\n",
       "      <th>vHUMukJ0eA4y4i3DMVcj8w</th>\n",
       "      <td>the-crosby-montclair</td>\n",
       "      <td>[{'alias': 'gastropubs', 'title': 'Gastropubs'}]</td>\n",
       "      <td>Passaic, New Jersey</td>\n",
       "      <td>{'latitude': 40.8135647, 'longitude': -74.2152...</td>\n",
       "      <td>False</td>\n",
       "      <td>{'address1': '193 Glenridge Ave', 'address2': ...</td>\n",
       "      <td>The Crosby</td>\n",
       "      <td>$$</td>\n",
       "      <td>3.0</td>\n",
       "      <td>517</td>\n",
       "      <td>[]</td>\n",
       "    </tr>\n",
       "    <tr>\n",
       "      <th>w8RvA4t6_Mt3WxyEjcslew</th>\n",
       "      <td>punto-fijo-restaurant-ii-passaic</td>\n",
       "      <td>[{'alias': 'latin', 'title': 'Latin American'}...</td>\n",
       "      <td>Passaic, New Jersey</td>\n",
       "      <td>{'latitude': 40.86132, 'longitude': -74.12816}</td>\n",
       "      <td>False</td>\n",
       "      <td>{'address1': '30 Howe Ave', 'address2': '', 'a...</td>\n",
       "      <td>Punto Fijo Restaurant II</td>\n",
       "      <td>NaN</td>\n",
       "      <td>5.0</td>\n",
       "      <td>1</td>\n",
       "      <td>[delivery]</td>\n",
       "    </tr>\n",
       "    <tr>\n",
       "      <th>wvV7-gOilUd0MfZKVN0o9Q</th>\n",
       "      <td>laurel-and-sage-montclair</td>\n",
       "      <td>[{'alias': 'newamerican', 'title': 'American (...</td>\n",
       "      <td>Passaic, New Jersey</td>\n",
       "      <td>{'latitude': 40.8136520385742, 'longitude': -7...</td>\n",
       "      <td>False</td>\n",
       "      <td>{'address1': '33 Walnut St', 'address2': '', '...</td>\n",
       "      <td>Laurel &amp; Sage</td>\n",
       "      <td>$$$</td>\n",
       "      <td>4.0</td>\n",
       "      <td>143</td>\n",
       "      <td>[delivery]</td>\n",
       "    </tr>\n",
       "    <tr>\n",
       "      <th>yQ8CA83K5MCK-Zbq5zo_Ng</th>\n",
       "      <td>belmont-tavern-belleville</td>\n",
       "      <td>[{'alias': 'italian', 'title': 'Italian'}, {'a...</td>\n",
       "      <td>Passaic, New Jersey</td>\n",
       "      <td>{'latitude': 40.7750255, 'longitude': -74.1863...</td>\n",
       "      <td>False</td>\n",
       "      <td>{'address1': '12 Bloomfield Ave', 'address2': ...</td>\n",
       "      <td>Belmont Tavern</td>\n",
       "      <td>$$</td>\n",
       "      <td>4.0</td>\n",
       "      <td>171</td>\n",
       "      <td>[delivery]</td>\n",
       "    </tr>\n",
       "  </tbody>\n",
       "</table>\n",
       "</div>"
      ],
      "text/plain": [
       "                                                     alias  \\\n",
       "srbKFMHjYqVpHJbmwHwl-A  chapos-latin-cuisine-woodland-park   \n",
       "vHUMukJ0eA4y4i3DMVcj8w                the-crosby-montclair   \n",
       "w8RvA4t6_Mt3WxyEjcslew    punto-fijo-restaurant-ii-passaic   \n",
       "wvV7-gOilUd0MfZKVN0o9Q           laurel-and-sage-montclair   \n",
       "yQ8CA83K5MCK-Zbq5zo_Ng           belmont-tavern-belleville   \n",
       "\n",
       "                                                               categories  \\\n",
       "srbKFMHjYqVpHJbmwHwl-A  [{'alias': 'puertorican', 'title': 'Puerto Ric...   \n",
       "vHUMukJ0eA4y4i3DMVcj8w   [{'alias': 'gastropubs', 'title': 'Gastropubs'}]   \n",
       "w8RvA4t6_Mt3WxyEjcslew  [{'alias': 'latin', 'title': 'Latin American'}...   \n",
       "wvV7-gOilUd0MfZKVN0o9Q  [{'alias': 'newamerican', 'title': 'American (...   \n",
       "yQ8CA83K5MCK-Zbq5zo_Ng  [{'alias': 'italian', 'title': 'Italian'}, {'a...   \n",
       "\n",
       "                                       city  \\\n",
       "srbKFMHjYqVpHJbmwHwl-A  Passaic, New Jersey   \n",
       "vHUMukJ0eA4y4i3DMVcj8w  Passaic, New Jersey   \n",
       "w8RvA4t6_Mt3WxyEjcslew  Passaic, New Jersey   \n",
       "wvV7-gOilUd0MfZKVN0o9Q  Passaic, New Jersey   \n",
       "yQ8CA83K5MCK-Zbq5zo_Ng  Passaic, New Jersey   \n",
       "\n",
       "                                                              coordinates  \\\n",
       "srbKFMHjYqVpHJbmwHwl-A     {'latitude': 40.88985, 'longitude': -74.21497}   \n",
       "vHUMukJ0eA4y4i3DMVcj8w  {'latitude': 40.8135647, 'longitude': -74.2152...   \n",
       "w8RvA4t6_Mt3WxyEjcslew     {'latitude': 40.86132, 'longitude': -74.12816}   \n",
       "wvV7-gOilUd0MfZKVN0o9Q  {'latitude': 40.8136520385742, 'longitude': -7...   \n",
       "yQ8CA83K5MCK-Zbq5zo_Ng  {'latitude': 40.7750255, 'longitude': -74.1863...   \n",
       "\n",
       "                        is_closed  \\\n",
       "srbKFMHjYqVpHJbmwHwl-A      False   \n",
       "vHUMukJ0eA4y4i3DMVcj8w      False   \n",
       "w8RvA4t6_Mt3WxyEjcslew      False   \n",
       "wvV7-gOilUd0MfZKVN0o9Q      False   \n",
       "yQ8CA83K5MCK-Zbq5zo_Ng      False   \n",
       "\n",
       "                                                                 location  \\\n",
       "srbKFMHjYqVpHJbmwHwl-A  {'address1': '71 Lackawanna Ave', 'address2': ...   \n",
       "vHUMukJ0eA4y4i3DMVcj8w  {'address1': '193 Glenridge Ave', 'address2': ...   \n",
       "w8RvA4t6_Mt3WxyEjcslew  {'address1': '30 Howe Ave', 'address2': '', 'a...   \n",
       "wvV7-gOilUd0MfZKVN0o9Q  {'address1': '33 Walnut St', 'address2': '', '...   \n",
       "yQ8CA83K5MCK-Zbq5zo_Ng  {'address1': '12 Bloomfield Ave', 'address2': ...   \n",
       "\n",
       "                                            name price  rating  review_count  \\\n",
       "srbKFMHjYqVpHJbmwHwl-A     Chapo's Latin Cuisine   NaN     5.0             7   \n",
       "vHUMukJ0eA4y4i3DMVcj8w                The Crosby    $$     3.0           517   \n",
       "w8RvA4t6_Mt3WxyEjcslew  Punto Fijo Restaurant II   NaN     5.0             1   \n",
       "wvV7-gOilUd0MfZKVN0o9Q             Laurel & Sage   $$$     4.0           143   \n",
       "yQ8CA83K5MCK-Zbq5zo_Ng            Belmont Tavern    $$     4.0           171   \n",
       "\n",
       "                       transactions  \n",
       "srbKFMHjYqVpHJbmwHwl-A   [delivery]  \n",
       "vHUMukJ0eA4y4i3DMVcj8w           []  \n",
       "w8RvA4t6_Mt3WxyEjcslew   [delivery]  \n",
       "wvV7-gOilUd0MfZKVN0o9Q   [delivery]  \n",
       "yQ8CA83K5MCK-Zbq5zo_Ng   [delivery]  "
      ]
     },
     "execution_count": 5,
     "metadata": {},
     "output_type": "execute_result"
    }
   ],
   "source": [
    "business_df.tail()"
   ]
  },
  {
   "cell_type": "code",
   "execution_count": 6,
   "metadata": {},
   "outputs": [],
   "source": [
    "## use scraping to get more reviews\n",
    "## print the first 100 reviews                \n",
    "def scrape_reviews(input_df):\n",
    "    for c in input_df['city'].unique():\n",
    "        df = input_df[input_df['city']==c]\n",
    "        print('Scraping Reviews for {} ({} restaurants)'.format(c, len(df)))        \n",
    "        for restaurant_id in tqdm(df.index):\n",
    "            all_reviews = {}\n",
    "            restaurant_reviews[restaurant_id] = all_reviews\n",
    "            url_r = \"https://www.yelp.com/biz/\" + restaurant_id\n",
    "\n",
    "            start = 0\n",
    "            num_pages = 5\n",
    "            end = 20 * num_pages\n",
    "\n",
    "            authors = []\n",
    "            publish_date = []\n",
    "            reviews = []\n",
    "\n",
    "            counter = 0\n",
    "            while (start < end):\n",
    "                url = url_r + '?start=' + str(start)\n",
    "                start += 20\n",
    "\n",
    "                try:\n",
    "                    with urllib.request.urlopen(url) as url:\n",
    "                        page = url.read()\n",
    "                        soup = BeautifulSoup(page, \"html.parser\") \n",
    "\n",
    "                except urllib.error.HTTPError:\n",
    "                    time.sleep(0.1)\n",
    "                    continue\n",
    "\n",
    "                for s in soup.find_all('div',{'itemprop':'review'}):\n",
    "                    counter += 1\n",
    "                    review = {}\n",
    "                    all_reviews[counter] = review\n",
    "                    for author in s.find_all('meta', {'itemprop':'author'}):\n",
    "                        author = str(author)[15:-21]\n",
    "                        review['author'] = author\n",
    "                    for date in s.find_all('meta', {'itemprop':'datePublished'}):\n",
    "                        publish_date = str(date)[15:-28]\n",
    "                        review['publish_date'] = publish_date\n",
    "                    for descrip in s.find_all('p', {'itemprop':'description'}):\n",
    "                        descrip = str(descrip)[26:-12]\n",
    "                        review['description'] = descrip\n",
    "                    for score in s.find_all('meta', {'itemprop':'ratingValue'}):\n",
    "                        score = float(str(score)[15:-26])\n",
    "                        review['score'] = score\n",
    "                    review['city'] = c"
   ]
  },
  {
   "cell_type": "code",
   "execution_count": 8,
   "metadata": {},
   "outputs": [
    {
     "name": "stdout",
     "output_type": "stream",
     "text": [
      "Scraping Reviews for New York City, New York (200 restaurants)\n"
     ]
    },
    {
     "data": {
      "application/vnd.jupyter.widget-view+json": {
       "model_id": "108becf704bd407483e5a749f6c8a391",
       "version_major": 2,
       "version_minor": 0
      },
      "text/plain": [
       "HBox(children=(IntProgress(value=0, max=200), HTML(value='')))"
      ]
     },
     "metadata": {},
     "output_type": "display_data"
    },
    {
     "name": "stdout",
     "output_type": "stream",
     "text": [
      "\n",
      "Scraping Reviews for Nassau, New York (55 restaurants)\n"
     ]
    },
    {
     "data": {
      "application/vnd.jupyter.widget-view+json": {
       "model_id": "8574e58d0af74d4c8496cef46649f0ec",
       "version_major": 2,
       "version_minor": 0
      },
      "text/plain": [
       "HBox(children=(IntProgress(value=0, max=55), HTML(value='')))"
      ]
     },
     "metadata": {},
     "output_type": "display_data"
    },
    {
     "name": "stdout",
     "output_type": "stream",
     "text": [
      "\n",
      "Scraping Reviews for Wayne, Michigan (200 restaurants)\n"
     ]
    },
    {
     "data": {
      "application/vnd.jupyter.widget-view+json": {
       "model_id": "5f741271d3f342209ea7423d6c9e94d4",
       "version_major": 2,
       "version_minor": 0
      },
      "text/plain": [
       "HBox(children=(IntProgress(value=0, max=200), HTML(value='')))"
      ]
     },
     "metadata": {},
     "output_type": "display_data"
    },
    {
     "name": "stdout",
     "output_type": "stream",
     "text": [
      "\n",
      "Scraping Reviews for Westchester, New York (200 restaurants)\n"
     ]
    },
    {
     "data": {
      "application/vnd.jupyter.widget-view+json": {
       "model_id": "abfdb7c5203a41f7b1ac82ccfc76c6a9",
       "version_major": 2,
       "version_minor": 0
      },
      "text/plain": [
       "HBox(children=(IntProgress(value=0, max=200), HTML(value='')))"
      ]
     },
     "metadata": {},
     "output_type": "display_data"
    },
    {
     "name": "stdout",
     "output_type": "stream",
     "text": [
      "\n",
      "Scraping Reviews for Suffolk, New York (200 restaurants)\n"
     ]
    },
    {
     "data": {
      "application/vnd.jupyter.widget-view+json": {
       "model_id": "4f1117b830974ef8b17d057a18733a5c",
       "version_major": 2,
       "version_minor": 0
      },
      "text/plain": [
       "HBox(children=(IntProgress(value=0, max=200), HTML(value='')))"
      ]
     },
     "metadata": {},
     "output_type": "display_data"
    },
    {
     "name": "stdout",
     "output_type": "stream",
     "text": [
      "\n",
      "Scraping Reviews for Cook, Illinois (200 restaurants)\n"
     ]
    },
    {
     "data": {
      "application/vnd.jupyter.widget-view+json": {
       "model_id": "1751204ae412429ab58b792f0bc59765",
       "version_major": 2,
       "version_minor": 0
      },
      "text/plain": [
       "HBox(children=(IntProgress(value=0, max=200), HTML(value='')))"
      ]
     },
     "metadata": {},
     "output_type": "display_data"
    },
    {
     "name": "stdout",
     "output_type": "stream",
     "text": [
      "\n",
      "Scraping Reviews for Bergen, New Jersey (200 restaurants)\n"
     ]
    },
    {
     "data": {
      "application/vnd.jupyter.widget-view+json": {
       "model_id": "870667fa86d34cee89837f861e436a29",
       "version_major": 2,
       "version_minor": 0
      },
      "text/plain": [
       "HBox(children=(IntProgress(value=0, max=200), HTML(value='')))"
      ]
     },
     "metadata": {},
     "output_type": "display_data"
    },
    {
     "name": "stdout",
     "output_type": "stream",
     "text": [
      "\n",
      "Scraping Reviews for Essex, New Jersey (200 restaurants)\n"
     ]
    },
    {
     "data": {
      "application/vnd.jupyter.widget-view+json": {
       "model_id": "6aaf31f5da124d669e1e05c02c6fb4e3",
       "version_major": 2,
       "version_minor": 0
      },
      "text/plain": [
       "HBox(children=(IntProgress(value=0, max=200), HTML(value='')))"
      ]
     },
     "metadata": {},
     "output_type": "display_data"
    },
    {
     "name": "stdout",
     "output_type": "stream",
     "text": [
      "\n",
      "Scraping Reviews for Los Angeles, California (200 restaurants)\n"
     ]
    },
    {
     "data": {
      "application/vnd.jupyter.widget-view+json": {
       "model_id": "9e382bfb84f3441483ec1e09c7b84077",
       "version_major": 2,
       "version_minor": 0
      },
      "text/plain": [
       "HBox(children=(IntProgress(value=0, max=200), HTML(value='')))"
      ]
     },
     "metadata": {},
     "output_type": "display_data"
    },
    {
     "name": "stdout",
     "output_type": "stream",
     "text": [
      "\n",
      "Scraping Reviews for Oakland, Michigan (200 restaurants)\n"
     ]
    },
    {
     "data": {
      "application/vnd.jupyter.widget-view+json": {
       "model_id": "f88424d5261c4d13bab4495b4d9ce0f6",
       "version_major": 2,
       "version_minor": 0
      },
      "text/plain": [
       "HBox(children=(IntProgress(value=0, max=200), HTML(value='')))"
      ]
     },
     "metadata": {},
     "output_type": "display_data"
    },
    {
     "name": "stdout",
     "output_type": "stream",
     "text": [
      "\n",
      "Scraping Reviews for Fairfield, Connecticut (200 restaurants)\n"
     ]
    },
    {
     "data": {
      "application/vnd.jupyter.widget-view+json": {
       "model_id": "6c7b27427fed45b69f7845d6c576f317",
       "version_major": 2,
       "version_minor": 0
      },
      "text/plain": [
       "HBox(children=(IntProgress(value=0, max=200), HTML(value='')))"
      ]
     },
     "metadata": {},
     "output_type": "display_data"
    },
    {
     "name": "stdout",
     "output_type": "stream",
     "text": [
      "\n",
      "Scraping Reviews for Macomb, Michigan (200 restaurants)\n"
     ]
    },
    {
     "data": {
      "application/vnd.jupyter.widget-view+json": {
       "model_id": "badc6a6a795e4c87bfaa4e459cba32c5",
       "version_major": 2,
       "version_minor": 0
      },
      "text/plain": [
       "HBox(children=(IntProgress(value=0, max=200), HTML(value='')))"
      ]
     },
     "metadata": {},
     "output_type": "display_data"
    },
    {
     "name": "stdout",
     "output_type": "stream",
     "text": [
      "\n",
      "Scraping Reviews for King, Washington (72 restaurants)\n"
     ]
    },
    {
     "data": {
      "application/vnd.jupyter.widget-view+json": {
       "model_id": "157f2f294a3c454294395290ee0655f0",
       "version_major": 2,
       "version_minor": 0
      },
      "text/plain": [
       "HBox(children=(IntProgress(value=0, max=72), HTML(value='')))"
      ]
     },
     "metadata": {},
     "output_type": "display_data"
    },
    {
     "name": "stdout",
     "output_type": "stream",
     "text": [
      "\n",
      "Scraping Reviews for Hudson, New Jersey (200 restaurants)\n"
     ]
    },
    {
     "data": {
      "application/vnd.jupyter.widget-view+json": {
       "model_id": "beb1afbc17ce46f4a2f85b439ef88064",
       "version_major": 2,
       "version_minor": 0
      },
      "text/plain": [
       "HBox(children=(IntProgress(value=0, max=200), HTML(value='')))"
      ]
     },
     "metadata": {},
     "output_type": "display_data"
    },
    {
     "name": "stdout",
     "output_type": "stream",
     "text": [
      "\n",
      "Scraping Reviews for Orleans, Louisiana (112 restaurants)\n"
     ]
    },
    {
     "data": {
      "application/vnd.jupyter.widget-view+json": {
       "model_id": "472b98b0bb584e7284debd6e15033864",
       "version_major": 2,
       "version_minor": 0
      },
      "text/plain": [
       "HBox(children=(IntProgress(value=0, max=112), HTML(value='')))"
      ]
     },
     "metadata": {},
     "output_type": "display_data"
    },
    {
     "name": "stdout",
     "output_type": "stream",
     "text": [
      "\n",
      "Scraping Reviews for Union, New Jersey (200 restaurants)\n"
     ]
    },
    {
     "data": {
      "application/vnd.jupyter.widget-view+json": {
       "model_id": "4dd7c8b98cd847d888b4d2008155a447",
       "version_major": 2,
       "version_minor": 0
      },
      "text/plain": [
       "HBox(children=(IntProgress(value=0, max=200), HTML(value='')))"
      ]
     },
     "metadata": {},
     "output_type": "display_data"
    },
    {
     "name": "stdout",
     "output_type": "stream",
     "text": [
      "\n",
      "Scraping Reviews for Middlesex, New Jersey (200 restaurants)\n"
     ]
    },
    {
     "data": {
      "application/vnd.jupyter.widget-view+json": {
       "model_id": "eb6e6d52cfd3407997c0bebe6adbb025",
       "version_major": 2,
       "version_minor": 0
      },
      "text/plain": [
       "HBox(children=(IntProgress(value=0, max=200), HTML(value='')))"
      ]
     },
     "metadata": {},
     "output_type": "display_data"
    },
    {
     "name": "stdout",
     "output_type": "stream",
     "text": [
      "\n",
      "Scraping Reviews for Jefferson, Louisiana (200 restaurants)\n"
     ]
    },
    {
     "data": {
      "application/vnd.jupyter.widget-view+json": {
       "model_id": "bc41f045ef6646ccbb55ab3630b9a26f",
       "version_major": 2,
       "version_minor": 0
      },
      "text/plain": [
       "HBox(children=(IntProgress(value=0, max=200), HTML(value='')))"
      ]
     },
     "metadata": {},
     "output_type": "display_data"
    },
    {
     "name": "stdout",
     "output_type": "stream",
     "text": [
      "\n",
      "Scraping Reviews for Philadelphia, Pennsylvania (200 restaurants)\n"
     ]
    },
    {
     "data": {
      "application/vnd.jupyter.widget-view+json": {
       "model_id": "d8520156ee324d19a3078737273a1da9",
       "version_major": 2,
       "version_minor": 0
      },
      "text/plain": [
       "HBox(children=(IntProgress(value=0, max=200), HTML(value='')))"
      ]
     },
     "metadata": {},
     "output_type": "display_data"
    },
    {
     "name": "stdout",
     "output_type": "stream",
     "text": [
      "\n",
      "Scraping Reviews for Middlesex, Massachusetts (200 restaurants)\n"
     ]
    },
    {
     "data": {
      "application/vnd.jupyter.widget-view+json": {
       "model_id": "560f0ccef8b247cfb843cc9f143b4da5",
       "version_major": 2,
       "version_minor": 0
      },
      "text/plain": [
       "HBox(children=(IntProgress(value=0, max=200), HTML(value='')))"
      ]
     },
     "metadata": {},
     "output_type": "display_data"
    },
    {
     "name": "stdout",
     "output_type": "stream",
     "text": [
      "\n",
      "Scraping Reviews for Hartford, Connecticut (200 restaurants)\n"
     ]
    },
    {
     "data": {
      "application/vnd.jupyter.widget-view+json": {
       "model_id": "15344be73aaa458a98fba865464a7e34",
       "version_major": 2,
       "version_minor": 0
      },
      "text/plain": [
       "HBox(children=(IntProgress(value=0, max=200), HTML(value='')))"
      ]
     },
     "metadata": {},
     "output_type": "display_data"
    },
    {
     "name": "stdout",
     "output_type": "stream",
     "text": [
      "\n",
      "Scraping Reviews for Rockland, New York (200 restaurants)\n"
     ]
    },
    {
     "data": {
      "application/vnd.jupyter.widget-view+json": {
       "model_id": "49a3f1716a0f4fe093494232ba1ecacf",
       "version_major": 2,
       "version_minor": 0
      },
      "text/plain": [
       "HBox(children=(IntProgress(value=0, max=200), HTML(value='')))"
      ]
     },
     "metadata": {},
     "output_type": "display_data"
    },
    {
     "name": "stdout",
     "output_type": "stream",
     "text": [
      "\n",
      "Scraping Reviews for Morris, New Jersey (200 restaurants)\n"
     ]
    },
    {
     "data": {
      "application/vnd.jupyter.widget-view+json": {
       "model_id": "b30541e7a11b450389e3e8ce8b226f13",
       "version_major": 2,
       "version_minor": 0
      },
      "text/plain": [
       "HBox(children=(IntProgress(value=0, max=200), HTML(value='')))"
      ]
     },
     "metadata": {},
     "output_type": "display_data"
    },
    {
     "name": "stdout",
     "output_type": "stream",
     "text": [
      "\n",
      "Scraping Reviews for New Haven, Connecticut (200 restaurants)\n"
     ]
    },
    {
     "data": {
      "application/vnd.jupyter.widget-view+json": {
       "model_id": "78a381f88b6c441db1e71839be416bd4",
       "version_major": 2,
       "version_minor": 0
      },
      "text/plain": [
       "HBox(children=(IntProgress(value=0, max=200), HTML(value='')))"
      ]
     },
     "metadata": {},
     "output_type": "display_data"
    },
    {
     "name": "stdout",
     "output_type": "stream",
     "text": [
      "\n",
      "Scraping Reviews for Passaic, New Jersey (200 restaurants)\n"
     ]
    },
    {
     "data": {
      "application/vnd.jupyter.widget-view+json": {
       "model_id": "fecbb9dd7a5d4f7babae0c81c1034547",
       "version_major": 2,
       "version_minor": 0
      },
      "text/plain": [
       "HBox(children=(IntProgress(value=0, max=200), HTML(value='')))"
      ]
     },
     "metadata": {},
     "output_type": "display_data"
    },
    {
     "name": "stdout",
     "output_type": "stream",
     "text": [
      "\n"
     ]
    }
   ],
   "source": [
    "restaurant_reviews = {}\n",
    "scrape_reviews(business_df)"
   ]
  },
  {
   "cell_type": "code",
   "execution_count": 70,
   "metadata": {},
   "outputs": [
    {
     "data": {
      "text/html": [
       "<div>\n",
       "<style scoped>\n",
       "    .dataframe tbody tr th:only-of-type {\n",
       "        vertical-align: middle;\n",
       "    }\n",
       "\n",
       "    .dataframe tbody tr th {\n",
       "        vertical-align: top;\n",
       "    }\n",
       "\n",
       "    .dataframe thead th {\n",
       "        text-align: right;\n",
       "    }\n",
       "</style>\n",
       "<table border=\"1\" class=\"dataframe\">\n",
       "  <thead>\n",
       "    <tr style=\"text-align: right;\">\n",
       "      <th></th>\n",
       "      <th>author</th>\n",
       "      <th>city</th>\n",
       "      <th>description</th>\n",
       "      <th>publish_date</th>\n",
       "      <th>review_number</th>\n",
       "      <th>score</th>\n",
       "    </tr>\n",
       "    <tr>\n",
       "      <th>id</th>\n",
       "      <th></th>\n",
       "      <th></th>\n",
       "      <th></th>\n",
       "      <th></th>\n",
       "      <th></th>\n",
       "      <th></th>\n",
       "    </tr>\n",
       "  </thead>\n",
       "  <tbody>\n",
       "    <tr>\n",
       "      <th>3gqKLANaXNsHZnPDjKrcTg</th>\n",
       "      <td>Evelyn W.</td>\n",
       "      <td>New York City, New York</td>\n",
       "      <td>100% Asian Fusion. \\n\\nDecor is cute, service ...</td>\n",
       "      <td>2020-03-07</td>\n",
       "      <td>1</td>\n",
       "      <td>5.0</td>\n",
       "    </tr>\n",
       "    <tr>\n",
       "      <th>3gqKLANaXNsHZnPDjKrcTg</th>\n",
       "      <td>Diana X.</td>\n",
       "      <td>New York City, New York</td>\n",
       "      <td>It's cool to see a more \"authentic\" take on As...</td>\n",
       "      <td>2020-03-29</td>\n",
       "      <td>2</td>\n",
       "      <td>4.0</td>\n",
       "    </tr>\n",
       "    <tr>\n",
       "      <th>3gqKLANaXNsHZnPDjKrcTg</th>\n",
       "      <td>Tina F.</td>\n",
       "      <td>New York City, New York</td>\n",
       "      <td>I don't know how to start. This place gets rea...</td>\n",
       "      <td>2020-03-01</td>\n",
       "      <td>3</td>\n",
       "      <td>3.0</td>\n",
       "    </tr>\n",
       "    <tr>\n",
       "      <th>3gqKLANaXNsHZnPDjKrcTg</th>\n",
       "      <td>Chey O.</td>\n",
       "      <td>New York City, New York</td>\n",
       "      <td>Yeah, the place really is as good as people sa...</td>\n",
       "      <td>2020-02-21</td>\n",
       "      <td>4</td>\n",
       "      <td>5.0</td>\n",
       "    </tr>\n",
       "    <tr>\n",
       "      <th>3gqKLANaXNsHZnPDjKrcTg</th>\n",
       "      <td>Jin C.</td>\n",
       "      <td>New York City, New York</td>\n",
       "      <td>I came here a little before 7p on a Thursday n...</td>\n",
       "      <td>2020-02-02</td>\n",
       "      <td>5</td>\n",
       "      <td>4.0</td>\n",
       "    </tr>\n",
       "  </tbody>\n",
       "</table>\n",
       "</div>"
      ],
      "text/plain": [
       "                           author                     city  \\\n",
       "id                                                           \n",
       "3gqKLANaXNsHZnPDjKrcTg  Evelyn W.  New York City, New York   \n",
       "3gqKLANaXNsHZnPDjKrcTg   Diana X.  New York City, New York   \n",
       "3gqKLANaXNsHZnPDjKrcTg    Tina F.  New York City, New York   \n",
       "3gqKLANaXNsHZnPDjKrcTg    Chey O.  New York City, New York   \n",
       "3gqKLANaXNsHZnPDjKrcTg     Jin C.  New York City, New York   \n",
       "\n",
       "                                                              description  \\\n",
       "id                                                                          \n",
       "3gqKLANaXNsHZnPDjKrcTg  100% Asian Fusion. \\n\\nDecor is cute, service ...   \n",
       "3gqKLANaXNsHZnPDjKrcTg  It's cool to see a more \"authentic\" take on As...   \n",
       "3gqKLANaXNsHZnPDjKrcTg  I don't know how to start. This place gets rea...   \n",
       "3gqKLANaXNsHZnPDjKrcTg  Yeah, the place really is as good as people sa...   \n",
       "3gqKLANaXNsHZnPDjKrcTg  I came here a little before 7p on a Thursday n...   \n",
       "\n",
       "                       publish_date review_number  score  \n",
       "id                                                        \n",
       "3gqKLANaXNsHZnPDjKrcTg   2020-03-07             1    5.0  \n",
       "3gqKLANaXNsHZnPDjKrcTg   2020-03-29             2    4.0  \n",
       "3gqKLANaXNsHZnPDjKrcTg   2020-03-01             3    3.0  \n",
       "3gqKLANaXNsHZnPDjKrcTg   2020-02-21             4    5.0  \n",
       "3gqKLANaXNsHZnPDjKrcTg   2020-02-02             5    4.0  "
      ]
     },
     "execution_count": 70,
     "metadata": {},
     "output_type": "execute_result"
    }
   ],
   "source": [
    "# parse nested dictionary into a dataframe\n",
    "df1 = pd.DataFrame()\n",
    "for restaurant in restaurant_reviews:\n",
    "    restaurant_df = pd.DataFrame.from_dict(restaurant_reviews[restaurant], orient='index')\n",
    "    restaurant_df['id'] = restaurant\n",
    "    restaurant_df = restaurant_df.reset_index().set_index('id').rename(columns={'index':'review_number'})\n",
    "    df1 = df1.append(restaurant_df)\n",
    "df1.head()"
   ]
  },
  {
   "cell_type": "code",
   "execution_count": 71,
   "metadata": {},
   "outputs": [
    {
     "data": {
      "text/html": [
       "<div>\n",
       "<style scoped>\n",
       "    .dataframe tbody tr th:only-of-type {\n",
       "        vertical-align: middle;\n",
       "    }\n",
       "\n",
       "    .dataframe tbody tr th {\n",
       "        vertical-align: top;\n",
       "    }\n",
       "\n",
       "    .dataframe thead th {\n",
       "        text-align: right;\n",
       "    }\n",
       "</style>\n",
       "<table border=\"1\" class=\"dataframe\">\n",
       "  <thead>\n",
       "    <tr style=\"text-align: right;\">\n",
       "      <th></th>\n",
       "      <th>alias</th>\n",
       "      <th>categories</th>\n",
       "      <th>city_x</th>\n",
       "      <th>coordinates</th>\n",
       "      <th>is_closed</th>\n",
       "      <th>location</th>\n",
       "      <th>name</th>\n",
       "      <th>price</th>\n",
       "      <th>rating</th>\n",
       "      <th>review_count</th>\n",
       "      <th>transactions</th>\n",
       "      <th>author</th>\n",
       "      <th>city_y</th>\n",
       "      <th>description</th>\n",
       "      <th>publish_date</th>\n",
       "      <th>review_number</th>\n",
       "      <th>score</th>\n",
       "    </tr>\n",
       "  </thead>\n",
       "  <tbody>\n",
       "    <tr>\n",
       "      <th>--CprxtcUfzKoz29hAzm5w</th>\n",
       "      <td>wellys-restaurant-marlborough</td>\n",
       "      <td>[{'alias': 'tradamerican', 'title': 'American ...</td>\n",
       "      <td>Middlesex, Massachusetts</td>\n",
       "      <td>{'latitude': 42.3469, 'longitude': -71.54837}</td>\n",
       "      <td>False</td>\n",
       "      <td>{'address1': '153 Main St', 'address2': '', 'a...</td>\n",
       "      <td>Welly's Restaurant</td>\n",
       "      <td>$$</td>\n",
       "      <td>4.0</td>\n",
       "      <td>170</td>\n",
       "      <td>[delivery]</td>\n",
       "      <td>NaN</td>\n",
       "      <td>NaN</td>\n",
       "      <td>NaN</td>\n",
       "      <td>NaN</td>\n",
       "      <td>NaN</td>\n",
       "      <td>NaN</td>\n",
       "    </tr>\n",
       "    <tr>\n",
       "      <th>-1B9pP_CrRBJYPICE5WbRA</th>\n",
       "      <td>spice-28-philadelphia</td>\n",
       "      <td>[{'alias': 'szechuan', 'title': 'Szechuan'}, {...</td>\n",
       "      <td>Philadelphia, Pennsylvania</td>\n",
       "      <td>{'latitude': 39.950352, 'longitude': -75.1615829}</td>\n",
       "      <td>False</td>\n",
       "      <td>{'address1': '1228 Chestnut St', 'address2': '...</td>\n",
       "      <td>Spice 28</td>\n",
       "      <td>$$</td>\n",
       "      <td>4.0</td>\n",
       "      <td>795</td>\n",
       "      <td>[restaurant_reservation, delivery, pickup]</td>\n",
       "      <td>NaN</td>\n",
       "      <td>NaN</td>\n",
       "      <td>NaN</td>\n",
       "      <td>NaN</td>\n",
       "      <td>NaN</td>\n",
       "      <td>NaN</td>\n",
       "    </tr>\n",
       "    <tr>\n",
       "      <th>-1OKn2TRxsoZ1fZClMnnog</th>\n",
       "      <td>j-gilberts-wood-fired-steaks-and-seafood-glast...</td>\n",
       "      <td>[{'alias': 'steak', 'title': 'Steakhouses'}, {...</td>\n",
       "      <td>Hartford, Connecticut</td>\n",
       "      <td>{'latitude': 41.721484, 'longitude': -72.622915}</td>\n",
       "      <td>False</td>\n",
       "      <td>{'address1': '185 Glastonbury Blvd', 'address2...</td>\n",
       "      <td>J. Gilbert's Wood-Fired Steaks &amp; Seafood Glast...</td>\n",
       "      <td>$$$</td>\n",
       "      <td>4.5</td>\n",
       "      <td>589</td>\n",
       "      <td>[delivery, pickup]</td>\n",
       "      <td>NaN</td>\n",
       "      <td>NaN</td>\n",
       "      <td>NaN</td>\n",
       "      <td>NaN</td>\n",
       "      <td>NaN</td>\n",
       "      <td>NaN</td>\n",
       "    </tr>\n",
       "    <tr>\n",
       "      <th>-1XSzguS6XLN-V6MVZMg2A</th>\n",
       "      <td>restaurant-rebirth-new-orleans</td>\n",
       "      <td>[{'alias': 'cajun', 'title': 'Cajun/Creole'}, ...</td>\n",
       "      <td>Jefferson, Louisiana</td>\n",
       "      <td>{'latitude': 29.943528, 'longitude': -90.0654044}</td>\n",
       "      <td>False</td>\n",
       "      <td>{'address1': '857 Fulton St', 'address2': None...</td>\n",
       "      <td>Restaurant Rebirth</td>\n",
       "      <td>$$$</td>\n",
       "      <td>4.5</td>\n",
       "      <td>463</td>\n",
       "      <td>[delivery]</td>\n",
       "      <td>NaN</td>\n",
       "      <td>NaN</td>\n",
       "      <td>NaN</td>\n",
       "      <td>NaN</td>\n",
       "      <td>NaN</td>\n",
       "      <td>NaN</td>\n",
       "    </tr>\n",
       "    <tr>\n",
       "      <th>-2oop6EYGWRY9avJWKbqYQ</th>\n",
       "      <td>four-brothers-pizza-and-restaurant-valatie</td>\n",
       "      <td>[{'alias': 'pizza', 'title': 'Pizza'}, {'alias...</td>\n",
       "      <td>Nassau, New York</td>\n",
       "      <td>{'latitude': 42.428024, 'longitude': -73.687987}</td>\n",
       "      <td>False</td>\n",
       "      <td>{'address1': 'RR 9', 'address2': '', 'address3...</td>\n",
       "      <td>Four Brothers Pizza &amp; Restaurant</td>\n",
       "      <td>$$</td>\n",
       "      <td>3.0</td>\n",
       "      <td>41</td>\n",
       "      <td>[]</td>\n",
       "      <td>John C.</td>\n",
       "      <td>Nassau, New York</td>\n",
       "      <td>I don't know why they only average 3 stars and...</td>\n",
       "      <td>2020-02-01</td>\n",
       "      <td>1</td>\n",
       "      <td>4.0</td>\n",
       "    </tr>\n",
       "  </tbody>\n",
       "</table>\n",
       "</div>"
      ],
      "text/plain": [
       "                                                                    alias  \\\n",
       "--CprxtcUfzKoz29hAzm5w                      wellys-restaurant-marlborough   \n",
       "-1B9pP_CrRBJYPICE5WbRA                              spice-28-philadelphia   \n",
       "-1OKn2TRxsoZ1fZClMnnog  j-gilberts-wood-fired-steaks-and-seafood-glast...   \n",
       "-1XSzguS6XLN-V6MVZMg2A                     restaurant-rebirth-new-orleans   \n",
       "-2oop6EYGWRY9avJWKbqYQ         four-brothers-pizza-and-restaurant-valatie   \n",
       "\n",
       "                                                               categories  \\\n",
       "--CprxtcUfzKoz29hAzm5w  [{'alias': 'tradamerican', 'title': 'American ...   \n",
       "-1B9pP_CrRBJYPICE5WbRA  [{'alias': 'szechuan', 'title': 'Szechuan'}, {...   \n",
       "-1OKn2TRxsoZ1fZClMnnog  [{'alias': 'steak', 'title': 'Steakhouses'}, {...   \n",
       "-1XSzguS6XLN-V6MVZMg2A  [{'alias': 'cajun', 'title': 'Cajun/Creole'}, ...   \n",
       "-2oop6EYGWRY9avJWKbqYQ  [{'alias': 'pizza', 'title': 'Pizza'}, {'alias...   \n",
       "\n",
       "                                            city_x  \\\n",
       "--CprxtcUfzKoz29hAzm5w    Middlesex, Massachusetts   \n",
       "-1B9pP_CrRBJYPICE5WbRA  Philadelphia, Pennsylvania   \n",
       "-1OKn2TRxsoZ1fZClMnnog       Hartford, Connecticut   \n",
       "-1XSzguS6XLN-V6MVZMg2A        Jefferson, Louisiana   \n",
       "-2oop6EYGWRY9avJWKbqYQ            Nassau, New York   \n",
       "\n",
       "                                                              coordinates  \\\n",
       "--CprxtcUfzKoz29hAzm5w      {'latitude': 42.3469, 'longitude': -71.54837}   \n",
       "-1B9pP_CrRBJYPICE5WbRA  {'latitude': 39.950352, 'longitude': -75.1615829}   \n",
       "-1OKn2TRxsoZ1fZClMnnog   {'latitude': 41.721484, 'longitude': -72.622915}   \n",
       "-1XSzguS6XLN-V6MVZMg2A  {'latitude': 29.943528, 'longitude': -90.0654044}   \n",
       "-2oop6EYGWRY9avJWKbqYQ   {'latitude': 42.428024, 'longitude': -73.687987}   \n",
       "\n",
       "                        is_closed  \\\n",
       "--CprxtcUfzKoz29hAzm5w      False   \n",
       "-1B9pP_CrRBJYPICE5WbRA      False   \n",
       "-1OKn2TRxsoZ1fZClMnnog      False   \n",
       "-1XSzguS6XLN-V6MVZMg2A      False   \n",
       "-2oop6EYGWRY9avJWKbqYQ      False   \n",
       "\n",
       "                                                                 location  \\\n",
       "--CprxtcUfzKoz29hAzm5w  {'address1': '153 Main St', 'address2': '', 'a...   \n",
       "-1B9pP_CrRBJYPICE5WbRA  {'address1': '1228 Chestnut St', 'address2': '...   \n",
       "-1OKn2TRxsoZ1fZClMnnog  {'address1': '185 Glastonbury Blvd', 'address2...   \n",
       "-1XSzguS6XLN-V6MVZMg2A  {'address1': '857 Fulton St', 'address2': None...   \n",
       "-2oop6EYGWRY9avJWKbqYQ  {'address1': 'RR 9', 'address2': '', 'address3...   \n",
       "\n",
       "                                                                     name  \\\n",
       "--CprxtcUfzKoz29hAzm5w                                 Welly's Restaurant   \n",
       "-1B9pP_CrRBJYPICE5WbRA                                           Spice 28   \n",
       "-1OKn2TRxsoZ1fZClMnnog  J. Gilbert's Wood-Fired Steaks & Seafood Glast...   \n",
       "-1XSzguS6XLN-V6MVZMg2A                                 Restaurant Rebirth   \n",
       "-2oop6EYGWRY9avJWKbqYQ                   Four Brothers Pizza & Restaurant   \n",
       "\n",
       "                       price  rating  review_count  \\\n",
       "--CprxtcUfzKoz29hAzm5w    $$     4.0           170   \n",
       "-1B9pP_CrRBJYPICE5WbRA    $$     4.0           795   \n",
       "-1OKn2TRxsoZ1fZClMnnog   $$$     4.5           589   \n",
       "-1XSzguS6XLN-V6MVZMg2A   $$$     4.5           463   \n",
       "-2oop6EYGWRY9avJWKbqYQ    $$     3.0            41   \n",
       "\n",
       "                                                      transactions   author  \\\n",
       "--CprxtcUfzKoz29hAzm5w                                  [delivery]      NaN   \n",
       "-1B9pP_CrRBJYPICE5WbRA  [restaurant_reservation, delivery, pickup]      NaN   \n",
       "-1OKn2TRxsoZ1fZClMnnog                          [delivery, pickup]      NaN   \n",
       "-1XSzguS6XLN-V6MVZMg2A                                  [delivery]      NaN   \n",
       "-2oop6EYGWRY9avJWKbqYQ                                          []  John C.   \n",
       "\n",
       "                                  city_y  \\\n",
       "--CprxtcUfzKoz29hAzm5w               NaN   \n",
       "-1B9pP_CrRBJYPICE5WbRA               NaN   \n",
       "-1OKn2TRxsoZ1fZClMnnog               NaN   \n",
       "-1XSzguS6XLN-V6MVZMg2A               NaN   \n",
       "-2oop6EYGWRY9avJWKbqYQ  Nassau, New York   \n",
       "\n",
       "                                                              description  \\\n",
       "--CprxtcUfzKoz29hAzm5w                                                NaN   \n",
       "-1B9pP_CrRBJYPICE5WbRA                                                NaN   \n",
       "-1OKn2TRxsoZ1fZClMnnog                                                NaN   \n",
       "-1XSzguS6XLN-V6MVZMg2A                                                NaN   \n",
       "-2oop6EYGWRY9avJWKbqYQ  I don't know why they only average 3 stars and...   \n",
       "\n",
       "                       publish_date review_number  score  \n",
       "--CprxtcUfzKoz29hAzm5w          NaN           NaN    NaN  \n",
       "-1B9pP_CrRBJYPICE5WbRA          NaN           NaN    NaN  \n",
       "-1OKn2TRxsoZ1fZClMnnog          NaN           NaN    NaN  \n",
       "-1XSzguS6XLN-V6MVZMg2A          NaN           NaN    NaN  \n",
       "-2oop6EYGWRY9avJWKbqYQ   2020-02-01             1    4.0  "
      ]
     },
     "execution_count": 71,
     "metadata": {},
     "output_type": "execute_result"
    }
   ],
   "source": [
    "review_data = business_df.merge(df1, how='left', left_index=True, right_index=True)\n",
    "review_data.head()"
   ]
  },
  {
   "cell_type": "code",
   "execution_count": 80,
   "metadata": {},
   "outputs": [
    {
     "data": {
      "text/plain": [
       "3073"
      ]
     },
     "execution_count": 80,
     "metadata": {},
     "output_type": "execute_result"
    }
   ],
   "source": [
    "# clearly some duplicates because of overlapping counties\n",
    "len(review_data[review_data.duplicated(subset='description')])"
   ]
  },
  {
   "cell_type": "code",
   "execution_count": 81,
   "metadata": {},
   "outputs": [
    {
     "data": {
      "text/plain": [
       "154197"
      ]
     },
     "execution_count": 81,
     "metadata": {},
     "output_type": "execute_result"
    }
   ],
   "source": [
    "len(review_data)"
   ]
  },
  {
   "cell_type": "code",
   "execution_count": 82,
   "metadata": {},
   "outputs": [],
   "source": [
    "# save csv with what we have\n",
    "now = datetime.now().strftime(\"%Y_%m_%d_%H_%M\")\n",
    "review_data.to_csv('review_data_{}.csv'.format(now))"
   ]
  },
  {
   "cell_type": "code",
   "execution_count": 83,
   "metadata": {},
   "outputs": [
    {
     "data": {
      "text/plain": [
       "(4639, 2501)"
      ]
     },
     "execution_count": 83,
     "metadata": {},
     "output_type": "execute_result"
    }
   ],
   "source": [
    "# rescrape businesses with no review data\n",
    "rescrape = review_data[review_data['publish_date'].isna()].index.to_list()\n",
    "rescrape_df = business_df[business_df.index.isin(rescrape)]\n",
    "len(business_df), len(rescrape_df)"
   ]
  },
  {
   "cell_type": "code",
   "execution_count": 39,
   "metadata": {},
   "outputs": [],
   "source": [
    "## use scraping to get more reviews\n",
    "## print the first 100 reviews                \n",
    "def rescrape_reviews(input_df, output_dict):\n",
    "    for c in input_df['city'].unique():\n",
    "        df = input_df[input_df['city']==c]\n",
    "        print('Scraping Reviews for {} ({} restaurants)'.format(c, len(df)))        \n",
    "        for restaurant_id in tqdm(df.index):\n",
    "            all_reviews = {}\n",
    "            output_dict[restaurant_id] = all_reviews\n",
    "            url_r = \"https://www.yelp.com/biz/\" + restaurant_id\n",
    "\n",
    "            start = 0\n",
    "            num_pages = 5\n",
    "            end = 20 * num_pages\n",
    "\n",
    "            authors = []\n",
    "            publish_date = []\n",
    "            reviews = []\n",
    "\n",
    "            counter = 0\n",
    "            while (start < end):\n",
    "                url = url_r + '?start=' + str(start)\n",
    "                start += 20\n",
    "\n",
    "                try:\n",
    "                    with urllib.request.urlopen(url) as url:\n",
    "                        page = url.read()\n",
    "                        soup = BeautifulSoup(page, \"html.parser\") \n",
    "\n",
    "                except urllib.error.HTTPError:\n",
    "                    time.sleep(0.1)\n",
    "                    continue\n",
    "\n",
    "                for s in soup.find_all('div',{'itemprop':'review'}):\n",
    "                    counter += 1\n",
    "                    review = {}\n",
    "                    all_reviews[counter] = review\n",
    "                    for author in s.find_all('meta', {'itemprop':'author'}):\n",
    "                        author = str(author)[15:-21]\n",
    "                        review['author'] = author\n",
    "                    for date in s.find_all('meta', {'itemprop':'datePublished'}):\n",
    "                        publish_date = str(date)[15:-28]\n",
    "                        review['publish_date'] = publish_date\n",
    "                    for descrip in s.find_all('p', {'itemprop':'description'}):\n",
    "                        descrip = str(descrip)[26:-12]\n",
    "                        review['description'] = descrip\n",
    "                    for score in s.find_all('meta', {'itemprop':'ratingValue'}):\n",
    "                        score = float(str(score)[15:-26])\n",
    "                        review['score'] = score\n",
    "                    review['city'] = c"
   ]
  },
  {
   "cell_type": "code",
   "execution_count": 44,
   "metadata": {},
   "outputs": [
    {
     "name": "stdout",
     "output_type": "stream",
     "text": [
      "Scraping Reviews for New York City, New York (65 restaurants)\n"
     ]
    },
    {
     "data": {
      "application/vnd.jupyter.widget-view+json": {
       "model_id": "ef15325661534db490489d77ca758af2",
       "version_major": 2,
       "version_minor": 0
      },
      "text/plain": [
       "HBox(children=(IntProgress(value=0, max=65), HTML(value='')))"
      ]
     },
     "metadata": {},
     "output_type": "display_data"
    },
    {
     "name": "stdout",
     "output_type": "stream",
     "text": [
      "Scraping Reviews for Suffolk, New York (1 restaurants)\n"
     ]
    },
    {
     "data": {
      "application/vnd.jupyter.widget-view+json": {
       "model_id": "7d4f5c49464f48e1899932449e5c83d7",
       "version_major": 2,
       "version_minor": 0
      },
      "text/plain": [
       "HBox(children=(IntProgress(value=0, max=1), HTML(value='')))"
      ]
     },
     "metadata": {},
     "output_type": "display_data"
    },
    {
     "name": "stdout",
     "output_type": "stream",
     "text": [
      "Scraping Reviews for Bergen, New Jersey (65 restaurants)\n"
     ]
    },
    {
     "data": {
      "application/vnd.jupyter.widget-view+json": {
       "model_id": "37f5f882c2c04de3afa593abcea3a4b3",
       "version_major": 2,
       "version_minor": 0
      },
      "text/plain": [
       "HBox(children=(IntProgress(value=0, max=65), HTML(value='')))"
      ]
     },
     "metadata": {},
     "output_type": "display_data"
    },
    {
     "name": "stdout",
     "output_type": "stream",
     "text": [
      "Scraping Reviews for Essex, New Jersey (81 restaurants)\n"
     ]
    },
    {
     "data": {
      "application/vnd.jupyter.widget-view+json": {
       "model_id": "4b19db12272647e499051876781618db",
       "version_major": 2,
       "version_minor": 0
      },
      "text/plain": [
       "HBox(children=(IntProgress(value=0, max=81), HTML(value='')))"
      ]
     },
     "metadata": {},
     "output_type": "display_data"
    },
    {
     "name": "stdout",
     "output_type": "stream",
     "text": [
      "Scraping Reviews for Fairfield, Connecticut (1 restaurants)\n"
     ]
    },
    {
     "data": {
      "application/vnd.jupyter.widget-view+json": {
       "model_id": "2f5ba33ab02d4ff2920dad7ab4c0a689",
       "version_major": 2,
       "version_minor": 0
      },
      "text/plain": [
       "HBox(children=(IntProgress(value=0, max=1), HTML(value='')))"
      ]
     },
     "metadata": {},
     "output_type": "display_data"
    },
    {
     "name": "stdout",
     "output_type": "stream",
     "text": [
      "Scraping Reviews for Hudson, New Jersey (176 restaurants)\n"
     ]
    },
    {
     "data": {
      "application/vnd.jupyter.widget-view+json": {
       "model_id": "340002ba567449e4bcf1de6485ebc0df",
       "version_major": 2,
       "version_minor": 0
      },
      "text/plain": [
       "HBox(children=(IntProgress(value=0, max=176), HTML(value='')))"
      ]
     },
     "metadata": {},
     "output_type": "display_data"
    },
    {
     "name": "stdout",
     "output_type": "stream",
     "text": [
      "Scraping Reviews for Orleans, Louisiana (112 restaurants)\n"
     ]
    },
    {
     "data": {
      "application/vnd.jupyter.widget-view+json": {
       "model_id": "fcf17f07ba2b42dbb2520e6093691dc6",
       "version_major": 2,
       "version_minor": 0
      },
      "text/plain": [
       "HBox(children=(IntProgress(value=0, max=112), HTML(value='')))"
      ]
     },
     "metadata": {},
     "output_type": "display_data"
    },
    {
     "name": "stdout",
     "output_type": "stream",
     "text": [
      "Scraping Reviews for Union, New Jersey (200 restaurants)\n"
     ]
    },
    {
     "data": {
      "application/vnd.jupyter.widget-view+json": {
       "model_id": "f1f2794ce7384e3f9bfb8f128beeb0a2",
       "version_major": 2,
       "version_minor": 0
      },
      "text/plain": [
       "HBox(children=(IntProgress(value=0, max=200), HTML(value='')))"
      ]
     },
     "metadata": {},
     "output_type": "display_data"
    },
    {
     "name": "stdout",
     "output_type": "stream",
     "text": [
      "Scraping Reviews for Middlesex, New Jersey (200 restaurants)\n"
     ]
    },
    {
     "data": {
      "application/vnd.jupyter.widget-view+json": {
       "model_id": "ad28c7a1911740ce88e32ff16c4c2f1d",
       "version_major": 2,
       "version_minor": 0
      },
      "text/plain": [
       "HBox(children=(IntProgress(value=0, max=200), HTML(value='')))"
      ]
     },
     "metadata": {},
     "output_type": "display_data"
    },
    {
     "ename": "KeyboardInterrupt",
     "evalue": "",
     "output_type": "error",
     "traceback": [
      "\u001b[0;31m---------------------------------------------------------------------------\u001b[0m",
      "\u001b[0;31mKeyboardInterrupt\u001b[0m                         Traceback (most recent call last)",
      "\u001b[0;32m<ipython-input-44-ae6bd5d40263>\u001b[0m in \u001b[0;36m<module>\u001b[0;34m\u001b[0m\n\u001b[1;32m      1\u001b[0m \u001b[0mrescraped_reviews\u001b[0m \u001b[0;34m=\u001b[0m \u001b[0;34m{\u001b[0m\u001b[0;34m}\u001b[0m\u001b[0;34m\u001b[0m\u001b[0;34m\u001b[0m\u001b[0m\n\u001b[0;32m----> 2\u001b[0;31m \u001b[0mrescrape_reviews\u001b[0m\u001b[0;34m(\u001b[0m\u001b[0mrescrape_df\u001b[0m\u001b[0;34m,\u001b[0m \u001b[0mrescraped_reviews\u001b[0m\u001b[0;34m)\u001b[0m\u001b[0;34m\u001b[0m\u001b[0;34m\u001b[0m\u001b[0m\n\u001b[0m",
      "\u001b[0;32m<ipython-input-39-05ee6ab48502>\u001b[0m in \u001b[0;36mrescrape_reviews\u001b[0;34m(input_df, output_dict)\u001b[0m\n\u001b[1;32m     25\u001b[0m                 \u001b[0;32mtry\u001b[0m\u001b[0;34m:\u001b[0m\u001b[0;34m\u001b[0m\u001b[0;34m\u001b[0m\u001b[0m\n\u001b[1;32m     26\u001b[0m                     \u001b[0;32mwith\u001b[0m \u001b[0murllib\u001b[0m\u001b[0;34m.\u001b[0m\u001b[0mrequest\u001b[0m\u001b[0;34m.\u001b[0m\u001b[0murlopen\u001b[0m\u001b[0;34m(\u001b[0m\u001b[0murl\u001b[0m\u001b[0;34m)\u001b[0m \u001b[0;32mas\u001b[0m \u001b[0murl\u001b[0m\u001b[0;34m:\u001b[0m\u001b[0;34m\u001b[0m\u001b[0;34m\u001b[0m\u001b[0m\n\u001b[0;32m---> 27\u001b[0;31m                         \u001b[0mpage\u001b[0m \u001b[0;34m=\u001b[0m \u001b[0murl\u001b[0m\u001b[0;34m.\u001b[0m\u001b[0mread\u001b[0m\u001b[0;34m(\u001b[0m\u001b[0;34m)\u001b[0m\u001b[0;34m\u001b[0m\u001b[0;34m\u001b[0m\u001b[0m\n\u001b[0m\u001b[1;32m     28\u001b[0m                         \u001b[0msoup\u001b[0m \u001b[0;34m=\u001b[0m \u001b[0mBeautifulSoup\u001b[0m\u001b[0;34m(\u001b[0m\u001b[0mpage\u001b[0m\u001b[0;34m,\u001b[0m \u001b[0;34m\"html.parser\"\u001b[0m\u001b[0;34m)\u001b[0m\u001b[0;34m\u001b[0m\u001b[0;34m\u001b[0m\u001b[0m\n\u001b[1;32m     29\u001b[0m \u001b[0;34m\u001b[0m\u001b[0m\n",
      "\u001b[0;32m/Applications/anaconda3/lib/python3.7/http/client.py\u001b[0m in \u001b[0;36mread\u001b[0;34m(self, amt)\u001b[0m\n\u001b[1;32m    452\u001b[0m \u001b[0;34m\u001b[0m\u001b[0m\n\u001b[1;32m    453\u001b[0m             \u001b[0;32mif\u001b[0m \u001b[0mself\u001b[0m\u001b[0;34m.\u001b[0m\u001b[0mchunked\u001b[0m\u001b[0;34m:\u001b[0m\u001b[0;34m\u001b[0m\u001b[0;34m\u001b[0m\u001b[0m\n\u001b[0;32m--> 454\u001b[0;31m                 \u001b[0;32mreturn\u001b[0m \u001b[0mself\u001b[0m\u001b[0;34m.\u001b[0m\u001b[0m_readall_chunked\u001b[0m\u001b[0;34m(\u001b[0m\u001b[0;34m)\u001b[0m\u001b[0;34m\u001b[0m\u001b[0;34m\u001b[0m\u001b[0m\n\u001b[0m\u001b[1;32m    455\u001b[0m \u001b[0;34m\u001b[0m\u001b[0m\n\u001b[1;32m    456\u001b[0m             \u001b[0;32mif\u001b[0m \u001b[0mself\u001b[0m\u001b[0;34m.\u001b[0m\u001b[0mlength\u001b[0m \u001b[0;32mis\u001b[0m \u001b[0;32mNone\u001b[0m\u001b[0;34m:\u001b[0m\u001b[0;34m\u001b[0m\u001b[0;34m\u001b[0m\u001b[0m\n",
      "\u001b[0;32m/Applications/anaconda3/lib/python3.7/http/client.py\u001b[0m in \u001b[0;36m_readall_chunked\u001b[0;34m(self)\u001b[0m\n\u001b[1;32m    559\u001b[0m         \u001b[0;32mtry\u001b[0m\u001b[0;34m:\u001b[0m\u001b[0;34m\u001b[0m\u001b[0;34m\u001b[0m\u001b[0m\n\u001b[1;32m    560\u001b[0m             \u001b[0;32mwhile\u001b[0m \u001b[0;32mTrue\u001b[0m\u001b[0;34m:\u001b[0m\u001b[0;34m\u001b[0m\u001b[0;34m\u001b[0m\u001b[0m\n\u001b[0;32m--> 561\u001b[0;31m                 \u001b[0mchunk_left\u001b[0m \u001b[0;34m=\u001b[0m \u001b[0mself\u001b[0m\u001b[0;34m.\u001b[0m\u001b[0m_get_chunk_left\u001b[0m\u001b[0;34m(\u001b[0m\u001b[0;34m)\u001b[0m\u001b[0;34m\u001b[0m\u001b[0;34m\u001b[0m\u001b[0m\n\u001b[0m\u001b[1;32m    562\u001b[0m                 \u001b[0;32mif\u001b[0m \u001b[0mchunk_left\u001b[0m \u001b[0;32mis\u001b[0m \u001b[0;32mNone\u001b[0m\u001b[0;34m:\u001b[0m\u001b[0;34m\u001b[0m\u001b[0;34m\u001b[0m\u001b[0m\n\u001b[1;32m    563\u001b[0m                     \u001b[0;32mbreak\u001b[0m\u001b[0;34m\u001b[0m\u001b[0;34m\u001b[0m\u001b[0m\n",
      "\u001b[0;32m/Applications/anaconda3/lib/python3.7/http/client.py\u001b[0m in \u001b[0;36m_get_chunk_left\u001b[0;34m(self)\u001b[0m\n\u001b[1;32m    542\u001b[0m                 \u001b[0mself\u001b[0m\u001b[0;34m.\u001b[0m\u001b[0m_safe_read\u001b[0m\u001b[0;34m(\u001b[0m\u001b[0;36m2\u001b[0m\u001b[0;34m)\u001b[0m  \u001b[0;31m# toss the CRLF at the end of the chunk\u001b[0m\u001b[0;34m\u001b[0m\u001b[0;34m\u001b[0m\u001b[0m\n\u001b[1;32m    543\u001b[0m             \u001b[0;32mtry\u001b[0m\u001b[0;34m:\u001b[0m\u001b[0;34m\u001b[0m\u001b[0;34m\u001b[0m\u001b[0m\n\u001b[0;32m--> 544\u001b[0;31m                 \u001b[0mchunk_left\u001b[0m \u001b[0;34m=\u001b[0m \u001b[0mself\u001b[0m\u001b[0;34m.\u001b[0m\u001b[0m_read_next_chunk_size\u001b[0m\u001b[0;34m(\u001b[0m\u001b[0;34m)\u001b[0m\u001b[0;34m\u001b[0m\u001b[0;34m\u001b[0m\u001b[0m\n\u001b[0m\u001b[1;32m    545\u001b[0m             \u001b[0;32mexcept\u001b[0m \u001b[0mValueError\u001b[0m\u001b[0;34m:\u001b[0m\u001b[0;34m\u001b[0m\u001b[0;34m\u001b[0m\u001b[0m\n\u001b[1;32m    546\u001b[0m                 \u001b[0;32mraise\u001b[0m \u001b[0mIncompleteRead\u001b[0m\u001b[0;34m(\u001b[0m\u001b[0;34mb''\u001b[0m\u001b[0;34m)\u001b[0m\u001b[0;34m\u001b[0m\u001b[0;34m\u001b[0m\u001b[0m\n",
      "\u001b[0;32m/Applications/anaconda3/lib/python3.7/http/client.py\u001b[0m in \u001b[0;36m_read_next_chunk_size\u001b[0;34m(self)\u001b[0m\n\u001b[1;32m    502\u001b[0m     \u001b[0;32mdef\u001b[0m \u001b[0m_read_next_chunk_size\u001b[0m\u001b[0;34m(\u001b[0m\u001b[0mself\u001b[0m\u001b[0;34m)\u001b[0m\u001b[0;34m:\u001b[0m\u001b[0;34m\u001b[0m\u001b[0;34m\u001b[0m\u001b[0m\n\u001b[1;32m    503\u001b[0m         \u001b[0;31m# Read the next chunk size from the file\u001b[0m\u001b[0;34m\u001b[0m\u001b[0;34m\u001b[0m\u001b[0;34m\u001b[0m\u001b[0m\n\u001b[0;32m--> 504\u001b[0;31m         \u001b[0mline\u001b[0m \u001b[0;34m=\u001b[0m \u001b[0mself\u001b[0m\u001b[0;34m.\u001b[0m\u001b[0mfp\u001b[0m\u001b[0;34m.\u001b[0m\u001b[0mreadline\u001b[0m\u001b[0;34m(\u001b[0m\u001b[0m_MAXLINE\u001b[0m \u001b[0;34m+\u001b[0m \u001b[0;36m1\u001b[0m\u001b[0;34m)\u001b[0m\u001b[0;34m\u001b[0m\u001b[0;34m\u001b[0m\u001b[0m\n\u001b[0m\u001b[1;32m    505\u001b[0m         \u001b[0;32mif\u001b[0m \u001b[0mlen\u001b[0m\u001b[0;34m(\u001b[0m\u001b[0mline\u001b[0m\u001b[0;34m)\u001b[0m \u001b[0;34m>\u001b[0m \u001b[0m_MAXLINE\u001b[0m\u001b[0;34m:\u001b[0m\u001b[0;34m\u001b[0m\u001b[0;34m\u001b[0m\u001b[0m\n\u001b[1;32m    506\u001b[0m             \u001b[0;32mraise\u001b[0m \u001b[0mLineTooLong\u001b[0m\u001b[0;34m(\u001b[0m\u001b[0;34m\"chunk size\"\u001b[0m\u001b[0;34m)\u001b[0m\u001b[0;34m\u001b[0m\u001b[0;34m\u001b[0m\u001b[0m\n",
      "\u001b[0;32m/Applications/anaconda3/lib/python3.7/socket.py\u001b[0m in \u001b[0;36mreadinto\u001b[0;34m(self, b)\u001b[0m\n\u001b[1;32m    587\u001b[0m         \u001b[0;32mwhile\u001b[0m \u001b[0;32mTrue\u001b[0m\u001b[0;34m:\u001b[0m\u001b[0;34m\u001b[0m\u001b[0;34m\u001b[0m\u001b[0m\n\u001b[1;32m    588\u001b[0m             \u001b[0;32mtry\u001b[0m\u001b[0;34m:\u001b[0m\u001b[0;34m\u001b[0m\u001b[0;34m\u001b[0m\u001b[0m\n\u001b[0;32m--> 589\u001b[0;31m                 \u001b[0;32mreturn\u001b[0m \u001b[0mself\u001b[0m\u001b[0;34m.\u001b[0m\u001b[0m_sock\u001b[0m\u001b[0;34m.\u001b[0m\u001b[0mrecv_into\u001b[0m\u001b[0;34m(\u001b[0m\u001b[0mb\u001b[0m\u001b[0;34m)\u001b[0m\u001b[0;34m\u001b[0m\u001b[0;34m\u001b[0m\u001b[0m\n\u001b[0m\u001b[1;32m    590\u001b[0m             \u001b[0;32mexcept\u001b[0m \u001b[0mtimeout\u001b[0m\u001b[0;34m:\u001b[0m\u001b[0;34m\u001b[0m\u001b[0;34m\u001b[0m\u001b[0m\n\u001b[1;32m    591\u001b[0m                 \u001b[0mself\u001b[0m\u001b[0;34m.\u001b[0m\u001b[0m_timeout_occurred\u001b[0m \u001b[0;34m=\u001b[0m \u001b[0;32mTrue\u001b[0m\u001b[0;34m\u001b[0m\u001b[0;34m\u001b[0m\u001b[0m\n",
      "\u001b[0;32m/Applications/anaconda3/lib/python3.7/ssl.py\u001b[0m in \u001b[0;36mrecv_into\u001b[0;34m(self, buffer, nbytes, flags)\u001b[0m\n\u001b[1;32m   1050\u001b[0m                   \u001b[0;34m\"non-zero flags not allowed in calls to recv_into() on %s\"\u001b[0m \u001b[0;34m%\u001b[0m\u001b[0;34m\u001b[0m\u001b[0;34m\u001b[0m\u001b[0m\n\u001b[1;32m   1051\u001b[0m                   self.__class__)\n\u001b[0;32m-> 1052\u001b[0;31m             \u001b[0;32mreturn\u001b[0m \u001b[0mself\u001b[0m\u001b[0;34m.\u001b[0m\u001b[0mread\u001b[0m\u001b[0;34m(\u001b[0m\u001b[0mnbytes\u001b[0m\u001b[0;34m,\u001b[0m \u001b[0mbuffer\u001b[0m\u001b[0;34m)\u001b[0m\u001b[0;34m\u001b[0m\u001b[0;34m\u001b[0m\u001b[0m\n\u001b[0m\u001b[1;32m   1053\u001b[0m         \u001b[0;32melse\u001b[0m\u001b[0;34m:\u001b[0m\u001b[0;34m\u001b[0m\u001b[0;34m\u001b[0m\u001b[0m\n\u001b[1;32m   1054\u001b[0m             \u001b[0;32mreturn\u001b[0m \u001b[0msuper\u001b[0m\u001b[0;34m(\u001b[0m\u001b[0;34m)\u001b[0m\u001b[0;34m.\u001b[0m\u001b[0mrecv_into\u001b[0m\u001b[0;34m(\u001b[0m\u001b[0mbuffer\u001b[0m\u001b[0;34m,\u001b[0m \u001b[0mnbytes\u001b[0m\u001b[0;34m,\u001b[0m \u001b[0mflags\u001b[0m\u001b[0;34m)\u001b[0m\u001b[0;34m\u001b[0m\u001b[0;34m\u001b[0m\u001b[0m\n",
      "\u001b[0;32m/Applications/anaconda3/lib/python3.7/ssl.py\u001b[0m in \u001b[0;36mread\u001b[0;34m(self, len, buffer)\u001b[0m\n\u001b[1;32m    909\u001b[0m         \u001b[0;32mtry\u001b[0m\u001b[0;34m:\u001b[0m\u001b[0;34m\u001b[0m\u001b[0;34m\u001b[0m\u001b[0m\n\u001b[1;32m    910\u001b[0m             \u001b[0;32mif\u001b[0m \u001b[0mbuffer\u001b[0m \u001b[0;32mis\u001b[0m \u001b[0;32mnot\u001b[0m \u001b[0;32mNone\u001b[0m\u001b[0;34m:\u001b[0m\u001b[0;34m\u001b[0m\u001b[0;34m\u001b[0m\u001b[0m\n\u001b[0;32m--> 911\u001b[0;31m                 \u001b[0;32mreturn\u001b[0m \u001b[0mself\u001b[0m\u001b[0;34m.\u001b[0m\u001b[0m_sslobj\u001b[0m\u001b[0;34m.\u001b[0m\u001b[0mread\u001b[0m\u001b[0;34m(\u001b[0m\u001b[0mlen\u001b[0m\u001b[0;34m,\u001b[0m \u001b[0mbuffer\u001b[0m\u001b[0;34m)\u001b[0m\u001b[0;34m\u001b[0m\u001b[0;34m\u001b[0m\u001b[0m\n\u001b[0m\u001b[1;32m    912\u001b[0m             \u001b[0;32melse\u001b[0m\u001b[0;34m:\u001b[0m\u001b[0;34m\u001b[0m\u001b[0;34m\u001b[0m\u001b[0m\n\u001b[1;32m    913\u001b[0m                 \u001b[0;32mreturn\u001b[0m \u001b[0mself\u001b[0m\u001b[0;34m.\u001b[0m\u001b[0m_sslobj\u001b[0m\u001b[0;34m.\u001b[0m\u001b[0mread\u001b[0m\u001b[0;34m(\u001b[0m\u001b[0mlen\u001b[0m\u001b[0;34m)\u001b[0m\u001b[0;34m\u001b[0m\u001b[0;34m\u001b[0m\u001b[0m\n",
      "\u001b[0;31mKeyboardInterrupt\u001b[0m: "
     ]
    }
   ],
   "source": [
    "rescraped_reviews = {}\n",
    "rescrape_reviews(rescrape_df, rescraped_reviews)"
   ]
  },
  {
   "cell_type": "code",
   "execution_count": 99,
   "metadata": {},
   "outputs": [],
   "source": [
    "# had to interrupt - was stuck for >1 h w/ no progress after yelp wanted to verify not a robot"
   ]
  },
  {
   "cell_type": "code",
   "execution_count": 46,
   "metadata": {},
   "outputs": [
    {
     "data": {
      "text/plain": [
       "42297"
      ]
     },
     "execution_count": 46,
     "metadata": {},
     "output_type": "execute_result"
    }
   ],
   "source": [
    "# parse nested dictionary into a dataframe\n",
    "df2 = pd.DataFrame()\n",
    "for restaurant in rescraped_reviews:\n",
    "    restaurant_df = pd.DataFrame.from_dict(rescraped_reviews[restaurant], orient='index')\n",
    "    restaurant_df['id'] = restaurant\n",
    "    restaurant_df = restaurant_df.reset_index().set_index('id').rename(columns={'index':'review_number'})\n",
    "    df2 = df2.append(restaurant_df)\n",
    "    \n",
    "df2.head()"
   ]
  },
  {
   "cell_type": "code",
   "execution_count": 91,
   "metadata": {},
   "outputs": [
    {
     "data": {
      "text/html": [
       "<div>\n",
       "<style scoped>\n",
       "    .dataframe tbody tr th:only-of-type {\n",
       "        vertical-align: middle;\n",
       "    }\n",
       "\n",
       "    .dataframe tbody tr th {\n",
       "        vertical-align: top;\n",
       "    }\n",
       "\n",
       "    .dataframe thead th {\n",
       "        text-align: right;\n",
       "    }\n",
       "</style>\n",
       "<table border=\"1\" class=\"dataframe\">\n",
       "  <thead>\n",
       "    <tr style=\"text-align: right;\">\n",
       "      <th></th>\n",
       "      <th>author</th>\n",
       "      <th>city</th>\n",
       "      <th>description</th>\n",
       "      <th>publish_date</th>\n",
       "      <th>review_number</th>\n",
       "      <th>score</th>\n",
       "    </tr>\n",
       "    <tr>\n",
       "      <th>id</th>\n",
       "      <th></th>\n",
       "      <th></th>\n",
       "      <th></th>\n",
       "      <th></th>\n",
       "      <th></th>\n",
       "      <th></th>\n",
       "    </tr>\n",
       "  </thead>\n",
       "  <tbody>\n",
       "  </tbody>\n",
       "</table>\n",
       "</div>"
      ],
      "text/plain": [
       "Empty DataFrame\n",
       "Columns: [author, city, description, publish_date, review_number, score]\n",
       "Index: []"
      ]
     },
     "execution_count": 91,
     "metadata": {},
     "output_type": "execute_result"
    }
   ],
   "source": [
    "# combine reviews scraped so far\n",
    "current_reviews = df.append(df2)\n",
    "\n",
    "# no duplicates\n",
    "current_reviews[current_reviews.duplicated()]"
   ]
  },
  {
   "cell_type": "code",
   "execution_count": 94,
   "metadata": {},
   "outputs": [
    {
     "data": {
      "text/html": [
       "<div>\n",
       "<style scoped>\n",
       "    .dataframe tbody tr th:only-of-type {\n",
       "        vertical-align: middle;\n",
       "    }\n",
       "\n",
       "    .dataframe tbody tr th {\n",
       "        vertical-align: top;\n",
       "    }\n",
       "\n",
       "    .dataframe thead th {\n",
       "        text-align: right;\n",
       "    }\n",
       "</style>\n",
       "<table border=\"1\" class=\"dataframe\">\n",
       "  <thead>\n",
       "    <tr style=\"text-align: right;\">\n",
       "      <th></th>\n",
       "      <th>alias</th>\n",
       "      <th>categories</th>\n",
       "      <th>city_x</th>\n",
       "      <th>coordinates</th>\n",
       "      <th>is_closed</th>\n",
       "      <th>location</th>\n",
       "      <th>name</th>\n",
       "      <th>price</th>\n",
       "      <th>rating</th>\n",
       "      <th>review_count</th>\n",
       "      <th>transactions</th>\n",
       "      <th>author</th>\n",
       "      <th>city_y</th>\n",
       "      <th>description</th>\n",
       "      <th>publish_date</th>\n",
       "      <th>review_number</th>\n",
       "      <th>score</th>\n",
       "    </tr>\n",
       "  </thead>\n",
       "  <tbody>\n",
       "    <tr>\n",
       "      <th>--CprxtcUfzKoz29hAzm5w</th>\n",
       "      <td>wellys-restaurant-marlborough</td>\n",
       "      <td>[{'alias': 'tradamerican', 'title': 'American ...</td>\n",
       "      <td>Middlesex, Massachusetts</td>\n",
       "      <td>{'latitude': 42.3469, 'longitude': -71.54837}</td>\n",
       "      <td>False</td>\n",
       "      <td>{'address1': '153 Main St', 'address2': '', 'a...</td>\n",
       "      <td>Welly's Restaurant</td>\n",
       "      <td>$$</td>\n",
       "      <td>4.0</td>\n",
       "      <td>170</td>\n",
       "      <td>[delivery]</td>\n",
       "      <td>NaN</td>\n",
       "      <td>NaN</td>\n",
       "      <td>NaN</td>\n",
       "      <td>NaN</td>\n",
       "      <td>NaN</td>\n",
       "      <td>NaN</td>\n",
       "    </tr>\n",
       "    <tr>\n",
       "      <th>-1B9pP_CrRBJYPICE5WbRA</th>\n",
       "      <td>spice-28-philadelphia</td>\n",
       "      <td>[{'alias': 'szechuan', 'title': 'Szechuan'}, {...</td>\n",
       "      <td>Philadelphia, Pennsylvania</td>\n",
       "      <td>{'latitude': 39.950352, 'longitude': -75.1615829}</td>\n",
       "      <td>False</td>\n",
       "      <td>{'address1': '1228 Chestnut St', 'address2': '...</td>\n",
       "      <td>Spice 28</td>\n",
       "      <td>$$</td>\n",
       "      <td>4.0</td>\n",
       "      <td>795</td>\n",
       "      <td>[restaurant_reservation, delivery, pickup]</td>\n",
       "      <td>NaN</td>\n",
       "      <td>NaN</td>\n",
       "      <td>NaN</td>\n",
       "      <td>NaN</td>\n",
       "      <td>NaN</td>\n",
       "      <td>NaN</td>\n",
       "    </tr>\n",
       "    <tr>\n",
       "      <th>-1OKn2TRxsoZ1fZClMnnog</th>\n",
       "      <td>j-gilberts-wood-fired-steaks-and-seafood-glast...</td>\n",
       "      <td>[{'alias': 'steak', 'title': 'Steakhouses'}, {...</td>\n",
       "      <td>Hartford, Connecticut</td>\n",
       "      <td>{'latitude': 41.721484, 'longitude': -72.622915}</td>\n",
       "      <td>False</td>\n",
       "      <td>{'address1': '185 Glastonbury Blvd', 'address2...</td>\n",
       "      <td>J. Gilbert's Wood-Fired Steaks &amp; Seafood Glast...</td>\n",
       "      <td>$$$</td>\n",
       "      <td>4.5</td>\n",
       "      <td>589</td>\n",
       "      <td>[delivery, pickup]</td>\n",
       "      <td>NaN</td>\n",
       "      <td>NaN</td>\n",
       "      <td>NaN</td>\n",
       "      <td>NaN</td>\n",
       "      <td>NaN</td>\n",
       "      <td>NaN</td>\n",
       "    </tr>\n",
       "    <tr>\n",
       "      <th>-1XSzguS6XLN-V6MVZMg2A</th>\n",
       "      <td>restaurant-rebirth-new-orleans</td>\n",
       "      <td>[{'alias': 'cajun', 'title': 'Cajun/Creole'}, ...</td>\n",
       "      <td>Jefferson, Louisiana</td>\n",
       "      <td>{'latitude': 29.943528, 'longitude': -90.0654044}</td>\n",
       "      <td>False</td>\n",
       "      <td>{'address1': '857 Fulton St', 'address2': None...</td>\n",
       "      <td>Restaurant Rebirth</td>\n",
       "      <td>$$$</td>\n",
       "      <td>4.5</td>\n",
       "      <td>463</td>\n",
       "      <td>[delivery]</td>\n",
       "      <td>NaN</td>\n",
       "      <td>NaN</td>\n",
       "      <td>NaN</td>\n",
       "      <td>NaN</td>\n",
       "      <td>NaN</td>\n",
       "      <td>NaN</td>\n",
       "    </tr>\n",
       "    <tr>\n",
       "      <th>-2oop6EYGWRY9avJWKbqYQ</th>\n",
       "      <td>four-brothers-pizza-and-restaurant-valatie</td>\n",
       "      <td>[{'alias': 'pizza', 'title': 'Pizza'}, {'alias...</td>\n",
       "      <td>Nassau, New York</td>\n",
       "      <td>{'latitude': 42.428024, 'longitude': -73.687987}</td>\n",
       "      <td>False</td>\n",
       "      <td>{'address1': 'RR 9', 'address2': '', 'address3...</td>\n",
       "      <td>Four Brothers Pizza &amp; Restaurant</td>\n",
       "      <td>$$</td>\n",
       "      <td>3.0</td>\n",
       "      <td>41</td>\n",
       "      <td>[]</td>\n",
       "      <td>John C.</td>\n",
       "      <td>Nassau, New York</td>\n",
       "      <td>I don't know why they only average 3 stars and...</td>\n",
       "      <td>2020-02-01</td>\n",
       "      <td>1</td>\n",
       "      <td>4.0</td>\n",
       "    </tr>\n",
       "  </tbody>\n",
       "</table>\n",
       "</div>"
      ],
      "text/plain": [
       "                                                                    alias  \\\n",
       "--CprxtcUfzKoz29hAzm5w                      wellys-restaurant-marlborough   \n",
       "-1B9pP_CrRBJYPICE5WbRA                              spice-28-philadelphia   \n",
       "-1OKn2TRxsoZ1fZClMnnog  j-gilberts-wood-fired-steaks-and-seafood-glast...   \n",
       "-1XSzguS6XLN-V6MVZMg2A                     restaurant-rebirth-new-orleans   \n",
       "-2oop6EYGWRY9avJWKbqYQ         four-brothers-pizza-and-restaurant-valatie   \n",
       "\n",
       "                                                               categories  \\\n",
       "--CprxtcUfzKoz29hAzm5w  [{'alias': 'tradamerican', 'title': 'American ...   \n",
       "-1B9pP_CrRBJYPICE5WbRA  [{'alias': 'szechuan', 'title': 'Szechuan'}, {...   \n",
       "-1OKn2TRxsoZ1fZClMnnog  [{'alias': 'steak', 'title': 'Steakhouses'}, {...   \n",
       "-1XSzguS6XLN-V6MVZMg2A  [{'alias': 'cajun', 'title': 'Cajun/Creole'}, ...   \n",
       "-2oop6EYGWRY9avJWKbqYQ  [{'alias': 'pizza', 'title': 'Pizza'}, {'alias...   \n",
       "\n",
       "                                            city_x  \\\n",
       "--CprxtcUfzKoz29hAzm5w    Middlesex, Massachusetts   \n",
       "-1B9pP_CrRBJYPICE5WbRA  Philadelphia, Pennsylvania   \n",
       "-1OKn2TRxsoZ1fZClMnnog       Hartford, Connecticut   \n",
       "-1XSzguS6XLN-V6MVZMg2A        Jefferson, Louisiana   \n",
       "-2oop6EYGWRY9avJWKbqYQ            Nassau, New York   \n",
       "\n",
       "                                                              coordinates  \\\n",
       "--CprxtcUfzKoz29hAzm5w      {'latitude': 42.3469, 'longitude': -71.54837}   \n",
       "-1B9pP_CrRBJYPICE5WbRA  {'latitude': 39.950352, 'longitude': -75.1615829}   \n",
       "-1OKn2TRxsoZ1fZClMnnog   {'latitude': 41.721484, 'longitude': -72.622915}   \n",
       "-1XSzguS6XLN-V6MVZMg2A  {'latitude': 29.943528, 'longitude': -90.0654044}   \n",
       "-2oop6EYGWRY9avJWKbqYQ   {'latitude': 42.428024, 'longitude': -73.687987}   \n",
       "\n",
       "                        is_closed  \\\n",
       "--CprxtcUfzKoz29hAzm5w      False   \n",
       "-1B9pP_CrRBJYPICE5WbRA      False   \n",
       "-1OKn2TRxsoZ1fZClMnnog      False   \n",
       "-1XSzguS6XLN-V6MVZMg2A      False   \n",
       "-2oop6EYGWRY9avJWKbqYQ      False   \n",
       "\n",
       "                                                                 location  \\\n",
       "--CprxtcUfzKoz29hAzm5w  {'address1': '153 Main St', 'address2': '', 'a...   \n",
       "-1B9pP_CrRBJYPICE5WbRA  {'address1': '1228 Chestnut St', 'address2': '...   \n",
       "-1OKn2TRxsoZ1fZClMnnog  {'address1': '185 Glastonbury Blvd', 'address2...   \n",
       "-1XSzguS6XLN-V6MVZMg2A  {'address1': '857 Fulton St', 'address2': None...   \n",
       "-2oop6EYGWRY9avJWKbqYQ  {'address1': 'RR 9', 'address2': '', 'address3...   \n",
       "\n",
       "                                                                     name  \\\n",
       "--CprxtcUfzKoz29hAzm5w                                 Welly's Restaurant   \n",
       "-1B9pP_CrRBJYPICE5WbRA                                           Spice 28   \n",
       "-1OKn2TRxsoZ1fZClMnnog  J. Gilbert's Wood-Fired Steaks & Seafood Glast...   \n",
       "-1XSzguS6XLN-V6MVZMg2A                                 Restaurant Rebirth   \n",
       "-2oop6EYGWRY9avJWKbqYQ                   Four Brothers Pizza & Restaurant   \n",
       "\n",
       "                       price  rating  review_count  \\\n",
       "--CprxtcUfzKoz29hAzm5w    $$     4.0           170   \n",
       "-1B9pP_CrRBJYPICE5WbRA    $$     4.0           795   \n",
       "-1OKn2TRxsoZ1fZClMnnog   $$$     4.5           589   \n",
       "-1XSzguS6XLN-V6MVZMg2A   $$$     4.5           463   \n",
       "-2oop6EYGWRY9avJWKbqYQ    $$     3.0            41   \n",
       "\n",
       "                                                      transactions   author  \\\n",
       "--CprxtcUfzKoz29hAzm5w                                  [delivery]      NaN   \n",
       "-1B9pP_CrRBJYPICE5WbRA  [restaurant_reservation, delivery, pickup]      NaN   \n",
       "-1OKn2TRxsoZ1fZClMnnog                          [delivery, pickup]      NaN   \n",
       "-1XSzguS6XLN-V6MVZMg2A                                  [delivery]      NaN   \n",
       "-2oop6EYGWRY9avJWKbqYQ                                          []  John C.   \n",
       "\n",
       "                                  city_y  \\\n",
       "--CprxtcUfzKoz29hAzm5w               NaN   \n",
       "-1B9pP_CrRBJYPICE5WbRA               NaN   \n",
       "-1OKn2TRxsoZ1fZClMnnog               NaN   \n",
       "-1XSzguS6XLN-V6MVZMg2A               NaN   \n",
       "-2oop6EYGWRY9avJWKbqYQ  Nassau, New York   \n",
       "\n",
       "                                                              description  \\\n",
       "--CprxtcUfzKoz29hAzm5w                                                NaN   \n",
       "-1B9pP_CrRBJYPICE5WbRA                                                NaN   \n",
       "-1OKn2TRxsoZ1fZClMnnog                                                NaN   \n",
       "-1XSzguS6XLN-V6MVZMg2A                                                NaN   \n",
       "-2oop6EYGWRY9avJWKbqYQ  I don't know why they only average 3 stars and...   \n",
       "\n",
       "                       publish_date review_number  score  \n",
       "--CprxtcUfzKoz29hAzm5w          NaN           NaN    NaN  \n",
       "-1B9pP_CrRBJYPICE5WbRA          NaN           NaN    NaN  \n",
       "-1OKn2TRxsoZ1fZClMnnog          NaN           NaN    NaN  \n",
       "-1XSzguS6XLN-V6MVZMg2A          NaN           NaN    NaN  \n",
       "-2oop6EYGWRY9avJWKbqYQ   2020-02-01             1    4.0  "
      ]
     },
     "execution_count": 94,
     "metadata": {},
     "output_type": "execute_result"
    }
   ],
   "source": [
    "review_data = business_df.merge(current_reviews, how='left', left_index=True, right_index=True)\n",
    "review_data.head()"
   ]
  },
  {
   "cell_type": "code",
   "execution_count": 95,
   "metadata": {},
   "outputs": [],
   "source": [
    "now = datetime.now().strftime(\"%Y_%m_%d_%H_%M\")\n",
    "review_data.to_csv('review_data_{}.csv'.format(now))"
   ]
  },
  {
   "cell_type": "code",
   "execution_count": 104,
   "metadata": {},
   "outputs": [
    {
     "data": {
      "text/plain": [
       "(4639, 1689)"
      ]
     },
     "execution_count": 104,
     "metadata": {},
     "output_type": "execute_result"
    }
   ],
   "source": [
    "# rescrape businesses with no review data\n",
    "rescrape = review_data[review_data['publish_date'].isna()].index.to_list()\n",
    "rescrape_df = business_df[business_df.index.isin(rescrape)]\n",
    "len(business_df), len(rescrape_df)"
   ]
  },
  {
   "cell_type": "code",
   "execution_count": 105,
   "metadata": {},
   "outputs": [
    {
     "name": "stdout",
     "output_type": "stream",
     "text": [
      "Scraping Reviews for New York City, New York (10 restaurants)\n"
     ]
    },
    {
     "data": {
      "application/vnd.jupyter.widget-view+json": {
       "model_id": "e68c17533a45487186dccb95793f6e12",
       "version_major": 2,
       "version_minor": 0
      },
      "text/plain": [
       "HBox(children=(IntProgress(value=0, max=10), HTML(value='')))"
      ]
     },
     "metadata": {},
     "output_type": "display_data"
    },
    {
     "name": "stdout",
     "output_type": "stream",
     "text": [
      "Scraping Reviews for Suffolk, New York (1 restaurants)\n"
     ]
    },
    {
     "data": {
      "application/vnd.jupyter.widget-view+json": {
       "model_id": "8e9693acf4cb44f5b262045161729a38",
       "version_major": 2,
       "version_minor": 0
      },
      "text/plain": [
       "HBox(children=(IntProgress(value=0, max=1), HTML(value='')))"
      ]
     },
     "metadata": {},
     "output_type": "display_data"
    },
    {
     "name": "stdout",
     "output_type": "stream",
     "text": [
      "Scraping Reviews for Bergen, New Jersey (7 restaurants)\n"
     ]
    },
    {
     "data": {
      "application/vnd.jupyter.widget-view+json": {
       "model_id": "441b65e6923c4c7192531c4c790b230d",
       "version_major": 2,
       "version_minor": 0
      },
      "text/plain": [
       "HBox(children=(IntProgress(value=0, max=7), HTML(value='')))"
      ]
     },
     "metadata": {},
     "output_type": "display_data"
    },
    {
     "name": "stdout",
     "output_type": "stream",
     "text": [
      "Scraping Reviews for Fairfield, Connecticut (1 restaurants)\n"
     ]
    },
    {
     "data": {
      "application/vnd.jupyter.widget-view+json": {
       "model_id": "fe2c9b00eddc4c5ab99a11f0b06a85bd",
       "version_major": 2,
       "version_minor": 0
      },
      "text/plain": [
       "HBox(children=(IntProgress(value=0, max=1), HTML(value='')))"
      ]
     },
     "metadata": {},
     "output_type": "display_data"
    },
    {
     "name": "stdout",
     "output_type": "stream",
     "text": [
      "Scraping Reviews for Hudson, New Jersey (25 restaurants)\n"
     ]
    },
    {
     "data": {
      "application/vnd.jupyter.widget-view+json": {
       "model_id": "9e576b8e58f04e0795716d1b9c992bfc",
       "version_major": 2,
       "version_minor": 0
      },
      "text/plain": [
       "HBox(children=(IntProgress(value=0, max=25), HTML(value='')))"
      ]
     },
     "metadata": {},
     "output_type": "display_data"
    },
    {
     "name": "stdout",
     "output_type": "stream",
     "text": [
      "Scraping Reviews for Middlesex, New Jersey (146 restaurants)\n"
     ]
    },
    {
     "data": {
      "application/vnd.jupyter.widget-view+json": {
       "model_id": "fe0f82311d5e4a85a9a7a0a0ad9a37a7",
       "version_major": 2,
       "version_minor": 0
      },
      "text/plain": [
       "HBox(children=(IntProgress(value=0, max=146), HTML(value='')))"
      ]
     },
     "metadata": {},
     "output_type": "display_data"
    },
    {
     "ename": "KeyboardInterrupt",
     "evalue": "",
     "output_type": "error",
     "traceback": [
      "\u001b[0;31m---------------------------------------------------------------------------\u001b[0m",
      "\u001b[0;31mKeyboardInterrupt\u001b[0m                         Traceback (most recent call last)",
      "\u001b[0;32m<ipython-input-105-509759c8144a>\u001b[0m in \u001b[0;36m<module>\u001b[0;34m\u001b[0m\n\u001b[1;32m      1\u001b[0m \u001b[0mrescraped_reviews_2\u001b[0m \u001b[0;34m=\u001b[0m \u001b[0;34m{\u001b[0m\u001b[0;34m}\u001b[0m\u001b[0;34m\u001b[0m\u001b[0;34m\u001b[0m\u001b[0m\n\u001b[0;32m----> 2\u001b[0;31m \u001b[0mrescrape_reviews\u001b[0m\u001b[0;34m(\u001b[0m\u001b[0mrescrape_df\u001b[0m\u001b[0;34m,\u001b[0m \u001b[0mrescraped_reviews_2\u001b[0m\u001b[0;34m)\u001b[0m\u001b[0;34m\u001b[0m\u001b[0;34m\u001b[0m\u001b[0m\n\u001b[0m",
      "\u001b[0;32m<ipython-input-39-05ee6ab48502>\u001b[0m in \u001b[0;36mrescrape_reviews\u001b[0;34m(input_df, output_dict)\u001b[0m\n\u001b[1;32m     24\u001b[0m \u001b[0;34m\u001b[0m\u001b[0m\n\u001b[1;32m     25\u001b[0m                 \u001b[0;32mtry\u001b[0m\u001b[0;34m:\u001b[0m\u001b[0;34m\u001b[0m\u001b[0;34m\u001b[0m\u001b[0m\n\u001b[0;32m---> 26\u001b[0;31m                     \u001b[0;32mwith\u001b[0m \u001b[0murllib\u001b[0m\u001b[0;34m.\u001b[0m\u001b[0mrequest\u001b[0m\u001b[0;34m.\u001b[0m\u001b[0murlopen\u001b[0m\u001b[0;34m(\u001b[0m\u001b[0murl\u001b[0m\u001b[0;34m)\u001b[0m \u001b[0;32mas\u001b[0m \u001b[0murl\u001b[0m\u001b[0;34m:\u001b[0m\u001b[0;34m\u001b[0m\u001b[0;34m\u001b[0m\u001b[0m\n\u001b[0m\u001b[1;32m     27\u001b[0m                         \u001b[0mpage\u001b[0m \u001b[0;34m=\u001b[0m \u001b[0murl\u001b[0m\u001b[0;34m.\u001b[0m\u001b[0mread\u001b[0m\u001b[0;34m(\u001b[0m\u001b[0;34m)\u001b[0m\u001b[0;34m\u001b[0m\u001b[0;34m\u001b[0m\u001b[0m\n\u001b[1;32m     28\u001b[0m                         \u001b[0msoup\u001b[0m \u001b[0;34m=\u001b[0m \u001b[0mBeautifulSoup\u001b[0m\u001b[0;34m(\u001b[0m\u001b[0mpage\u001b[0m\u001b[0;34m,\u001b[0m \u001b[0;34m\"html.parser\"\u001b[0m\u001b[0;34m)\u001b[0m\u001b[0;34m\u001b[0m\u001b[0;34m\u001b[0m\u001b[0m\n",
      "\u001b[0;32m/Applications/anaconda3/lib/python3.7/urllib/request.py\u001b[0m in \u001b[0;36murlopen\u001b[0;34m(url, data, timeout, cafile, capath, cadefault, context)\u001b[0m\n\u001b[1;32m    220\u001b[0m     \u001b[0;32melse\u001b[0m\u001b[0;34m:\u001b[0m\u001b[0;34m\u001b[0m\u001b[0;34m\u001b[0m\u001b[0m\n\u001b[1;32m    221\u001b[0m         \u001b[0mopener\u001b[0m \u001b[0;34m=\u001b[0m \u001b[0m_opener\u001b[0m\u001b[0;34m\u001b[0m\u001b[0;34m\u001b[0m\u001b[0m\n\u001b[0;32m--> 222\u001b[0;31m     \u001b[0;32mreturn\u001b[0m \u001b[0mopener\u001b[0m\u001b[0;34m.\u001b[0m\u001b[0mopen\u001b[0m\u001b[0;34m(\u001b[0m\u001b[0murl\u001b[0m\u001b[0;34m,\u001b[0m \u001b[0mdata\u001b[0m\u001b[0;34m,\u001b[0m \u001b[0mtimeout\u001b[0m\u001b[0;34m)\u001b[0m\u001b[0;34m\u001b[0m\u001b[0;34m\u001b[0m\u001b[0m\n\u001b[0m\u001b[1;32m    223\u001b[0m \u001b[0;34m\u001b[0m\u001b[0m\n\u001b[1;32m    224\u001b[0m \u001b[0;32mdef\u001b[0m \u001b[0minstall_opener\u001b[0m\u001b[0;34m(\u001b[0m\u001b[0mopener\u001b[0m\u001b[0;34m)\u001b[0m\u001b[0;34m:\u001b[0m\u001b[0;34m\u001b[0m\u001b[0;34m\u001b[0m\u001b[0m\n",
      "\u001b[0;32m/Applications/anaconda3/lib/python3.7/urllib/request.py\u001b[0m in \u001b[0;36mopen\u001b[0;34m(self, fullurl, data, timeout)\u001b[0m\n\u001b[1;32m    529\u001b[0m         \u001b[0;32mfor\u001b[0m \u001b[0mprocessor\u001b[0m \u001b[0;32min\u001b[0m \u001b[0mself\u001b[0m\u001b[0;34m.\u001b[0m\u001b[0mprocess_response\u001b[0m\u001b[0;34m.\u001b[0m\u001b[0mget\u001b[0m\u001b[0;34m(\u001b[0m\u001b[0mprotocol\u001b[0m\u001b[0;34m,\u001b[0m \u001b[0;34m[\u001b[0m\u001b[0;34m]\u001b[0m\u001b[0;34m)\u001b[0m\u001b[0;34m:\u001b[0m\u001b[0;34m\u001b[0m\u001b[0;34m\u001b[0m\u001b[0m\n\u001b[1;32m    530\u001b[0m             \u001b[0mmeth\u001b[0m \u001b[0;34m=\u001b[0m \u001b[0mgetattr\u001b[0m\u001b[0;34m(\u001b[0m\u001b[0mprocessor\u001b[0m\u001b[0;34m,\u001b[0m \u001b[0mmeth_name\u001b[0m\u001b[0;34m)\u001b[0m\u001b[0;34m\u001b[0m\u001b[0;34m\u001b[0m\u001b[0m\n\u001b[0;32m--> 531\u001b[0;31m             \u001b[0mresponse\u001b[0m \u001b[0;34m=\u001b[0m \u001b[0mmeth\u001b[0m\u001b[0;34m(\u001b[0m\u001b[0mreq\u001b[0m\u001b[0;34m,\u001b[0m \u001b[0mresponse\u001b[0m\u001b[0;34m)\u001b[0m\u001b[0;34m\u001b[0m\u001b[0;34m\u001b[0m\u001b[0m\n\u001b[0m\u001b[1;32m    532\u001b[0m \u001b[0;34m\u001b[0m\u001b[0m\n\u001b[1;32m    533\u001b[0m         \u001b[0;32mreturn\u001b[0m \u001b[0mresponse\u001b[0m\u001b[0;34m\u001b[0m\u001b[0;34m\u001b[0m\u001b[0m\n",
      "\u001b[0;32m/Applications/anaconda3/lib/python3.7/urllib/request.py\u001b[0m in \u001b[0;36mhttp_response\u001b[0;34m(self, request, response)\u001b[0m\n\u001b[1;32m    639\u001b[0m         \u001b[0;32mif\u001b[0m \u001b[0;32mnot\u001b[0m \u001b[0;34m(\u001b[0m\u001b[0;36m200\u001b[0m \u001b[0;34m<=\u001b[0m \u001b[0mcode\u001b[0m \u001b[0;34m<\u001b[0m \u001b[0;36m300\u001b[0m\u001b[0;34m)\u001b[0m\u001b[0;34m:\u001b[0m\u001b[0;34m\u001b[0m\u001b[0;34m\u001b[0m\u001b[0m\n\u001b[1;32m    640\u001b[0m             response = self.parent.error(\n\u001b[0;32m--> 641\u001b[0;31m                 'http', request, response, code, msg, hdrs)\n\u001b[0m\u001b[1;32m    642\u001b[0m \u001b[0;34m\u001b[0m\u001b[0m\n\u001b[1;32m    643\u001b[0m         \u001b[0;32mreturn\u001b[0m \u001b[0mresponse\u001b[0m\u001b[0;34m\u001b[0m\u001b[0;34m\u001b[0m\u001b[0m\n",
      "\u001b[0;32m/Applications/anaconda3/lib/python3.7/urllib/request.py\u001b[0m in \u001b[0;36merror\u001b[0;34m(self, proto, *args)\u001b[0m\n\u001b[1;32m    561\u001b[0m             \u001b[0mhttp_err\u001b[0m \u001b[0;34m=\u001b[0m \u001b[0;36m0\u001b[0m\u001b[0;34m\u001b[0m\u001b[0;34m\u001b[0m\u001b[0m\n\u001b[1;32m    562\u001b[0m         \u001b[0margs\u001b[0m \u001b[0;34m=\u001b[0m \u001b[0;34m(\u001b[0m\u001b[0mdict\u001b[0m\u001b[0;34m,\u001b[0m \u001b[0mproto\u001b[0m\u001b[0;34m,\u001b[0m \u001b[0mmeth_name\u001b[0m\u001b[0;34m)\u001b[0m \u001b[0;34m+\u001b[0m \u001b[0margs\u001b[0m\u001b[0;34m\u001b[0m\u001b[0;34m\u001b[0m\u001b[0m\n\u001b[0;32m--> 563\u001b[0;31m         \u001b[0mresult\u001b[0m \u001b[0;34m=\u001b[0m \u001b[0mself\u001b[0m\u001b[0;34m.\u001b[0m\u001b[0m_call_chain\u001b[0m\u001b[0;34m(\u001b[0m\u001b[0;34m*\u001b[0m\u001b[0margs\u001b[0m\u001b[0;34m)\u001b[0m\u001b[0;34m\u001b[0m\u001b[0;34m\u001b[0m\u001b[0m\n\u001b[0m\u001b[1;32m    564\u001b[0m         \u001b[0;32mif\u001b[0m \u001b[0mresult\u001b[0m\u001b[0;34m:\u001b[0m\u001b[0;34m\u001b[0m\u001b[0;34m\u001b[0m\u001b[0m\n\u001b[1;32m    565\u001b[0m             \u001b[0;32mreturn\u001b[0m \u001b[0mresult\u001b[0m\u001b[0;34m\u001b[0m\u001b[0;34m\u001b[0m\u001b[0m\n",
      "\u001b[0;32m/Applications/anaconda3/lib/python3.7/urllib/request.py\u001b[0m in \u001b[0;36m_call_chain\u001b[0;34m(self, chain, kind, meth_name, *args)\u001b[0m\n\u001b[1;32m    501\u001b[0m         \u001b[0;32mfor\u001b[0m \u001b[0mhandler\u001b[0m \u001b[0;32min\u001b[0m \u001b[0mhandlers\u001b[0m\u001b[0;34m:\u001b[0m\u001b[0;34m\u001b[0m\u001b[0;34m\u001b[0m\u001b[0m\n\u001b[1;32m    502\u001b[0m             \u001b[0mfunc\u001b[0m \u001b[0;34m=\u001b[0m \u001b[0mgetattr\u001b[0m\u001b[0;34m(\u001b[0m\u001b[0mhandler\u001b[0m\u001b[0;34m,\u001b[0m \u001b[0mmeth_name\u001b[0m\u001b[0;34m)\u001b[0m\u001b[0;34m\u001b[0m\u001b[0;34m\u001b[0m\u001b[0m\n\u001b[0;32m--> 503\u001b[0;31m             \u001b[0mresult\u001b[0m \u001b[0;34m=\u001b[0m \u001b[0mfunc\u001b[0m\u001b[0;34m(\u001b[0m\u001b[0;34m*\u001b[0m\u001b[0margs\u001b[0m\u001b[0;34m)\u001b[0m\u001b[0;34m\u001b[0m\u001b[0;34m\u001b[0m\u001b[0m\n\u001b[0m\u001b[1;32m    504\u001b[0m             \u001b[0;32mif\u001b[0m \u001b[0mresult\u001b[0m \u001b[0;32mis\u001b[0m \u001b[0;32mnot\u001b[0m \u001b[0;32mNone\u001b[0m\u001b[0;34m:\u001b[0m\u001b[0;34m\u001b[0m\u001b[0;34m\u001b[0m\u001b[0m\n\u001b[1;32m    505\u001b[0m                 \u001b[0;32mreturn\u001b[0m \u001b[0mresult\u001b[0m\u001b[0;34m\u001b[0m\u001b[0;34m\u001b[0m\u001b[0m\n",
      "\u001b[0;32m/Applications/anaconda3/lib/python3.7/urllib/request.py\u001b[0m in \u001b[0;36mhttp_error_302\u001b[0;34m(self, req, fp, code, msg, headers)\u001b[0m\n\u001b[1;32m    753\u001b[0m         \u001b[0mfp\u001b[0m\u001b[0;34m.\u001b[0m\u001b[0mclose\u001b[0m\u001b[0;34m(\u001b[0m\u001b[0;34m)\u001b[0m\u001b[0;34m\u001b[0m\u001b[0;34m\u001b[0m\u001b[0m\n\u001b[1;32m    754\u001b[0m \u001b[0;34m\u001b[0m\u001b[0m\n\u001b[0;32m--> 755\u001b[0;31m         \u001b[0;32mreturn\u001b[0m \u001b[0mself\u001b[0m\u001b[0;34m.\u001b[0m\u001b[0mparent\u001b[0m\u001b[0;34m.\u001b[0m\u001b[0mopen\u001b[0m\u001b[0;34m(\u001b[0m\u001b[0mnew\u001b[0m\u001b[0;34m,\u001b[0m \u001b[0mtimeout\u001b[0m\u001b[0;34m=\u001b[0m\u001b[0mreq\u001b[0m\u001b[0;34m.\u001b[0m\u001b[0mtimeout\u001b[0m\u001b[0;34m)\u001b[0m\u001b[0;34m\u001b[0m\u001b[0;34m\u001b[0m\u001b[0m\n\u001b[0m\u001b[1;32m    756\u001b[0m \u001b[0;34m\u001b[0m\u001b[0m\n\u001b[1;32m    757\u001b[0m     \u001b[0mhttp_error_301\u001b[0m \u001b[0;34m=\u001b[0m \u001b[0mhttp_error_303\u001b[0m \u001b[0;34m=\u001b[0m \u001b[0mhttp_error_307\u001b[0m \u001b[0;34m=\u001b[0m \u001b[0mhttp_error_302\u001b[0m\u001b[0;34m\u001b[0m\u001b[0;34m\u001b[0m\u001b[0m\n",
      "\u001b[0;32m/Applications/anaconda3/lib/python3.7/urllib/request.py\u001b[0m in \u001b[0;36mopen\u001b[0;34m(self, fullurl, data, timeout)\u001b[0m\n\u001b[1;32m    523\u001b[0m             \u001b[0mreq\u001b[0m \u001b[0;34m=\u001b[0m \u001b[0mmeth\u001b[0m\u001b[0;34m(\u001b[0m\u001b[0mreq\u001b[0m\u001b[0;34m)\u001b[0m\u001b[0;34m\u001b[0m\u001b[0;34m\u001b[0m\u001b[0m\n\u001b[1;32m    524\u001b[0m \u001b[0;34m\u001b[0m\u001b[0m\n\u001b[0;32m--> 525\u001b[0;31m         \u001b[0mresponse\u001b[0m \u001b[0;34m=\u001b[0m \u001b[0mself\u001b[0m\u001b[0;34m.\u001b[0m\u001b[0m_open\u001b[0m\u001b[0;34m(\u001b[0m\u001b[0mreq\u001b[0m\u001b[0;34m,\u001b[0m \u001b[0mdata\u001b[0m\u001b[0;34m)\u001b[0m\u001b[0;34m\u001b[0m\u001b[0;34m\u001b[0m\u001b[0m\n\u001b[0m\u001b[1;32m    526\u001b[0m \u001b[0;34m\u001b[0m\u001b[0m\n\u001b[1;32m    527\u001b[0m         \u001b[0;31m# post-process response\u001b[0m\u001b[0;34m\u001b[0m\u001b[0;34m\u001b[0m\u001b[0;34m\u001b[0m\u001b[0m\n",
      "\u001b[0;32m/Applications/anaconda3/lib/python3.7/urllib/request.py\u001b[0m in \u001b[0;36m_open\u001b[0;34m(self, req, data)\u001b[0m\n\u001b[1;32m    541\u001b[0m         \u001b[0mprotocol\u001b[0m \u001b[0;34m=\u001b[0m \u001b[0mreq\u001b[0m\u001b[0;34m.\u001b[0m\u001b[0mtype\u001b[0m\u001b[0;34m\u001b[0m\u001b[0;34m\u001b[0m\u001b[0m\n\u001b[1;32m    542\u001b[0m         result = self._call_chain(self.handle_open, protocol, protocol +\n\u001b[0;32m--> 543\u001b[0;31m                                   '_open', req)\n\u001b[0m\u001b[1;32m    544\u001b[0m         \u001b[0;32mif\u001b[0m \u001b[0mresult\u001b[0m\u001b[0;34m:\u001b[0m\u001b[0;34m\u001b[0m\u001b[0;34m\u001b[0m\u001b[0m\n\u001b[1;32m    545\u001b[0m             \u001b[0;32mreturn\u001b[0m \u001b[0mresult\u001b[0m\u001b[0;34m\u001b[0m\u001b[0;34m\u001b[0m\u001b[0m\n",
      "\u001b[0;32m/Applications/anaconda3/lib/python3.7/urllib/request.py\u001b[0m in \u001b[0;36m_call_chain\u001b[0;34m(self, chain, kind, meth_name, *args)\u001b[0m\n\u001b[1;32m    501\u001b[0m         \u001b[0;32mfor\u001b[0m \u001b[0mhandler\u001b[0m \u001b[0;32min\u001b[0m \u001b[0mhandlers\u001b[0m\u001b[0;34m:\u001b[0m\u001b[0;34m\u001b[0m\u001b[0;34m\u001b[0m\u001b[0m\n\u001b[1;32m    502\u001b[0m             \u001b[0mfunc\u001b[0m \u001b[0;34m=\u001b[0m \u001b[0mgetattr\u001b[0m\u001b[0;34m(\u001b[0m\u001b[0mhandler\u001b[0m\u001b[0;34m,\u001b[0m \u001b[0mmeth_name\u001b[0m\u001b[0;34m)\u001b[0m\u001b[0;34m\u001b[0m\u001b[0;34m\u001b[0m\u001b[0m\n\u001b[0;32m--> 503\u001b[0;31m             \u001b[0mresult\u001b[0m \u001b[0;34m=\u001b[0m \u001b[0mfunc\u001b[0m\u001b[0;34m(\u001b[0m\u001b[0;34m*\u001b[0m\u001b[0margs\u001b[0m\u001b[0;34m)\u001b[0m\u001b[0;34m\u001b[0m\u001b[0;34m\u001b[0m\u001b[0m\n\u001b[0m\u001b[1;32m    504\u001b[0m             \u001b[0;32mif\u001b[0m \u001b[0mresult\u001b[0m \u001b[0;32mis\u001b[0m \u001b[0;32mnot\u001b[0m \u001b[0;32mNone\u001b[0m\u001b[0;34m:\u001b[0m\u001b[0;34m\u001b[0m\u001b[0;34m\u001b[0m\u001b[0m\n\u001b[1;32m    505\u001b[0m                 \u001b[0;32mreturn\u001b[0m \u001b[0mresult\u001b[0m\u001b[0;34m\u001b[0m\u001b[0;34m\u001b[0m\u001b[0m\n",
      "\u001b[0;32m/Applications/anaconda3/lib/python3.7/urllib/request.py\u001b[0m in \u001b[0;36mhttps_open\u001b[0;34m(self, req)\u001b[0m\n\u001b[1;32m   1358\u001b[0m         \u001b[0;32mdef\u001b[0m \u001b[0mhttps_open\u001b[0m\u001b[0;34m(\u001b[0m\u001b[0mself\u001b[0m\u001b[0;34m,\u001b[0m \u001b[0mreq\u001b[0m\u001b[0;34m)\u001b[0m\u001b[0;34m:\u001b[0m\u001b[0;34m\u001b[0m\u001b[0;34m\u001b[0m\u001b[0m\n\u001b[1;32m   1359\u001b[0m             return self.do_open(http.client.HTTPSConnection, req,\n\u001b[0;32m-> 1360\u001b[0;31m                 context=self._context, check_hostname=self._check_hostname)\n\u001b[0m\u001b[1;32m   1361\u001b[0m \u001b[0;34m\u001b[0m\u001b[0m\n\u001b[1;32m   1362\u001b[0m         \u001b[0mhttps_request\u001b[0m \u001b[0;34m=\u001b[0m \u001b[0mAbstractHTTPHandler\u001b[0m\u001b[0;34m.\u001b[0m\u001b[0mdo_request_\u001b[0m\u001b[0;34m\u001b[0m\u001b[0;34m\u001b[0m\u001b[0m\n",
      "\u001b[0;32m/Applications/anaconda3/lib/python3.7/urllib/request.py\u001b[0m in \u001b[0;36mdo_open\u001b[0;34m(self, http_class, req, **http_conn_args)\u001b[0m\n\u001b[1;32m   1318\u001b[0m             \u001b[0;32mexcept\u001b[0m \u001b[0mOSError\u001b[0m \u001b[0;32mas\u001b[0m \u001b[0merr\u001b[0m\u001b[0;34m:\u001b[0m \u001b[0;31m# timeout error\u001b[0m\u001b[0;34m\u001b[0m\u001b[0;34m\u001b[0m\u001b[0m\n\u001b[1;32m   1319\u001b[0m                 \u001b[0;32mraise\u001b[0m \u001b[0mURLError\u001b[0m\u001b[0;34m(\u001b[0m\u001b[0merr\u001b[0m\u001b[0;34m)\u001b[0m\u001b[0;34m\u001b[0m\u001b[0;34m\u001b[0m\u001b[0m\n\u001b[0;32m-> 1320\u001b[0;31m             \u001b[0mr\u001b[0m \u001b[0;34m=\u001b[0m \u001b[0mh\u001b[0m\u001b[0;34m.\u001b[0m\u001b[0mgetresponse\u001b[0m\u001b[0;34m(\u001b[0m\u001b[0;34m)\u001b[0m\u001b[0;34m\u001b[0m\u001b[0;34m\u001b[0m\u001b[0m\n\u001b[0m\u001b[1;32m   1321\u001b[0m         \u001b[0;32mexcept\u001b[0m\u001b[0;34m:\u001b[0m\u001b[0;34m\u001b[0m\u001b[0;34m\u001b[0m\u001b[0m\n\u001b[1;32m   1322\u001b[0m             \u001b[0mh\u001b[0m\u001b[0;34m.\u001b[0m\u001b[0mclose\u001b[0m\u001b[0;34m(\u001b[0m\u001b[0;34m)\u001b[0m\u001b[0;34m\u001b[0m\u001b[0;34m\u001b[0m\u001b[0m\n",
      "\u001b[0;32m/Applications/anaconda3/lib/python3.7/http/client.py\u001b[0m in \u001b[0;36mgetresponse\u001b[0;34m(self)\u001b[0m\n\u001b[1;32m   1319\u001b[0m         \u001b[0;32mtry\u001b[0m\u001b[0;34m:\u001b[0m\u001b[0;34m\u001b[0m\u001b[0;34m\u001b[0m\u001b[0m\n\u001b[1;32m   1320\u001b[0m             \u001b[0;32mtry\u001b[0m\u001b[0;34m:\u001b[0m\u001b[0;34m\u001b[0m\u001b[0;34m\u001b[0m\u001b[0m\n\u001b[0;32m-> 1321\u001b[0;31m                 \u001b[0mresponse\u001b[0m\u001b[0;34m.\u001b[0m\u001b[0mbegin\u001b[0m\u001b[0;34m(\u001b[0m\u001b[0;34m)\u001b[0m\u001b[0;34m\u001b[0m\u001b[0;34m\u001b[0m\u001b[0m\n\u001b[0m\u001b[1;32m   1322\u001b[0m             \u001b[0;32mexcept\u001b[0m \u001b[0mConnectionError\u001b[0m\u001b[0;34m:\u001b[0m\u001b[0;34m\u001b[0m\u001b[0;34m\u001b[0m\u001b[0m\n\u001b[1;32m   1323\u001b[0m                 \u001b[0mself\u001b[0m\u001b[0;34m.\u001b[0m\u001b[0mclose\u001b[0m\u001b[0;34m(\u001b[0m\u001b[0;34m)\u001b[0m\u001b[0;34m\u001b[0m\u001b[0;34m\u001b[0m\u001b[0m\n",
      "\u001b[0;32m/Applications/anaconda3/lib/python3.7/http/client.py\u001b[0m in \u001b[0;36mbegin\u001b[0;34m(self)\u001b[0m\n\u001b[1;32m    294\u001b[0m         \u001b[0;31m# read until we get a non-100 response\u001b[0m\u001b[0;34m\u001b[0m\u001b[0;34m\u001b[0m\u001b[0;34m\u001b[0m\u001b[0m\n\u001b[1;32m    295\u001b[0m         \u001b[0;32mwhile\u001b[0m \u001b[0;32mTrue\u001b[0m\u001b[0;34m:\u001b[0m\u001b[0;34m\u001b[0m\u001b[0;34m\u001b[0m\u001b[0m\n\u001b[0;32m--> 296\u001b[0;31m             \u001b[0mversion\u001b[0m\u001b[0;34m,\u001b[0m \u001b[0mstatus\u001b[0m\u001b[0;34m,\u001b[0m \u001b[0mreason\u001b[0m \u001b[0;34m=\u001b[0m \u001b[0mself\u001b[0m\u001b[0;34m.\u001b[0m\u001b[0m_read_status\u001b[0m\u001b[0;34m(\u001b[0m\u001b[0;34m)\u001b[0m\u001b[0;34m\u001b[0m\u001b[0;34m\u001b[0m\u001b[0m\n\u001b[0m\u001b[1;32m    297\u001b[0m             \u001b[0;32mif\u001b[0m \u001b[0mstatus\u001b[0m \u001b[0;34m!=\u001b[0m \u001b[0mCONTINUE\u001b[0m\u001b[0;34m:\u001b[0m\u001b[0;34m\u001b[0m\u001b[0;34m\u001b[0m\u001b[0m\n\u001b[1;32m    298\u001b[0m                 \u001b[0;32mbreak\u001b[0m\u001b[0;34m\u001b[0m\u001b[0;34m\u001b[0m\u001b[0m\n",
      "\u001b[0;32m/Applications/anaconda3/lib/python3.7/http/client.py\u001b[0m in \u001b[0;36m_read_status\u001b[0;34m(self)\u001b[0m\n\u001b[1;32m    255\u001b[0m \u001b[0;34m\u001b[0m\u001b[0m\n\u001b[1;32m    256\u001b[0m     \u001b[0;32mdef\u001b[0m \u001b[0m_read_status\u001b[0m\u001b[0;34m(\u001b[0m\u001b[0mself\u001b[0m\u001b[0;34m)\u001b[0m\u001b[0;34m:\u001b[0m\u001b[0;34m\u001b[0m\u001b[0;34m\u001b[0m\u001b[0m\n\u001b[0;32m--> 257\u001b[0;31m         \u001b[0mline\u001b[0m \u001b[0;34m=\u001b[0m \u001b[0mstr\u001b[0m\u001b[0;34m(\u001b[0m\u001b[0mself\u001b[0m\u001b[0;34m.\u001b[0m\u001b[0mfp\u001b[0m\u001b[0;34m.\u001b[0m\u001b[0mreadline\u001b[0m\u001b[0;34m(\u001b[0m\u001b[0m_MAXLINE\u001b[0m \u001b[0;34m+\u001b[0m \u001b[0;36m1\u001b[0m\u001b[0;34m)\u001b[0m\u001b[0;34m,\u001b[0m \u001b[0;34m\"iso-8859-1\"\u001b[0m\u001b[0;34m)\u001b[0m\u001b[0;34m\u001b[0m\u001b[0;34m\u001b[0m\u001b[0m\n\u001b[0m\u001b[1;32m    258\u001b[0m         \u001b[0;32mif\u001b[0m \u001b[0mlen\u001b[0m\u001b[0;34m(\u001b[0m\u001b[0mline\u001b[0m\u001b[0;34m)\u001b[0m \u001b[0;34m>\u001b[0m \u001b[0m_MAXLINE\u001b[0m\u001b[0;34m:\u001b[0m\u001b[0;34m\u001b[0m\u001b[0;34m\u001b[0m\u001b[0m\n\u001b[1;32m    259\u001b[0m             \u001b[0;32mraise\u001b[0m \u001b[0mLineTooLong\u001b[0m\u001b[0;34m(\u001b[0m\u001b[0;34m\"status line\"\u001b[0m\u001b[0;34m)\u001b[0m\u001b[0;34m\u001b[0m\u001b[0;34m\u001b[0m\u001b[0m\n",
      "\u001b[0;32m/Applications/anaconda3/lib/python3.7/socket.py\u001b[0m in \u001b[0;36mreadinto\u001b[0;34m(self, b)\u001b[0m\n\u001b[1;32m    587\u001b[0m         \u001b[0;32mwhile\u001b[0m \u001b[0;32mTrue\u001b[0m\u001b[0;34m:\u001b[0m\u001b[0;34m\u001b[0m\u001b[0;34m\u001b[0m\u001b[0m\n\u001b[1;32m    588\u001b[0m             \u001b[0;32mtry\u001b[0m\u001b[0;34m:\u001b[0m\u001b[0;34m\u001b[0m\u001b[0;34m\u001b[0m\u001b[0m\n\u001b[0;32m--> 589\u001b[0;31m                 \u001b[0;32mreturn\u001b[0m \u001b[0mself\u001b[0m\u001b[0;34m.\u001b[0m\u001b[0m_sock\u001b[0m\u001b[0;34m.\u001b[0m\u001b[0mrecv_into\u001b[0m\u001b[0;34m(\u001b[0m\u001b[0mb\u001b[0m\u001b[0;34m)\u001b[0m\u001b[0;34m\u001b[0m\u001b[0;34m\u001b[0m\u001b[0m\n\u001b[0m\u001b[1;32m    590\u001b[0m             \u001b[0;32mexcept\u001b[0m \u001b[0mtimeout\u001b[0m\u001b[0;34m:\u001b[0m\u001b[0;34m\u001b[0m\u001b[0;34m\u001b[0m\u001b[0m\n\u001b[1;32m    591\u001b[0m                 \u001b[0mself\u001b[0m\u001b[0;34m.\u001b[0m\u001b[0m_timeout_occurred\u001b[0m \u001b[0;34m=\u001b[0m \u001b[0;32mTrue\u001b[0m\u001b[0;34m\u001b[0m\u001b[0;34m\u001b[0m\u001b[0m\n",
      "\u001b[0;32m/Applications/anaconda3/lib/python3.7/ssl.py\u001b[0m in \u001b[0;36mrecv_into\u001b[0;34m(self, buffer, nbytes, flags)\u001b[0m\n\u001b[1;32m   1050\u001b[0m                   \u001b[0;34m\"non-zero flags not allowed in calls to recv_into() on %s\"\u001b[0m \u001b[0;34m%\u001b[0m\u001b[0;34m\u001b[0m\u001b[0;34m\u001b[0m\u001b[0m\n\u001b[1;32m   1051\u001b[0m                   self.__class__)\n\u001b[0;32m-> 1052\u001b[0;31m             \u001b[0;32mreturn\u001b[0m \u001b[0mself\u001b[0m\u001b[0;34m.\u001b[0m\u001b[0mread\u001b[0m\u001b[0;34m(\u001b[0m\u001b[0mnbytes\u001b[0m\u001b[0;34m,\u001b[0m \u001b[0mbuffer\u001b[0m\u001b[0;34m)\u001b[0m\u001b[0;34m\u001b[0m\u001b[0;34m\u001b[0m\u001b[0m\n\u001b[0m\u001b[1;32m   1053\u001b[0m         \u001b[0;32melse\u001b[0m\u001b[0;34m:\u001b[0m\u001b[0;34m\u001b[0m\u001b[0;34m\u001b[0m\u001b[0m\n\u001b[1;32m   1054\u001b[0m             \u001b[0;32mreturn\u001b[0m \u001b[0msuper\u001b[0m\u001b[0;34m(\u001b[0m\u001b[0;34m)\u001b[0m\u001b[0;34m.\u001b[0m\u001b[0mrecv_into\u001b[0m\u001b[0;34m(\u001b[0m\u001b[0mbuffer\u001b[0m\u001b[0;34m,\u001b[0m \u001b[0mnbytes\u001b[0m\u001b[0;34m,\u001b[0m \u001b[0mflags\u001b[0m\u001b[0;34m)\u001b[0m\u001b[0;34m\u001b[0m\u001b[0;34m\u001b[0m\u001b[0m\n",
      "\u001b[0;32m/Applications/anaconda3/lib/python3.7/ssl.py\u001b[0m in \u001b[0;36mread\u001b[0;34m(self, len, buffer)\u001b[0m\n\u001b[1;32m    909\u001b[0m         \u001b[0;32mtry\u001b[0m\u001b[0;34m:\u001b[0m\u001b[0;34m\u001b[0m\u001b[0;34m\u001b[0m\u001b[0m\n\u001b[1;32m    910\u001b[0m             \u001b[0;32mif\u001b[0m \u001b[0mbuffer\u001b[0m \u001b[0;32mis\u001b[0m \u001b[0;32mnot\u001b[0m \u001b[0;32mNone\u001b[0m\u001b[0;34m:\u001b[0m\u001b[0;34m\u001b[0m\u001b[0;34m\u001b[0m\u001b[0m\n\u001b[0;32m--> 911\u001b[0;31m                 \u001b[0;32mreturn\u001b[0m \u001b[0mself\u001b[0m\u001b[0;34m.\u001b[0m\u001b[0m_sslobj\u001b[0m\u001b[0;34m.\u001b[0m\u001b[0mread\u001b[0m\u001b[0;34m(\u001b[0m\u001b[0mlen\u001b[0m\u001b[0;34m,\u001b[0m \u001b[0mbuffer\u001b[0m\u001b[0;34m)\u001b[0m\u001b[0;34m\u001b[0m\u001b[0;34m\u001b[0m\u001b[0m\n\u001b[0m\u001b[1;32m    912\u001b[0m             \u001b[0;32melse\u001b[0m\u001b[0;34m:\u001b[0m\u001b[0;34m\u001b[0m\u001b[0;34m\u001b[0m\u001b[0m\n\u001b[1;32m    913\u001b[0m                 \u001b[0;32mreturn\u001b[0m \u001b[0mself\u001b[0m\u001b[0;34m.\u001b[0m\u001b[0m_sslobj\u001b[0m\u001b[0;34m.\u001b[0m\u001b[0mread\u001b[0m\u001b[0;34m(\u001b[0m\u001b[0mlen\u001b[0m\u001b[0;34m)\u001b[0m\u001b[0;34m\u001b[0m\u001b[0;34m\u001b[0m\u001b[0m\n",
      "\u001b[0;31mKeyboardInterrupt\u001b[0m: "
     ]
    }
   ],
   "source": [
    "rescraped_reviews_2 = {}\n",
    "rescrape_reviews(rescrape_df, rescraped_reviews_2)"
   ]
  },
  {
   "cell_type": "code",
   "execution_count": null,
   "metadata": {},
   "outputs": [],
   "source": [
    "# stopped script to check something out"
   ]
  },
  {
   "cell_type": "code",
   "execution_count": 106,
   "metadata": {},
   "outputs": [
    {
     "data": {
      "text/html": [
       "<div>\n",
       "<style scoped>\n",
       "    .dataframe tbody tr th:only-of-type {\n",
       "        vertical-align: middle;\n",
       "    }\n",
       "\n",
       "    .dataframe tbody tr th {\n",
       "        vertical-align: top;\n",
       "    }\n",
       "\n",
       "    .dataframe thead th {\n",
       "        text-align: right;\n",
       "    }\n",
       "</style>\n",
       "<table border=\"1\" class=\"dataframe\">\n",
       "  <thead>\n",
       "    <tr style=\"text-align: right;\">\n",
       "      <th></th>\n",
       "      <th>author</th>\n",
       "      <th>city</th>\n",
       "      <th>description</th>\n",
       "      <th>publish_date</th>\n",
       "      <th>review_number</th>\n",
       "      <th>score</th>\n",
       "    </tr>\n",
       "    <tr>\n",
       "      <th>id</th>\n",
       "      <th></th>\n",
       "      <th></th>\n",
       "      <th></th>\n",
       "      <th></th>\n",
       "      <th></th>\n",
       "      <th></th>\n",
       "    </tr>\n",
       "  </thead>\n",
       "  <tbody>\n",
       "    <tr>\n",
       "      <th>0CjK3esfpFcxIopebzjFxA</th>\n",
       "      <td>Sarah M.</td>\n",
       "      <td>Hudson, New Jersey</td>\n",
       "      <td>I love the new location. It is very hip! Somet...</td>\n",
       "      <td>2020-04-14</td>\n",
       "      <td>1</td>\n",
       "      <td>5.0</td>\n",
       "    </tr>\n",
       "    <tr>\n",
       "      <th>0CjK3esfpFcxIopebzjFxA</th>\n",
       "      <td>Al S.</td>\n",
       "      <td>Hudson, New Jersey</td>\n",
       "      <td>They treat their customers like crap.  The wai...</td>\n",
       "      <td>2020-04-17</td>\n",
       "      <td>2</td>\n",
       "      <td>1.0</td>\n",
       "    </tr>\n",
       "    <tr>\n",
       "      <th>0CjK3esfpFcxIopebzjFxA</th>\n",
       "      <td>Christa P.</td>\n",
       "      <td>Hudson, New Jersey</td>\n",
       "      <td>Came here on monday afternoon where the restau...</td>\n",
       "      <td>2020-04-09</td>\n",
       "      <td>3</td>\n",
       "      <td>1.0</td>\n",
       "    </tr>\n",
       "    <tr>\n",
       "      <th>0CjK3esfpFcxIopebzjFxA</th>\n",
       "      <td>Tyler T.</td>\n",
       "      <td>Hudson, New Jersey</td>\n",
       "      <td>Honestly, pretty average Xiao Long Bao, I'm no...</td>\n",
       "      <td>2020-04-04</td>\n",
       "      <td>4</td>\n",
       "      <td>3.0</td>\n",
       "    </tr>\n",
       "    <tr>\n",
       "      <th>0CjK3esfpFcxIopebzjFxA</th>\n",
       "      <td>Cynthia S.</td>\n",
       "      <td>Hudson, New Jersey</td>\n",
       "      <td>I Never wanted to try Joe's Shanghai based on ...</td>\n",
       "      <td>2020-02-20</td>\n",
       "      <td>5</td>\n",
       "      <td>2.0</td>\n",
       "    </tr>\n",
       "  </tbody>\n",
       "</table>\n",
       "</div>"
      ],
      "text/plain": [
       "                            author                city  \\\n",
       "id                                                       \n",
       "0CjK3esfpFcxIopebzjFxA    Sarah M.  Hudson, New Jersey   \n",
       "0CjK3esfpFcxIopebzjFxA       Al S.  Hudson, New Jersey   \n",
       "0CjK3esfpFcxIopebzjFxA  Christa P.  Hudson, New Jersey   \n",
       "0CjK3esfpFcxIopebzjFxA    Tyler T.  Hudson, New Jersey   \n",
       "0CjK3esfpFcxIopebzjFxA  Cynthia S.  Hudson, New Jersey   \n",
       "\n",
       "                                                              description  \\\n",
       "id                                                                          \n",
       "0CjK3esfpFcxIopebzjFxA  I love the new location. It is very hip! Somet...   \n",
       "0CjK3esfpFcxIopebzjFxA  They treat their customers like crap.  The wai...   \n",
       "0CjK3esfpFcxIopebzjFxA  Came here on monday afternoon where the restau...   \n",
       "0CjK3esfpFcxIopebzjFxA  Honestly, pretty average Xiao Long Bao, I'm no...   \n",
       "0CjK3esfpFcxIopebzjFxA  I Never wanted to try Joe's Shanghai based on ...   \n",
       "\n",
       "                       publish_date review_number  score  \n",
       "id                                                        \n",
       "0CjK3esfpFcxIopebzjFxA   2020-04-14             1    5.0  \n",
       "0CjK3esfpFcxIopebzjFxA   2020-04-17             2    1.0  \n",
       "0CjK3esfpFcxIopebzjFxA   2020-04-09             3    1.0  \n",
       "0CjK3esfpFcxIopebzjFxA   2020-04-04             4    3.0  \n",
       "0CjK3esfpFcxIopebzjFxA   2020-02-20             5    2.0  "
      ]
     },
     "execution_count": 106,
     "metadata": {},
     "output_type": "execute_result"
    }
   ],
   "source": [
    "# parse nested dictionary into a dataframe\n",
    "df3 = pd.DataFrame()\n",
    "for restaurant in rescraped_reviews_2:\n",
    "    restaurant_df = pd.DataFrame.from_dict(rescraped_reviews_2[restaurant], orient='index')\n",
    "    restaurant_df['id'] = restaurant\n",
    "    restaurant_df = restaurant_df.reset_index().set_index('id').rename(columns={'index':'review_number'})\n",
    "    df3 = df3.append(restaurant_df)\n",
    "    \n",
    "df3.head()"
   ]
  },
  {
   "cell_type": "code",
   "execution_count": 107,
   "metadata": {},
   "outputs": [
    {
     "data": {
      "text/html": [
       "<div>\n",
       "<style scoped>\n",
       "    .dataframe tbody tr th:only-of-type {\n",
       "        vertical-align: middle;\n",
       "    }\n",
       "\n",
       "    .dataframe tbody tr th {\n",
       "        vertical-align: top;\n",
       "    }\n",
       "\n",
       "    .dataframe thead th {\n",
       "        text-align: right;\n",
       "    }\n",
       "</style>\n",
       "<table border=\"1\" class=\"dataframe\">\n",
       "  <thead>\n",
       "    <tr style=\"text-align: right;\">\n",
       "      <th></th>\n",
       "      <th>author</th>\n",
       "      <th>city</th>\n",
       "      <th>description</th>\n",
       "      <th>publish_date</th>\n",
       "      <th>review_number</th>\n",
       "      <th>score</th>\n",
       "    </tr>\n",
       "    <tr>\n",
       "      <th>id</th>\n",
       "      <th></th>\n",
       "      <th></th>\n",
       "      <th></th>\n",
       "      <th></th>\n",
       "      <th></th>\n",
       "      <th></th>\n",
       "    </tr>\n",
       "  </thead>\n",
       "  <tbody>\n",
       "  </tbody>\n",
       "</table>\n",
       "</div>"
      ],
      "text/plain": [
       "Empty DataFrame\n",
       "Columns: [author, city, description, publish_date, review_number, score]\n",
       "Index: []"
      ]
     },
     "execution_count": 107,
     "metadata": {},
     "output_type": "execute_result"
    }
   ],
   "source": [
    "# combine reviews scraped so far\n",
    "current_reviews_2 = current_reviews.append(df3)\n",
    "\n",
    "# no duplicates\n",
    "current_reviews_2[current_reviews_2.duplicated()]"
   ]
  },
  {
   "cell_type": "code",
   "execution_count": 109,
   "metadata": {},
   "outputs": [
    {
     "data": {
      "text/html": [
       "<div>\n",
       "<style scoped>\n",
       "    .dataframe tbody tr th:only-of-type {\n",
       "        vertical-align: middle;\n",
       "    }\n",
       "\n",
       "    .dataframe tbody tr th {\n",
       "        vertical-align: top;\n",
       "    }\n",
       "\n",
       "    .dataframe thead th {\n",
       "        text-align: right;\n",
       "    }\n",
       "</style>\n",
       "<table border=\"1\" class=\"dataframe\">\n",
       "  <thead>\n",
       "    <tr style=\"text-align: right;\">\n",
       "      <th></th>\n",
       "      <th>alias</th>\n",
       "      <th>categories</th>\n",
       "      <th>city_x</th>\n",
       "      <th>coordinates</th>\n",
       "      <th>is_closed</th>\n",
       "      <th>location</th>\n",
       "      <th>name</th>\n",
       "      <th>price</th>\n",
       "      <th>rating</th>\n",
       "      <th>review_count</th>\n",
       "      <th>transactions</th>\n",
       "      <th>author</th>\n",
       "      <th>city_y</th>\n",
       "      <th>description</th>\n",
       "      <th>publish_date</th>\n",
       "      <th>review_number</th>\n",
       "      <th>score</th>\n",
       "    </tr>\n",
       "  </thead>\n",
       "  <tbody>\n",
       "    <tr>\n",
       "      <th>--CprxtcUfzKoz29hAzm5w</th>\n",
       "      <td>wellys-restaurant-marlborough</td>\n",
       "      <td>[{'alias': 'tradamerican', 'title': 'American ...</td>\n",
       "      <td>Middlesex, Massachusetts</td>\n",
       "      <td>{'latitude': 42.3469, 'longitude': -71.54837}</td>\n",
       "      <td>False</td>\n",
       "      <td>{'address1': '153 Main St', 'address2': '', 'a...</td>\n",
       "      <td>Welly's Restaurant</td>\n",
       "      <td>$$</td>\n",
       "      <td>4.0</td>\n",
       "      <td>170</td>\n",
       "      <td>[delivery]</td>\n",
       "      <td>NaN</td>\n",
       "      <td>NaN</td>\n",
       "      <td>NaN</td>\n",
       "      <td>NaN</td>\n",
       "      <td>NaN</td>\n",
       "      <td>NaN</td>\n",
       "    </tr>\n",
       "    <tr>\n",
       "      <th>-1B9pP_CrRBJYPICE5WbRA</th>\n",
       "      <td>spice-28-philadelphia</td>\n",
       "      <td>[{'alias': 'szechuan', 'title': 'Szechuan'}, {...</td>\n",
       "      <td>Philadelphia, Pennsylvania</td>\n",
       "      <td>{'latitude': 39.950352, 'longitude': -75.1615829}</td>\n",
       "      <td>False</td>\n",
       "      <td>{'address1': '1228 Chestnut St', 'address2': '...</td>\n",
       "      <td>Spice 28</td>\n",
       "      <td>$$</td>\n",
       "      <td>4.0</td>\n",
       "      <td>795</td>\n",
       "      <td>[restaurant_reservation, delivery, pickup]</td>\n",
       "      <td>NaN</td>\n",
       "      <td>NaN</td>\n",
       "      <td>NaN</td>\n",
       "      <td>NaN</td>\n",
       "      <td>NaN</td>\n",
       "      <td>NaN</td>\n",
       "    </tr>\n",
       "    <tr>\n",
       "      <th>-1OKn2TRxsoZ1fZClMnnog</th>\n",
       "      <td>j-gilberts-wood-fired-steaks-and-seafood-glast...</td>\n",
       "      <td>[{'alias': 'steak', 'title': 'Steakhouses'}, {...</td>\n",
       "      <td>Hartford, Connecticut</td>\n",
       "      <td>{'latitude': 41.721484, 'longitude': -72.622915}</td>\n",
       "      <td>False</td>\n",
       "      <td>{'address1': '185 Glastonbury Blvd', 'address2...</td>\n",
       "      <td>J. Gilbert's Wood-Fired Steaks &amp; Seafood Glast...</td>\n",
       "      <td>$$$</td>\n",
       "      <td>4.5</td>\n",
       "      <td>589</td>\n",
       "      <td>[delivery, pickup]</td>\n",
       "      <td>NaN</td>\n",
       "      <td>NaN</td>\n",
       "      <td>NaN</td>\n",
       "      <td>NaN</td>\n",
       "      <td>NaN</td>\n",
       "      <td>NaN</td>\n",
       "    </tr>\n",
       "    <tr>\n",
       "      <th>-1XSzguS6XLN-V6MVZMg2A</th>\n",
       "      <td>restaurant-rebirth-new-orleans</td>\n",
       "      <td>[{'alias': 'cajun', 'title': 'Cajun/Creole'}, ...</td>\n",
       "      <td>Jefferson, Louisiana</td>\n",
       "      <td>{'latitude': 29.943528, 'longitude': -90.0654044}</td>\n",
       "      <td>False</td>\n",
       "      <td>{'address1': '857 Fulton St', 'address2': None...</td>\n",
       "      <td>Restaurant Rebirth</td>\n",
       "      <td>$$$</td>\n",
       "      <td>4.5</td>\n",
       "      <td>463</td>\n",
       "      <td>[delivery]</td>\n",
       "      <td>NaN</td>\n",
       "      <td>NaN</td>\n",
       "      <td>NaN</td>\n",
       "      <td>NaN</td>\n",
       "      <td>NaN</td>\n",
       "      <td>NaN</td>\n",
       "    </tr>\n",
       "    <tr>\n",
       "      <th>-2oop6EYGWRY9avJWKbqYQ</th>\n",
       "      <td>four-brothers-pizza-and-restaurant-valatie</td>\n",
       "      <td>[{'alias': 'pizza', 'title': 'Pizza'}, {'alias...</td>\n",
       "      <td>Nassau, New York</td>\n",
       "      <td>{'latitude': 42.428024, 'longitude': -73.687987}</td>\n",
       "      <td>False</td>\n",
       "      <td>{'address1': 'RR 9', 'address2': '', 'address3...</td>\n",
       "      <td>Four Brothers Pizza &amp; Restaurant</td>\n",
       "      <td>$$</td>\n",
       "      <td>3.0</td>\n",
       "      <td>41</td>\n",
       "      <td>[]</td>\n",
       "      <td>John C.</td>\n",
       "      <td>Nassau, New York</td>\n",
       "      <td>I don't know why they only average 3 stars and...</td>\n",
       "      <td>2020-02-01</td>\n",
       "      <td>1</td>\n",
       "      <td>4.0</td>\n",
       "    </tr>\n",
       "  </tbody>\n",
       "</table>\n",
       "</div>"
      ],
      "text/plain": [
       "                                                                    alias  \\\n",
       "--CprxtcUfzKoz29hAzm5w                      wellys-restaurant-marlborough   \n",
       "-1B9pP_CrRBJYPICE5WbRA                              spice-28-philadelphia   \n",
       "-1OKn2TRxsoZ1fZClMnnog  j-gilberts-wood-fired-steaks-and-seafood-glast...   \n",
       "-1XSzguS6XLN-V6MVZMg2A                     restaurant-rebirth-new-orleans   \n",
       "-2oop6EYGWRY9avJWKbqYQ         four-brothers-pizza-and-restaurant-valatie   \n",
       "\n",
       "                                                               categories  \\\n",
       "--CprxtcUfzKoz29hAzm5w  [{'alias': 'tradamerican', 'title': 'American ...   \n",
       "-1B9pP_CrRBJYPICE5WbRA  [{'alias': 'szechuan', 'title': 'Szechuan'}, {...   \n",
       "-1OKn2TRxsoZ1fZClMnnog  [{'alias': 'steak', 'title': 'Steakhouses'}, {...   \n",
       "-1XSzguS6XLN-V6MVZMg2A  [{'alias': 'cajun', 'title': 'Cajun/Creole'}, ...   \n",
       "-2oop6EYGWRY9avJWKbqYQ  [{'alias': 'pizza', 'title': 'Pizza'}, {'alias...   \n",
       "\n",
       "                                            city_x  \\\n",
       "--CprxtcUfzKoz29hAzm5w    Middlesex, Massachusetts   \n",
       "-1B9pP_CrRBJYPICE5WbRA  Philadelphia, Pennsylvania   \n",
       "-1OKn2TRxsoZ1fZClMnnog       Hartford, Connecticut   \n",
       "-1XSzguS6XLN-V6MVZMg2A        Jefferson, Louisiana   \n",
       "-2oop6EYGWRY9avJWKbqYQ            Nassau, New York   \n",
       "\n",
       "                                                              coordinates  \\\n",
       "--CprxtcUfzKoz29hAzm5w      {'latitude': 42.3469, 'longitude': -71.54837}   \n",
       "-1B9pP_CrRBJYPICE5WbRA  {'latitude': 39.950352, 'longitude': -75.1615829}   \n",
       "-1OKn2TRxsoZ1fZClMnnog   {'latitude': 41.721484, 'longitude': -72.622915}   \n",
       "-1XSzguS6XLN-V6MVZMg2A  {'latitude': 29.943528, 'longitude': -90.0654044}   \n",
       "-2oop6EYGWRY9avJWKbqYQ   {'latitude': 42.428024, 'longitude': -73.687987}   \n",
       "\n",
       "                        is_closed  \\\n",
       "--CprxtcUfzKoz29hAzm5w      False   \n",
       "-1B9pP_CrRBJYPICE5WbRA      False   \n",
       "-1OKn2TRxsoZ1fZClMnnog      False   \n",
       "-1XSzguS6XLN-V6MVZMg2A      False   \n",
       "-2oop6EYGWRY9avJWKbqYQ      False   \n",
       "\n",
       "                                                                 location  \\\n",
       "--CprxtcUfzKoz29hAzm5w  {'address1': '153 Main St', 'address2': '', 'a...   \n",
       "-1B9pP_CrRBJYPICE5WbRA  {'address1': '1228 Chestnut St', 'address2': '...   \n",
       "-1OKn2TRxsoZ1fZClMnnog  {'address1': '185 Glastonbury Blvd', 'address2...   \n",
       "-1XSzguS6XLN-V6MVZMg2A  {'address1': '857 Fulton St', 'address2': None...   \n",
       "-2oop6EYGWRY9avJWKbqYQ  {'address1': 'RR 9', 'address2': '', 'address3...   \n",
       "\n",
       "                                                                     name  \\\n",
       "--CprxtcUfzKoz29hAzm5w                                 Welly's Restaurant   \n",
       "-1B9pP_CrRBJYPICE5WbRA                                           Spice 28   \n",
       "-1OKn2TRxsoZ1fZClMnnog  J. Gilbert's Wood-Fired Steaks & Seafood Glast...   \n",
       "-1XSzguS6XLN-V6MVZMg2A                                 Restaurant Rebirth   \n",
       "-2oop6EYGWRY9avJWKbqYQ                   Four Brothers Pizza & Restaurant   \n",
       "\n",
       "                       price  rating  review_count  \\\n",
       "--CprxtcUfzKoz29hAzm5w    $$     4.0           170   \n",
       "-1B9pP_CrRBJYPICE5WbRA    $$     4.0           795   \n",
       "-1OKn2TRxsoZ1fZClMnnog   $$$     4.5           589   \n",
       "-1XSzguS6XLN-V6MVZMg2A   $$$     4.5           463   \n",
       "-2oop6EYGWRY9avJWKbqYQ    $$     3.0            41   \n",
       "\n",
       "                                                      transactions   author  \\\n",
       "--CprxtcUfzKoz29hAzm5w                                  [delivery]      NaN   \n",
       "-1B9pP_CrRBJYPICE5WbRA  [restaurant_reservation, delivery, pickup]      NaN   \n",
       "-1OKn2TRxsoZ1fZClMnnog                          [delivery, pickup]      NaN   \n",
       "-1XSzguS6XLN-V6MVZMg2A                                  [delivery]      NaN   \n",
       "-2oop6EYGWRY9avJWKbqYQ                                          []  John C.   \n",
       "\n",
       "                                  city_y  \\\n",
       "--CprxtcUfzKoz29hAzm5w               NaN   \n",
       "-1B9pP_CrRBJYPICE5WbRA               NaN   \n",
       "-1OKn2TRxsoZ1fZClMnnog               NaN   \n",
       "-1XSzguS6XLN-V6MVZMg2A               NaN   \n",
       "-2oop6EYGWRY9avJWKbqYQ  Nassau, New York   \n",
       "\n",
       "                                                              description  \\\n",
       "--CprxtcUfzKoz29hAzm5w                                                NaN   \n",
       "-1B9pP_CrRBJYPICE5WbRA                                                NaN   \n",
       "-1OKn2TRxsoZ1fZClMnnog                                                NaN   \n",
       "-1XSzguS6XLN-V6MVZMg2A                                                NaN   \n",
       "-2oop6EYGWRY9avJWKbqYQ  I don't know why they only average 3 stars and...   \n",
       "\n",
       "                       publish_date review_number  score  \n",
       "--CprxtcUfzKoz29hAzm5w          NaN           NaN    NaN  \n",
       "-1B9pP_CrRBJYPICE5WbRA          NaN           NaN    NaN  \n",
       "-1OKn2TRxsoZ1fZClMnnog          NaN           NaN    NaN  \n",
       "-1XSzguS6XLN-V6MVZMg2A          NaN           NaN    NaN  \n",
       "-2oop6EYGWRY9avJWKbqYQ   2020-02-01             1    4.0  "
      ]
     },
     "execution_count": 109,
     "metadata": {},
     "output_type": "execute_result"
    }
   ],
   "source": [
    "review_data = business_df.merge(current_reviews_2, how='left', left_index=True, right_index=True)\n",
    "review_data.head()"
   ]
  },
  {
   "cell_type": "code",
   "execution_count": 110,
   "metadata": {},
   "outputs": [],
   "source": [
    "now = datetime.now().strftime(\"%Y_%m_%d_%H_%M\")\n",
    "review_data.to_csv('review_data_{}.csv'.format(now))"
   ]
  },
  {
   "cell_type": "code",
   "execution_count": 111,
   "metadata": {},
   "outputs": [
    {
     "data": {
      "text/plain": [
       "(4639, 1581)"
      ]
     },
     "execution_count": 111,
     "metadata": {},
     "output_type": "execute_result"
    }
   ],
   "source": [
    "# rescrape businesses with no review data\n",
    "rescrape = review_data[review_data['publish_date'].isna()].index.to_list()\n",
    "rescrape_df = business_df[business_df.index.isin(rescrape)]\n",
    "len(business_df), len(rescrape_df)"
   ]
  },
  {
   "cell_type": "code",
   "execution_count": 112,
   "metadata": {},
   "outputs": [
    {
     "name": "stdout",
     "output_type": "stream",
     "text": [
      "Scraping Reviews for Suffolk, New York (1 restaurants)\n"
     ]
    },
    {
     "data": {
      "application/vnd.jupyter.widget-view+json": {
       "model_id": "1fafdcc82b4c43e6b2c15ffb349be517",
       "version_major": 2,
       "version_minor": 0
      },
      "text/plain": [
       "HBox(children=(IntProgress(value=0, max=1), HTML(value='')))"
      ]
     },
     "metadata": {},
     "output_type": "display_data"
    },
    {
     "name": "stdout",
     "output_type": "stream",
     "text": [
      "Scraping Reviews for Fairfield, Connecticut (1 restaurants)\n"
     ]
    },
    {
     "data": {
      "application/vnd.jupyter.widget-view+json": {
       "model_id": "599d91cbfb6744fd916edf315de76e3f",
       "version_major": 2,
       "version_minor": 0
      },
      "text/plain": [
       "HBox(children=(IntProgress(value=0, max=1), HTML(value='')))"
      ]
     },
     "metadata": {},
     "output_type": "display_data"
    },
    {
     "name": "stdout",
     "output_type": "stream",
     "text": [
      "Scraping Reviews for Middlesex, New Jersey (91 restaurants)\n"
     ]
    },
    {
     "data": {
      "application/vnd.jupyter.widget-view+json": {
       "model_id": "e5f0f5ee19414faba6f35702487a3efe",
       "version_major": 2,
       "version_minor": 0
      },
      "text/plain": [
       "HBox(children=(IntProgress(value=0, max=91), HTML(value='')))"
      ]
     },
     "metadata": {},
     "output_type": "display_data"
    },
    {
     "name": "stdout",
     "output_type": "stream",
     "text": [
      "Scraping Reviews for Jefferson, Louisiana (200 restaurants)\n"
     ]
    },
    {
     "data": {
      "application/vnd.jupyter.widget-view+json": {
       "model_id": "8709d6eceb044398922063bab8c66aa1",
       "version_major": 2,
       "version_minor": 0
      },
      "text/plain": [
       "HBox(children=(IntProgress(value=0, max=200), HTML(value='')))"
      ]
     },
     "metadata": {},
     "output_type": "display_data"
    },
    {
     "name": "stdout",
     "output_type": "stream",
     "text": [
      "Scraping Reviews for Philadelphia, Pennsylvania (200 restaurants)\n"
     ]
    },
    {
     "data": {
      "application/vnd.jupyter.widget-view+json": {
       "model_id": "653dae6c0c9747c284b48a93dbf6648f",
       "version_major": 2,
       "version_minor": 0
      },
      "text/plain": [
       "HBox(children=(IntProgress(value=0, max=200), HTML(value='')))"
      ]
     },
     "metadata": {},
     "output_type": "display_data"
    },
    {
     "name": "stdout",
     "output_type": "stream",
     "text": [
      "Scraping Reviews for Middlesex, Massachusetts (200 restaurants)\n"
     ]
    },
    {
     "data": {
      "application/vnd.jupyter.widget-view+json": {
       "model_id": "84c6fdafbdc64e8c92d8b6621b64fc65",
       "version_major": 2,
       "version_minor": 0
      },
      "text/plain": [
       "HBox(children=(IntProgress(value=0, max=200), HTML(value='')))"
      ]
     },
     "metadata": {},
     "output_type": "display_data"
    },
    {
     "name": "stdout",
     "output_type": "stream",
     "text": [
      "Scraping Reviews for Hartford, Connecticut (200 restaurants)\n"
     ]
    },
    {
     "data": {
      "application/vnd.jupyter.widget-view+json": {
       "model_id": "96de11baf66e452993b665eed24c39ce",
       "version_major": 2,
       "version_minor": 0
      },
      "text/plain": [
       "HBox(children=(IntProgress(value=0, max=200), HTML(value='')))"
      ]
     },
     "metadata": {},
     "output_type": "display_data"
    },
    {
     "name": "stdout",
     "output_type": "stream",
     "text": [
      "Scraping Reviews for Rockland, New York (197 restaurants)\n"
     ]
    },
    {
     "data": {
      "application/vnd.jupyter.widget-view+json": {
       "model_id": "df8b3e029d8c4fbf93e0e2a94c63fc4c",
       "version_major": 2,
       "version_minor": 0
      },
      "text/plain": [
       "HBox(children=(IntProgress(value=0, max=197), HTML(value='')))"
      ]
     },
     "metadata": {},
     "output_type": "display_data"
    },
    {
     "name": "stdout",
     "output_type": "stream",
     "text": [
      "Scraping Reviews for Morris, New Jersey (198 restaurants)\n"
     ]
    },
    {
     "data": {
      "application/vnd.jupyter.widget-view+json": {
       "model_id": "2d2d4a555ea04f788f749ff904779531",
       "version_major": 2,
       "version_minor": 0
      },
      "text/plain": [
       "HBox(children=(IntProgress(value=0, max=198), HTML(value='')))"
      ]
     },
     "metadata": {},
     "output_type": "display_data"
    },
    {
     "name": "stdout",
     "output_type": "stream",
     "text": [
      "Scraping Reviews for New Haven, Connecticut (200 restaurants)\n"
     ]
    },
    {
     "data": {
      "application/vnd.jupyter.widget-view+json": {
       "model_id": "8afa5c5c08c046f796401143026acf94",
       "version_major": 2,
       "version_minor": 0
      },
      "text/plain": [
       "HBox(children=(IntProgress(value=0, max=200), HTML(value='')))"
      ]
     },
     "metadata": {},
     "output_type": "display_data"
    },
    {
     "name": "stdout",
     "output_type": "stream",
     "text": [
      "Scraping Reviews for Passaic, New Jersey (93 restaurants)\n"
     ]
    },
    {
     "data": {
      "application/vnd.jupyter.widget-view+json": {
       "model_id": "ab6f394b66364c1184773a600bec5211",
       "version_major": 2,
       "version_minor": 0
      },
      "text/plain": [
       "HBox(children=(IntProgress(value=0, max=93), HTML(value='')))"
      ]
     },
     "metadata": {},
     "output_type": "display_data"
    }
   ],
   "source": [
    "# go again\n",
    "rescraped_reviews_3 = {}\n",
    "rescrape_reviews(rescrape_df, rescraped_reviews_3)"
   ]
  },
  {
   "cell_type": "code",
   "execution_count": 113,
   "metadata": {},
   "outputs": [
    {
     "data": {
      "text/html": [
       "<div>\n",
       "<style scoped>\n",
       "    .dataframe tbody tr th:only-of-type {\n",
       "        vertical-align: middle;\n",
       "    }\n",
       "\n",
       "    .dataframe tbody tr th {\n",
       "        vertical-align: top;\n",
       "    }\n",
       "\n",
       "    .dataframe thead th {\n",
       "        text-align: right;\n",
       "    }\n",
       "</style>\n",
       "<table border=\"1\" class=\"dataframe\">\n",
       "  <thead>\n",
       "    <tr style=\"text-align: right;\">\n",
       "      <th></th>\n",
       "      <th>author</th>\n",
       "      <th>city</th>\n",
       "      <th>description</th>\n",
       "      <th>publish_date</th>\n",
       "      <th>review_number</th>\n",
       "      <th>score</th>\n",
       "    </tr>\n",
       "    <tr>\n",
       "      <th>id</th>\n",
       "      <th></th>\n",
       "      <th></th>\n",
       "      <th></th>\n",
       "      <th></th>\n",
       "      <th></th>\n",
       "      <th></th>\n",
       "    </tr>\n",
       "  </thead>\n",
       "  <tbody>\n",
       "    <tr>\n",
       "      <th>7-5xaHkgw05ZrykGVcFeMA</th>\n",
       "      <td>Merari G.</td>\n",
       "      <td>Middlesex, New Jersey</td>\n",
       "      <td>Started with cheesesteaks as it came as a reco...</td>\n",
       "      <td>2020-03-02</td>\n",
       "      <td>1</td>\n",
       "      <td>5.0</td>\n",
       "    </tr>\n",
       "    <tr>\n",
       "      <th>7-5xaHkgw05ZrykGVcFeMA</th>\n",
       "      <td>Angel R.</td>\n",
       "      <td>Middlesex, New Jersey</td>\n",
       "      <td>Real good quality pizza and a friendly staff. ...</td>\n",
       "      <td>2019-11-15</td>\n",
       "      <td>2</td>\n",
       "      <td>5.0</td>\n",
       "    </tr>\n",
       "    <tr>\n",
       "      <th>7-5xaHkgw05ZrykGVcFeMA</th>\n",
       "      <td>Melissa S.</td>\n",
       "      <td>Middlesex, New Jersey</td>\n",
       "      <td>We haven't tried the pizza yet (go figure) but...</td>\n",
       "      <td>2018-12-17</td>\n",
       "      <td>3</td>\n",
       "      <td>5.0</td>\n",
       "    </tr>\n",
       "    <tr>\n",
       "      <th>7-5xaHkgw05ZrykGVcFeMA</th>\n",
       "      <td>Leah B.</td>\n",
       "      <td>Middlesex, New Jersey</td>\n",
       "      <td>I literally just threw away an entire eggplant...</td>\n",
       "      <td>2019-05-13</td>\n",
       "      <td>4</td>\n",
       "      <td>1.0</td>\n",
       "    </tr>\n",
       "    <tr>\n",
       "      <th>7-5xaHkgw05ZrykGVcFeMA</th>\n",
       "      <td>Jane D.</td>\n",
       "      <td>Middlesex, New Jersey</td>\n",
       "      <td>This is an updated review since my last visit....</td>\n",
       "      <td>2018-04-30</td>\n",
       "      <td>5</td>\n",
       "      <td>2.0</td>\n",
       "    </tr>\n",
       "  </tbody>\n",
       "</table>\n",
       "</div>"
      ],
      "text/plain": [
       "                            author                   city  \\\n",
       "id                                                          \n",
       "7-5xaHkgw05ZrykGVcFeMA   Merari G.  Middlesex, New Jersey   \n",
       "7-5xaHkgw05ZrykGVcFeMA    Angel R.  Middlesex, New Jersey   \n",
       "7-5xaHkgw05ZrykGVcFeMA  Melissa S.  Middlesex, New Jersey   \n",
       "7-5xaHkgw05ZrykGVcFeMA     Leah B.  Middlesex, New Jersey   \n",
       "7-5xaHkgw05ZrykGVcFeMA     Jane D.  Middlesex, New Jersey   \n",
       "\n",
       "                                                              description  \\\n",
       "id                                                                          \n",
       "7-5xaHkgw05ZrykGVcFeMA  Started with cheesesteaks as it came as a reco...   \n",
       "7-5xaHkgw05ZrykGVcFeMA  Real good quality pizza and a friendly staff. ...   \n",
       "7-5xaHkgw05ZrykGVcFeMA  We haven't tried the pizza yet (go figure) but...   \n",
       "7-5xaHkgw05ZrykGVcFeMA  I literally just threw away an entire eggplant...   \n",
       "7-5xaHkgw05ZrykGVcFeMA  This is an updated review since my last visit....   \n",
       "\n",
       "                       publish_date review_number  score  \n",
       "id                                                        \n",
       "7-5xaHkgw05ZrykGVcFeMA   2020-03-02             1    5.0  \n",
       "7-5xaHkgw05ZrykGVcFeMA   2019-11-15             2    5.0  \n",
       "7-5xaHkgw05ZrykGVcFeMA   2018-12-17             3    5.0  \n",
       "7-5xaHkgw05ZrykGVcFeMA   2019-05-13             4    1.0  \n",
       "7-5xaHkgw05ZrykGVcFeMA   2018-04-30             5    2.0  "
      ]
     },
     "execution_count": 113,
     "metadata": {},
     "output_type": "execute_result"
    }
   ],
   "source": [
    "# parse nested dictionary into a dataframe\n",
    "df4 = pd.DataFrame()\n",
    "for restaurant in rescraped_reviews_3:\n",
    "    restaurant_df = pd.DataFrame.from_dict(rescraped_reviews_3[restaurant], orient='index')\n",
    "    restaurant_df['id'] = restaurant\n",
    "    restaurant_df = restaurant_df.reset_index().set_index('id').rename(columns={'index':'review_number'})\n",
    "    df4 = df4.append(restaurant_df)\n",
    "    \n",
    "df4.head()"
   ]
  },
  {
   "cell_type": "code",
   "execution_count": 114,
   "metadata": {},
   "outputs": [
    {
     "data": {
      "text/html": [
       "<div>\n",
       "<style scoped>\n",
       "    .dataframe tbody tr th:only-of-type {\n",
       "        vertical-align: middle;\n",
       "    }\n",
       "\n",
       "    .dataframe tbody tr th {\n",
       "        vertical-align: top;\n",
       "    }\n",
       "\n",
       "    .dataframe thead th {\n",
       "        text-align: right;\n",
       "    }\n",
       "</style>\n",
       "<table border=\"1\" class=\"dataframe\">\n",
       "  <thead>\n",
       "    <tr style=\"text-align: right;\">\n",
       "      <th></th>\n",
       "      <th>author</th>\n",
       "      <th>city</th>\n",
       "      <th>description</th>\n",
       "      <th>publish_date</th>\n",
       "      <th>review_number</th>\n",
       "      <th>score</th>\n",
       "    </tr>\n",
       "    <tr>\n",
       "      <th>id</th>\n",
       "      <th></th>\n",
       "      <th></th>\n",
       "      <th></th>\n",
       "      <th></th>\n",
       "      <th></th>\n",
       "      <th></th>\n",
       "    </tr>\n",
       "  </thead>\n",
       "  <tbody>\n",
       "    <tr>\n",
       "      <th>PdmsXmprYb_-GdbfjNp7Gg</th>\n",
       "      <td>Harrison E.</td>\n",
       "      <td>Hartford, Connecticut</td>\n",
       "      <td>Best Italian food in Hartford County! Not an e...</td>\n",
       "      <td>2020-04-05</td>\n",
       "      <td>2</td>\n",
       "      <td>5.0</td>\n",
       "    </tr>\n",
       "  </tbody>\n",
       "</table>\n",
       "</div>"
      ],
      "text/plain": [
       "                             author                   city  \\\n",
       "id                                                           \n",
       "PdmsXmprYb_-GdbfjNp7Gg  Harrison E.  Hartford, Connecticut   \n",
       "\n",
       "                                                              description  \\\n",
       "id                                                                          \n",
       "PdmsXmprYb_-GdbfjNp7Gg  Best Italian food in Hartford County! Not an e...   \n",
       "\n",
       "                       publish_date review_number  score  \n",
       "id                                                        \n",
       "PdmsXmprYb_-GdbfjNp7Gg   2020-04-05             2    5.0  "
      ]
     },
     "execution_count": 114,
     "metadata": {},
     "output_type": "execute_result"
    }
   ],
   "source": [
    "### combine reviews scraped so far\n",
    "current_reviews_3 = current_reviews_2.append(df4)\n",
    "\n",
    "# no duplicates\n",
    "current_reviews_3[current_reviews_3.duplicated()]"
   ]
  },
  {
   "cell_type": "code",
   "execution_count": 115,
   "metadata": {},
   "outputs": [
    {
     "data": {
      "text/html": [
       "<div>\n",
       "<style scoped>\n",
       "    .dataframe tbody tr th:only-of-type {\n",
       "        vertical-align: middle;\n",
       "    }\n",
       "\n",
       "    .dataframe tbody tr th {\n",
       "        vertical-align: top;\n",
       "    }\n",
       "\n",
       "    .dataframe thead th {\n",
       "        text-align: right;\n",
       "    }\n",
       "</style>\n",
       "<table border=\"1\" class=\"dataframe\">\n",
       "  <thead>\n",
       "    <tr style=\"text-align: right;\">\n",
       "      <th></th>\n",
       "      <th>alias</th>\n",
       "      <th>categories</th>\n",
       "      <th>city_x</th>\n",
       "      <th>coordinates</th>\n",
       "      <th>is_closed</th>\n",
       "      <th>location</th>\n",
       "      <th>name</th>\n",
       "      <th>price</th>\n",
       "      <th>rating</th>\n",
       "      <th>review_count</th>\n",
       "      <th>transactions</th>\n",
       "      <th>author</th>\n",
       "      <th>city_y</th>\n",
       "      <th>description</th>\n",
       "      <th>publish_date</th>\n",
       "      <th>review_number</th>\n",
       "      <th>score</th>\n",
       "    </tr>\n",
       "  </thead>\n",
       "  <tbody>\n",
       "    <tr>\n",
       "      <th>--CprxtcUfzKoz29hAzm5w</th>\n",
       "      <td>wellys-restaurant-marlborough</td>\n",
       "      <td>[{'alias': 'tradamerican', 'title': 'American ...</td>\n",
       "      <td>Middlesex, Massachusetts</td>\n",
       "      <td>{'latitude': 42.3469, 'longitude': -71.54837}</td>\n",
       "      <td>False</td>\n",
       "      <td>{'address1': '153 Main St', 'address2': '', 'a...</td>\n",
       "      <td>Welly's Restaurant</td>\n",
       "      <td>$$</td>\n",
       "      <td>4.0</td>\n",
       "      <td>170</td>\n",
       "      <td>[delivery]</td>\n",
       "      <td>Sara P.</td>\n",
       "      <td>Middlesex, Massachusetts</td>\n",
       "      <td>I haven't even left yet. But I am thoroughly p...</td>\n",
       "      <td>2020-01-24</td>\n",
       "      <td>1</td>\n",
       "      <td>5.0</td>\n",
       "    </tr>\n",
       "    <tr>\n",
       "      <th>--CprxtcUfzKoz29hAzm5w</th>\n",
       "      <td>wellys-restaurant-marlborough</td>\n",
       "      <td>[{'alias': 'tradamerican', 'title': 'American ...</td>\n",
       "      <td>Middlesex, Massachusetts</td>\n",
       "      <td>{'latitude': 42.3469, 'longitude': -71.54837}</td>\n",
       "      <td>False</td>\n",
       "      <td>{'address1': '153 Main St', 'address2': '', 'a...</td>\n",
       "      <td>Welly's Restaurant</td>\n",
       "      <td>$$</td>\n",
       "      <td>4.0</td>\n",
       "      <td>170</td>\n",
       "      <td>[delivery]</td>\n",
       "      <td>Matt K.</td>\n",
       "      <td>Middlesex, Massachusetts</td>\n",
       "      <td>I've been to Welly's a few times and each time...</td>\n",
       "      <td>2019-11-12</td>\n",
       "      <td>2</td>\n",
       "      <td>4.0</td>\n",
       "    </tr>\n",
       "    <tr>\n",
       "      <th>--CprxtcUfzKoz29hAzm5w</th>\n",
       "      <td>wellys-restaurant-marlborough</td>\n",
       "      <td>[{'alias': 'tradamerican', 'title': 'American ...</td>\n",
       "      <td>Middlesex, Massachusetts</td>\n",
       "      <td>{'latitude': 42.3469, 'longitude': -71.54837}</td>\n",
       "      <td>False</td>\n",
       "      <td>{'address1': '153 Main St', 'address2': '', 'a...</td>\n",
       "      <td>Welly's Restaurant</td>\n",
       "      <td>$$</td>\n",
       "      <td>4.0</td>\n",
       "      <td>170</td>\n",
       "      <td>[delivery]</td>\n",
       "      <td>AnnMarie H.</td>\n",
       "      <td>Middlesex, Massachusetts</td>\n",
       "      <td>Welly's is a very popular bar right in downtow...</td>\n",
       "      <td>2019-11-08</td>\n",
       "      <td>3</td>\n",
       "      <td>4.0</td>\n",
       "    </tr>\n",
       "    <tr>\n",
       "      <th>--CprxtcUfzKoz29hAzm5w</th>\n",
       "      <td>wellys-restaurant-marlborough</td>\n",
       "      <td>[{'alias': 'tradamerican', 'title': 'American ...</td>\n",
       "      <td>Middlesex, Massachusetts</td>\n",
       "      <td>{'latitude': 42.3469, 'longitude': -71.54837}</td>\n",
       "      <td>False</td>\n",
       "      <td>{'address1': '153 Main St', 'address2': '', 'a...</td>\n",
       "      <td>Welly's Restaurant</td>\n",
       "      <td>$$</td>\n",
       "      <td>4.0</td>\n",
       "      <td>170</td>\n",
       "      <td>[delivery]</td>\n",
       "      <td>Christy C.</td>\n",
       "      <td>Middlesex, Massachusetts</td>\n",
       "      <td>I used to think the idea of fish tacos were no...</td>\n",
       "      <td>2020-04-03</td>\n",
       "      <td>4</td>\n",
       "      <td>5.0</td>\n",
       "    </tr>\n",
       "    <tr>\n",
       "      <th>--CprxtcUfzKoz29hAzm5w</th>\n",
       "      <td>wellys-restaurant-marlborough</td>\n",
       "      <td>[{'alias': 'tradamerican', 'title': 'American ...</td>\n",
       "      <td>Middlesex, Massachusetts</td>\n",
       "      <td>{'latitude': 42.3469, 'longitude': -71.54837}</td>\n",
       "      <td>False</td>\n",
       "      <td>{'address1': '153 Main St', 'address2': '', 'a...</td>\n",
       "      <td>Welly's Restaurant</td>\n",
       "      <td>$$</td>\n",
       "      <td>4.0</td>\n",
       "      <td>170</td>\n",
       "      <td>[delivery]</td>\n",
       "      <td>Marissa V.</td>\n",
       "      <td>Middlesex, Massachusetts</td>\n",
       "      <td>Came here with some work colleagues and ordere...</td>\n",
       "      <td>2020-01-03</td>\n",
       "      <td>5</td>\n",
       "      <td>4.0</td>\n",
       "    </tr>\n",
       "  </tbody>\n",
       "</table>\n",
       "</div>"
      ],
      "text/plain": [
       "                                                alias  \\\n",
       "--CprxtcUfzKoz29hAzm5w  wellys-restaurant-marlborough   \n",
       "--CprxtcUfzKoz29hAzm5w  wellys-restaurant-marlborough   \n",
       "--CprxtcUfzKoz29hAzm5w  wellys-restaurant-marlborough   \n",
       "--CprxtcUfzKoz29hAzm5w  wellys-restaurant-marlborough   \n",
       "--CprxtcUfzKoz29hAzm5w  wellys-restaurant-marlborough   \n",
       "\n",
       "                                                               categories  \\\n",
       "--CprxtcUfzKoz29hAzm5w  [{'alias': 'tradamerican', 'title': 'American ...   \n",
       "--CprxtcUfzKoz29hAzm5w  [{'alias': 'tradamerican', 'title': 'American ...   \n",
       "--CprxtcUfzKoz29hAzm5w  [{'alias': 'tradamerican', 'title': 'American ...   \n",
       "--CprxtcUfzKoz29hAzm5w  [{'alias': 'tradamerican', 'title': 'American ...   \n",
       "--CprxtcUfzKoz29hAzm5w  [{'alias': 'tradamerican', 'title': 'American ...   \n",
       "\n",
       "                                          city_x  \\\n",
       "--CprxtcUfzKoz29hAzm5w  Middlesex, Massachusetts   \n",
       "--CprxtcUfzKoz29hAzm5w  Middlesex, Massachusetts   \n",
       "--CprxtcUfzKoz29hAzm5w  Middlesex, Massachusetts   \n",
       "--CprxtcUfzKoz29hAzm5w  Middlesex, Massachusetts   \n",
       "--CprxtcUfzKoz29hAzm5w  Middlesex, Massachusetts   \n",
       "\n",
       "                                                          coordinates  \\\n",
       "--CprxtcUfzKoz29hAzm5w  {'latitude': 42.3469, 'longitude': -71.54837}   \n",
       "--CprxtcUfzKoz29hAzm5w  {'latitude': 42.3469, 'longitude': -71.54837}   \n",
       "--CprxtcUfzKoz29hAzm5w  {'latitude': 42.3469, 'longitude': -71.54837}   \n",
       "--CprxtcUfzKoz29hAzm5w  {'latitude': 42.3469, 'longitude': -71.54837}   \n",
       "--CprxtcUfzKoz29hAzm5w  {'latitude': 42.3469, 'longitude': -71.54837}   \n",
       "\n",
       "                        is_closed  \\\n",
       "--CprxtcUfzKoz29hAzm5w      False   \n",
       "--CprxtcUfzKoz29hAzm5w      False   \n",
       "--CprxtcUfzKoz29hAzm5w      False   \n",
       "--CprxtcUfzKoz29hAzm5w      False   \n",
       "--CprxtcUfzKoz29hAzm5w      False   \n",
       "\n",
       "                                                                 location  \\\n",
       "--CprxtcUfzKoz29hAzm5w  {'address1': '153 Main St', 'address2': '', 'a...   \n",
       "--CprxtcUfzKoz29hAzm5w  {'address1': '153 Main St', 'address2': '', 'a...   \n",
       "--CprxtcUfzKoz29hAzm5w  {'address1': '153 Main St', 'address2': '', 'a...   \n",
       "--CprxtcUfzKoz29hAzm5w  {'address1': '153 Main St', 'address2': '', 'a...   \n",
       "--CprxtcUfzKoz29hAzm5w  {'address1': '153 Main St', 'address2': '', 'a...   \n",
       "\n",
       "                                      name price  rating  review_count  \\\n",
       "--CprxtcUfzKoz29hAzm5w  Welly's Restaurant    $$     4.0           170   \n",
       "--CprxtcUfzKoz29hAzm5w  Welly's Restaurant    $$     4.0           170   \n",
       "--CprxtcUfzKoz29hAzm5w  Welly's Restaurant    $$     4.0           170   \n",
       "--CprxtcUfzKoz29hAzm5w  Welly's Restaurant    $$     4.0           170   \n",
       "--CprxtcUfzKoz29hAzm5w  Welly's Restaurant    $$     4.0           170   \n",
       "\n",
       "                       transactions       author                    city_y  \\\n",
       "--CprxtcUfzKoz29hAzm5w   [delivery]      Sara P.  Middlesex, Massachusetts   \n",
       "--CprxtcUfzKoz29hAzm5w   [delivery]      Matt K.  Middlesex, Massachusetts   \n",
       "--CprxtcUfzKoz29hAzm5w   [delivery]  AnnMarie H.  Middlesex, Massachusetts   \n",
       "--CprxtcUfzKoz29hAzm5w   [delivery]   Christy C.  Middlesex, Massachusetts   \n",
       "--CprxtcUfzKoz29hAzm5w   [delivery]   Marissa V.  Middlesex, Massachusetts   \n",
       "\n",
       "                                                              description  \\\n",
       "--CprxtcUfzKoz29hAzm5w  I haven't even left yet. But I am thoroughly p...   \n",
       "--CprxtcUfzKoz29hAzm5w  I've been to Welly's a few times and each time...   \n",
       "--CprxtcUfzKoz29hAzm5w  Welly's is a very popular bar right in downtow...   \n",
       "--CprxtcUfzKoz29hAzm5w  I used to think the idea of fish tacos were no...   \n",
       "--CprxtcUfzKoz29hAzm5w  Came here with some work colleagues and ordere...   \n",
       "\n",
       "                       publish_date review_number  score  \n",
       "--CprxtcUfzKoz29hAzm5w   2020-01-24             1    5.0  \n",
       "--CprxtcUfzKoz29hAzm5w   2019-11-12             2    4.0  \n",
       "--CprxtcUfzKoz29hAzm5w   2019-11-08             3    4.0  \n",
       "--CprxtcUfzKoz29hAzm5w   2020-04-03             4    5.0  \n",
       "--CprxtcUfzKoz29hAzm5w   2020-01-03             5    4.0  "
      ]
     },
     "execution_count": 115,
     "metadata": {},
     "output_type": "execute_result"
    }
   ],
   "source": [
    "review_data = business_df.merge(current_reviews_3, how='left', left_index=True, right_index=True)\n",
    "review_data.head()"
   ]
  },
  {
   "cell_type": "code",
   "execution_count": 116,
   "metadata": {},
   "outputs": [],
   "source": [
    "now = datetime.now().strftime(\"%Y_%m_%d_%H_%M\")\n",
    "review_data.to_csv('review_data_{}.csv'.format(now))"
   ]
  },
  {
   "cell_type": "code",
   "execution_count": 117,
   "metadata": {},
   "outputs": [
    {
     "data": {
      "text/plain": [
       "333103"
      ]
     },
     "execution_count": 117,
     "metadata": {},
     "output_type": "execute_result"
    }
   ],
   "source": [
    "len(review_data)"
   ]
  },
  {
   "cell_type": "code",
   "execution_count": 118,
   "metadata": {},
   "outputs": [
    {
     "data": {
      "text/plain": [
       "(4639, 116)"
      ]
     },
     "execution_count": 118,
     "metadata": {},
     "output_type": "execute_result"
    }
   ],
   "source": [
    "# rescrape businesses with no review data\n",
    "rescrape = review_data[review_data['publish_date'].isna()].index.to_list()\n",
    "rescrape_df = business_df[business_df.index.isin(rescrape)]\n",
    "len(business_df), len(rescrape_df)"
   ]
  },
  {
   "cell_type": "code",
   "execution_count": 119,
   "metadata": {},
   "outputs": [
    {
     "name": "stdout",
     "output_type": "stream",
     "text": [
      "Scraping Reviews for Suffolk, New York (1 restaurants)\n"
     ]
    },
    {
     "data": {
      "application/vnd.jupyter.widget-view+json": {
       "model_id": "2852aaeaddc2463ab04e556cd211e911",
       "version_major": 2,
       "version_minor": 0
      },
      "text/plain": [
       "HBox(children=(IntProgress(value=0, max=1), HTML(value='')))"
      ]
     },
     "metadata": {},
     "output_type": "display_data"
    },
    {
     "name": "stdout",
     "output_type": "stream",
     "text": [
      "Scraping Reviews for Fairfield, Connecticut (1 restaurants)\n"
     ]
    },
    {
     "data": {
      "application/vnd.jupyter.widget-view+json": {
       "model_id": "45e0db352bcb400797bd31f2c3a2efec",
       "version_major": 2,
       "version_minor": 0
      },
      "text/plain": [
       "HBox(children=(IntProgress(value=0, max=1), HTML(value='')))"
      ]
     },
     "metadata": {},
     "output_type": "display_data"
    },
    {
     "name": "stdout",
     "output_type": "stream",
     "text": [
      "Scraping Reviews for Middlesex, New Jersey (50 restaurants)\n"
     ]
    },
    {
     "data": {
      "application/vnd.jupyter.widget-view+json": {
       "model_id": "d6b5fd38f7c44f3e9144263866001d54",
       "version_major": 2,
       "version_minor": 0
      },
      "text/plain": [
       "HBox(children=(IntProgress(value=0, max=50), HTML(value='')))"
      ]
     },
     "metadata": {},
     "output_type": "display_data"
    },
    {
     "name": "stdout",
     "output_type": "stream",
     "text": [
      "Scraping Reviews for Jefferson, Louisiana (52 restaurants)\n"
     ]
    },
    {
     "data": {
      "application/vnd.jupyter.widget-view+json": {
       "model_id": "4971f03148354bab8f2fe69a523e382b",
       "version_major": 2,
       "version_minor": 0
      },
      "text/plain": [
       "HBox(children=(IntProgress(value=0, max=52), HTML(value='')))"
      ]
     },
     "metadata": {},
     "output_type": "display_data"
    },
    {
     "name": "stdout",
     "output_type": "stream",
     "text": [
      "Scraping Reviews for Philadelphia, Pennsylvania (6 restaurants)\n"
     ]
    },
    {
     "data": {
      "application/vnd.jupyter.widget-view+json": {
       "model_id": "2aa13d4da24543c8bdb36b5b731d1ee8",
       "version_major": 2,
       "version_minor": 0
      },
      "text/plain": [
       "HBox(children=(IntProgress(value=0, max=6), HTML(value='')))"
      ]
     },
     "metadata": {},
     "output_type": "display_data"
    },
    {
     "name": "stdout",
     "output_type": "stream",
     "text": [
      "Scraping Reviews for Hartford, Connecticut (3 restaurants)\n"
     ]
    },
    {
     "data": {
      "application/vnd.jupyter.widget-view+json": {
       "model_id": "d2a84929ad9648dfa555b25e7fb3bfd6",
       "version_major": 2,
       "version_minor": 0
      },
      "text/plain": [
       "HBox(children=(IntProgress(value=0, max=3), HTML(value='')))"
      ]
     },
     "metadata": {},
     "output_type": "display_data"
    },
    {
     "name": "stdout",
     "output_type": "stream",
     "text": [
      "Scraping Reviews for Rockland, New York (3 restaurants)\n"
     ]
    },
    {
     "data": {
      "application/vnd.jupyter.widget-view+json": {
       "model_id": "2aeaa4989e3b4519a5d1350c80c987f3",
       "version_major": 2,
       "version_minor": 0
      },
      "text/plain": [
       "HBox(children=(IntProgress(value=0, max=3), HTML(value='')))"
      ]
     },
     "metadata": {},
     "output_type": "display_data"
    }
   ],
   "source": [
    "# go again\n",
    "rescraped_reviews_4 = {}\n",
    "rescrape_reviews(rescrape_df, rescraped_reviews_4)"
   ]
  },
  {
   "cell_type": "code",
   "execution_count": 120,
   "metadata": {},
   "outputs": [
    {
     "data": {
      "text/html": [
       "<div>\n",
       "<style scoped>\n",
       "    .dataframe tbody tr th:only-of-type {\n",
       "        vertical-align: middle;\n",
       "    }\n",
       "\n",
       "    .dataframe tbody tr th {\n",
       "        vertical-align: top;\n",
       "    }\n",
       "\n",
       "    .dataframe thead th {\n",
       "        text-align: right;\n",
       "    }\n",
       "</style>\n",
       "<table border=\"1\" class=\"dataframe\">\n",
       "  <thead>\n",
       "    <tr style=\"text-align: right;\">\n",
       "      <th></th>\n",
       "      <th>author</th>\n",
       "      <th>city</th>\n",
       "      <th>description</th>\n",
       "      <th>publish_date</th>\n",
       "      <th>review_number</th>\n",
       "      <th>score</th>\n",
       "    </tr>\n",
       "    <tr>\n",
       "      <th>id</th>\n",
       "      <th></th>\n",
       "      <th></th>\n",
       "      <th></th>\n",
       "      <th></th>\n",
       "      <th></th>\n",
       "      <th></th>\n",
       "    </tr>\n",
       "  </thead>\n",
       "  <tbody>\n",
       "    <tr>\n",
       "      <th>-waToVFx_mUO8qwvv8fd4A</th>\n",
       "      <td>Donna R.</td>\n",
       "      <td>Middlesex, New Jersey</td>\n",
       "      <td>This is definitely a dive style bar, but let m...</td>\n",
       "      <td>2016-03-18</td>\n",
       "      <td>1</td>\n",
       "      <td>4.0</td>\n",
       "    </tr>\n",
       "    <tr>\n",
       "      <th>-waToVFx_mUO8qwvv8fd4A</th>\n",
       "      <td>Kirsten K.</td>\n",
       "      <td>Middlesex, New Jersey</td>\n",
       "      <td>Tim Kerwin's is a fun Irish bar that serves a ...</td>\n",
       "      <td>2019-01-20</td>\n",
       "      <td>2</td>\n",
       "      <td>5.0</td>\n",
       "    </tr>\n",
       "    <tr>\n",
       "      <th>-waToVFx_mUO8qwvv8fd4A</th>\n",
       "      <td>Lisa H.</td>\n",
       "      <td>Middlesex, New Jersey</td>\n",
       "      <td>If your looking for a fun relaxed good time th...</td>\n",
       "      <td>2019-07-09</td>\n",
       "      <td>3</td>\n",
       "      <td>4.0</td>\n",
       "    </tr>\n",
       "    <tr>\n",
       "      <th>-waToVFx_mUO8qwvv8fd4A</th>\n",
       "      <td>Mark P.</td>\n",
       "      <td>Middlesex, New Jersey</td>\n",
       "      <td>Great place to shoot darts and hang out! With ...</td>\n",
       "      <td>2019-01-26</td>\n",
       "      <td>4</td>\n",
       "      <td>5.0</td>\n",
       "    </tr>\n",
       "    <tr>\n",
       "      <th>-waToVFx_mUO8qwvv8fd4A</th>\n",
       "      <td>Wendy S.</td>\n",
       "      <td>Middlesex, New Jersey</td>\n",
       "      <td>Cant wait for the weekends when my favorite ba...</td>\n",
       "      <td>2019-01-26</td>\n",
       "      <td>5</td>\n",
       "      <td>5.0</td>\n",
       "    </tr>\n",
       "  </tbody>\n",
       "</table>\n",
       "</div>"
      ],
      "text/plain": [
       "                            author                   city  \\\n",
       "id                                                          \n",
       "-waToVFx_mUO8qwvv8fd4A    Donna R.  Middlesex, New Jersey   \n",
       "-waToVFx_mUO8qwvv8fd4A  Kirsten K.  Middlesex, New Jersey   \n",
       "-waToVFx_mUO8qwvv8fd4A     Lisa H.  Middlesex, New Jersey   \n",
       "-waToVFx_mUO8qwvv8fd4A     Mark P.  Middlesex, New Jersey   \n",
       "-waToVFx_mUO8qwvv8fd4A    Wendy S.  Middlesex, New Jersey   \n",
       "\n",
       "                                                              description  \\\n",
       "id                                                                          \n",
       "-waToVFx_mUO8qwvv8fd4A  This is definitely a dive style bar, but let m...   \n",
       "-waToVFx_mUO8qwvv8fd4A  Tim Kerwin's is a fun Irish bar that serves a ...   \n",
       "-waToVFx_mUO8qwvv8fd4A  If your looking for a fun relaxed good time th...   \n",
       "-waToVFx_mUO8qwvv8fd4A  Great place to shoot darts and hang out! With ...   \n",
       "-waToVFx_mUO8qwvv8fd4A  Cant wait for the weekends when my favorite ba...   \n",
       "\n",
       "                       publish_date review_number  score  \n",
       "id                                                        \n",
       "-waToVFx_mUO8qwvv8fd4A   2016-03-18             1    4.0  \n",
       "-waToVFx_mUO8qwvv8fd4A   2019-01-20             2    5.0  \n",
       "-waToVFx_mUO8qwvv8fd4A   2019-07-09             3    4.0  \n",
       "-waToVFx_mUO8qwvv8fd4A   2019-01-26             4    5.0  \n",
       "-waToVFx_mUO8qwvv8fd4A   2019-01-26             5    5.0  "
      ]
     },
     "execution_count": 120,
     "metadata": {},
     "output_type": "execute_result"
    }
   ],
   "source": [
    "# parse nested dictionary into a dataframe\n",
    "df5 = pd.DataFrame()\n",
    "for restaurant in rescraped_reviews_4:\n",
    "    restaurant_df = pd.DataFrame.from_dict(rescraped_reviews_4[restaurant], orient='index')\n",
    "    restaurant_df['id'] = restaurant\n",
    "    restaurant_df = restaurant_df.reset_index().set_index('id').rename(columns={'index':'review_number'})\n",
    "    df5 = df5.append(restaurant_df)\n",
    "    \n",
    "df5.head()"
   ]
  },
  {
   "cell_type": "code",
   "execution_count": 121,
   "metadata": {},
   "outputs": [
    {
     "data": {
      "text/html": [
       "<div>\n",
       "<style scoped>\n",
       "    .dataframe tbody tr th:only-of-type {\n",
       "        vertical-align: middle;\n",
       "    }\n",
       "\n",
       "    .dataframe tbody tr th {\n",
       "        vertical-align: top;\n",
       "    }\n",
       "\n",
       "    .dataframe thead th {\n",
       "        text-align: right;\n",
       "    }\n",
       "</style>\n",
       "<table border=\"1\" class=\"dataframe\">\n",
       "  <thead>\n",
       "    <tr style=\"text-align: right;\">\n",
       "      <th></th>\n",
       "      <th>author</th>\n",
       "      <th>city</th>\n",
       "      <th>description</th>\n",
       "      <th>publish_date</th>\n",
       "      <th>review_number</th>\n",
       "      <th>score</th>\n",
       "    </tr>\n",
       "    <tr>\n",
       "      <th>id</th>\n",
       "      <th></th>\n",
       "      <th></th>\n",
       "      <th></th>\n",
       "      <th></th>\n",
       "      <th></th>\n",
       "      <th></th>\n",
       "    </tr>\n",
       "  </thead>\n",
       "  <tbody>\n",
       "    <tr>\n",
       "      <th>PdmsXmprYb_-GdbfjNp7Gg</th>\n",
       "      <td>Harrison E.</td>\n",
       "      <td>Hartford, Connecticut</td>\n",
       "      <td>Best Italian food in Hartford County! Not an e...</td>\n",
       "      <td>2020-04-05</td>\n",
       "      <td>2</td>\n",
       "      <td>5.0</td>\n",
       "    </tr>\n",
       "  </tbody>\n",
       "</table>\n",
       "</div>"
      ],
      "text/plain": [
       "                             author                   city  \\\n",
       "id                                                           \n",
       "PdmsXmprYb_-GdbfjNp7Gg  Harrison E.  Hartford, Connecticut   \n",
       "\n",
       "                                                              description  \\\n",
       "id                                                                          \n",
       "PdmsXmprYb_-GdbfjNp7Gg  Best Italian food in Hartford County! Not an e...   \n",
       "\n",
       "                       publish_date review_number  score  \n",
       "id                                                        \n",
       "PdmsXmprYb_-GdbfjNp7Gg   2020-04-05             2    5.0  "
      ]
     },
     "execution_count": 121,
     "metadata": {},
     "output_type": "execute_result"
    }
   ],
   "source": [
    "### combine reviews scraped so far\n",
    "current_reviews_4 = current_reviews_3.append(df5)\n",
    "\n",
    "# no duplicates\n",
    "current_reviews_4[current_reviews_4.duplicated()]"
   ]
  },
  {
   "cell_type": "code",
   "execution_count": 122,
   "metadata": {},
   "outputs": [
    {
     "data": {
      "text/html": [
       "<div>\n",
       "<style scoped>\n",
       "    .dataframe tbody tr th:only-of-type {\n",
       "        vertical-align: middle;\n",
       "    }\n",
       "\n",
       "    .dataframe tbody tr th {\n",
       "        vertical-align: top;\n",
       "    }\n",
       "\n",
       "    .dataframe thead th {\n",
       "        text-align: right;\n",
       "    }\n",
       "</style>\n",
       "<table border=\"1\" class=\"dataframe\">\n",
       "  <thead>\n",
       "    <tr style=\"text-align: right;\">\n",
       "      <th></th>\n",
       "      <th>alias</th>\n",
       "      <th>categories</th>\n",
       "      <th>city_x</th>\n",
       "      <th>coordinates</th>\n",
       "      <th>is_closed</th>\n",
       "      <th>location</th>\n",
       "      <th>name</th>\n",
       "      <th>price</th>\n",
       "      <th>rating</th>\n",
       "      <th>review_count</th>\n",
       "      <th>transactions</th>\n",
       "      <th>author</th>\n",
       "      <th>city_y</th>\n",
       "      <th>description</th>\n",
       "      <th>publish_date</th>\n",
       "      <th>review_number</th>\n",
       "      <th>score</th>\n",
       "    </tr>\n",
       "  </thead>\n",
       "  <tbody>\n",
       "    <tr>\n",
       "      <th>--CprxtcUfzKoz29hAzm5w</th>\n",
       "      <td>wellys-restaurant-marlborough</td>\n",
       "      <td>[{'alias': 'tradamerican', 'title': 'American ...</td>\n",
       "      <td>Middlesex, Massachusetts</td>\n",
       "      <td>{'latitude': 42.3469, 'longitude': -71.54837}</td>\n",
       "      <td>False</td>\n",
       "      <td>{'address1': '153 Main St', 'address2': '', 'a...</td>\n",
       "      <td>Welly's Restaurant</td>\n",
       "      <td>$$</td>\n",
       "      <td>4.0</td>\n",
       "      <td>170</td>\n",
       "      <td>[delivery]</td>\n",
       "      <td>Sara P.</td>\n",
       "      <td>Middlesex, Massachusetts</td>\n",
       "      <td>I haven't even left yet. But I am thoroughly p...</td>\n",
       "      <td>2020-01-24</td>\n",
       "      <td>1</td>\n",
       "      <td>5.0</td>\n",
       "    </tr>\n",
       "    <tr>\n",
       "      <th>--CprxtcUfzKoz29hAzm5w</th>\n",
       "      <td>wellys-restaurant-marlborough</td>\n",
       "      <td>[{'alias': 'tradamerican', 'title': 'American ...</td>\n",
       "      <td>Middlesex, Massachusetts</td>\n",
       "      <td>{'latitude': 42.3469, 'longitude': -71.54837}</td>\n",
       "      <td>False</td>\n",
       "      <td>{'address1': '153 Main St', 'address2': '', 'a...</td>\n",
       "      <td>Welly's Restaurant</td>\n",
       "      <td>$$</td>\n",
       "      <td>4.0</td>\n",
       "      <td>170</td>\n",
       "      <td>[delivery]</td>\n",
       "      <td>Matt K.</td>\n",
       "      <td>Middlesex, Massachusetts</td>\n",
       "      <td>I've been to Welly's a few times and each time...</td>\n",
       "      <td>2019-11-12</td>\n",
       "      <td>2</td>\n",
       "      <td>4.0</td>\n",
       "    </tr>\n",
       "    <tr>\n",
       "      <th>--CprxtcUfzKoz29hAzm5w</th>\n",
       "      <td>wellys-restaurant-marlborough</td>\n",
       "      <td>[{'alias': 'tradamerican', 'title': 'American ...</td>\n",
       "      <td>Middlesex, Massachusetts</td>\n",
       "      <td>{'latitude': 42.3469, 'longitude': -71.54837}</td>\n",
       "      <td>False</td>\n",
       "      <td>{'address1': '153 Main St', 'address2': '', 'a...</td>\n",
       "      <td>Welly's Restaurant</td>\n",
       "      <td>$$</td>\n",
       "      <td>4.0</td>\n",
       "      <td>170</td>\n",
       "      <td>[delivery]</td>\n",
       "      <td>AnnMarie H.</td>\n",
       "      <td>Middlesex, Massachusetts</td>\n",
       "      <td>Welly's is a very popular bar right in downtow...</td>\n",
       "      <td>2019-11-08</td>\n",
       "      <td>3</td>\n",
       "      <td>4.0</td>\n",
       "    </tr>\n",
       "    <tr>\n",
       "      <th>--CprxtcUfzKoz29hAzm5w</th>\n",
       "      <td>wellys-restaurant-marlborough</td>\n",
       "      <td>[{'alias': 'tradamerican', 'title': 'American ...</td>\n",
       "      <td>Middlesex, Massachusetts</td>\n",
       "      <td>{'latitude': 42.3469, 'longitude': -71.54837}</td>\n",
       "      <td>False</td>\n",
       "      <td>{'address1': '153 Main St', 'address2': '', 'a...</td>\n",
       "      <td>Welly's Restaurant</td>\n",
       "      <td>$$</td>\n",
       "      <td>4.0</td>\n",
       "      <td>170</td>\n",
       "      <td>[delivery]</td>\n",
       "      <td>Christy C.</td>\n",
       "      <td>Middlesex, Massachusetts</td>\n",
       "      <td>I used to think the idea of fish tacos were no...</td>\n",
       "      <td>2020-04-03</td>\n",
       "      <td>4</td>\n",
       "      <td>5.0</td>\n",
       "    </tr>\n",
       "    <tr>\n",
       "      <th>--CprxtcUfzKoz29hAzm5w</th>\n",
       "      <td>wellys-restaurant-marlborough</td>\n",
       "      <td>[{'alias': 'tradamerican', 'title': 'American ...</td>\n",
       "      <td>Middlesex, Massachusetts</td>\n",
       "      <td>{'latitude': 42.3469, 'longitude': -71.54837}</td>\n",
       "      <td>False</td>\n",
       "      <td>{'address1': '153 Main St', 'address2': '', 'a...</td>\n",
       "      <td>Welly's Restaurant</td>\n",
       "      <td>$$</td>\n",
       "      <td>4.0</td>\n",
       "      <td>170</td>\n",
       "      <td>[delivery]</td>\n",
       "      <td>Marissa V.</td>\n",
       "      <td>Middlesex, Massachusetts</td>\n",
       "      <td>Came here with some work colleagues and ordere...</td>\n",
       "      <td>2020-01-03</td>\n",
       "      <td>5</td>\n",
       "      <td>4.0</td>\n",
       "    </tr>\n",
       "  </tbody>\n",
       "</table>\n",
       "</div>"
      ],
      "text/plain": [
       "                                                alias  \\\n",
       "--CprxtcUfzKoz29hAzm5w  wellys-restaurant-marlborough   \n",
       "--CprxtcUfzKoz29hAzm5w  wellys-restaurant-marlborough   \n",
       "--CprxtcUfzKoz29hAzm5w  wellys-restaurant-marlborough   \n",
       "--CprxtcUfzKoz29hAzm5w  wellys-restaurant-marlborough   \n",
       "--CprxtcUfzKoz29hAzm5w  wellys-restaurant-marlborough   \n",
       "\n",
       "                                                               categories  \\\n",
       "--CprxtcUfzKoz29hAzm5w  [{'alias': 'tradamerican', 'title': 'American ...   \n",
       "--CprxtcUfzKoz29hAzm5w  [{'alias': 'tradamerican', 'title': 'American ...   \n",
       "--CprxtcUfzKoz29hAzm5w  [{'alias': 'tradamerican', 'title': 'American ...   \n",
       "--CprxtcUfzKoz29hAzm5w  [{'alias': 'tradamerican', 'title': 'American ...   \n",
       "--CprxtcUfzKoz29hAzm5w  [{'alias': 'tradamerican', 'title': 'American ...   \n",
       "\n",
       "                                          city_x  \\\n",
       "--CprxtcUfzKoz29hAzm5w  Middlesex, Massachusetts   \n",
       "--CprxtcUfzKoz29hAzm5w  Middlesex, Massachusetts   \n",
       "--CprxtcUfzKoz29hAzm5w  Middlesex, Massachusetts   \n",
       "--CprxtcUfzKoz29hAzm5w  Middlesex, Massachusetts   \n",
       "--CprxtcUfzKoz29hAzm5w  Middlesex, Massachusetts   \n",
       "\n",
       "                                                          coordinates  \\\n",
       "--CprxtcUfzKoz29hAzm5w  {'latitude': 42.3469, 'longitude': -71.54837}   \n",
       "--CprxtcUfzKoz29hAzm5w  {'latitude': 42.3469, 'longitude': -71.54837}   \n",
       "--CprxtcUfzKoz29hAzm5w  {'latitude': 42.3469, 'longitude': -71.54837}   \n",
       "--CprxtcUfzKoz29hAzm5w  {'latitude': 42.3469, 'longitude': -71.54837}   \n",
       "--CprxtcUfzKoz29hAzm5w  {'latitude': 42.3469, 'longitude': -71.54837}   \n",
       "\n",
       "                        is_closed  \\\n",
       "--CprxtcUfzKoz29hAzm5w      False   \n",
       "--CprxtcUfzKoz29hAzm5w      False   \n",
       "--CprxtcUfzKoz29hAzm5w      False   \n",
       "--CprxtcUfzKoz29hAzm5w      False   \n",
       "--CprxtcUfzKoz29hAzm5w      False   \n",
       "\n",
       "                                                                 location  \\\n",
       "--CprxtcUfzKoz29hAzm5w  {'address1': '153 Main St', 'address2': '', 'a...   \n",
       "--CprxtcUfzKoz29hAzm5w  {'address1': '153 Main St', 'address2': '', 'a...   \n",
       "--CprxtcUfzKoz29hAzm5w  {'address1': '153 Main St', 'address2': '', 'a...   \n",
       "--CprxtcUfzKoz29hAzm5w  {'address1': '153 Main St', 'address2': '', 'a...   \n",
       "--CprxtcUfzKoz29hAzm5w  {'address1': '153 Main St', 'address2': '', 'a...   \n",
       "\n",
       "                                      name price  rating  review_count  \\\n",
       "--CprxtcUfzKoz29hAzm5w  Welly's Restaurant    $$     4.0           170   \n",
       "--CprxtcUfzKoz29hAzm5w  Welly's Restaurant    $$     4.0           170   \n",
       "--CprxtcUfzKoz29hAzm5w  Welly's Restaurant    $$     4.0           170   \n",
       "--CprxtcUfzKoz29hAzm5w  Welly's Restaurant    $$     4.0           170   \n",
       "--CprxtcUfzKoz29hAzm5w  Welly's Restaurant    $$     4.0           170   \n",
       "\n",
       "                       transactions       author                    city_y  \\\n",
       "--CprxtcUfzKoz29hAzm5w   [delivery]      Sara P.  Middlesex, Massachusetts   \n",
       "--CprxtcUfzKoz29hAzm5w   [delivery]      Matt K.  Middlesex, Massachusetts   \n",
       "--CprxtcUfzKoz29hAzm5w   [delivery]  AnnMarie H.  Middlesex, Massachusetts   \n",
       "--CprxtcUfzKoz29hAzm5w   [delivery]   Christy C.  Middlesex, Massachusetts   \n",
       "--CprxtcUfzKoz29hAzm5w   [delivery]   Marissa V.  Middlesex, Massachusetts   \n",
       "\n",
       "                                                              description  \\\n",
       "--CprxtcUfzKoz29hAzm5w  I haven't even left yet. But I am thoroughly p...   \n",
       "--CprxtcUfzKoz29hAzm5w  I've been to Welly's a few times and each time...   \n",
       "--CprxtcUfzKoz29hAzm5w  Welly's is a very popular bar right in downtow...   \n",
       "--CprxtcUfzKoz29hAzm5w  I used to think the idea of fish tacos were no...   \n",
       "--CprxtcUfzKoz29hAzm5w  Came here with some work colleagues and ordere...   \n",
       "\n",
       "                       publish_date review_number  score  \n",
       "--CprxtcUfzKoz29hAzm5w   2020-01-24             1    5.0  \n",
       "--CprxtcUfzKoz29hAzm5w   2019-11-12             2    4.0  \n",
       "--CprxtcUfzKoz29hAzm5w   2019-11-08             3    4.0  \n",
       "--CprxtcUfzKoz29hAzm5w   2020-04-03             4    5.0  \n",
       "--CprxtcUfzKoz29hAzm5w   2020-01-03             5    4.0  "
      ]
     },
     "execution_count": 122,
     "metadata": {},
     "output_type": "execute_result"
    }
   ],
   "source": [
    "review_data = business_df.merge(current_reviews_4, how='left', left_index=True, right_index=True)\n",
    "review_data.head()"
   ]
  },
  {
   "cell_type": "code",
   "execution_count": 123,
   "metadata": {},
   "outputs": [],
   "source": [
    "now = datetime.now().strftime(\"%Y_%m_%d_%H_%M\")\n",
    "review_data.to_csv('review_data_{}.csv'.format(now))"
   ]
  },
  {
   "cell_type": "code",
   "execution_count": 124,
   "metadata": {},
   "outputs": [
    {
     "data": {
      "text/plain": [
       "342034"
      ]
     },
     "execution_count": 124,
     "metadata": {},
     "output_type": "execute_result"
    }
   ],
   "source": [
    "len(review_data)"
   ]
  },
  {
   "cell_type": "code",
   "execution_count": 125,
   "metadata": {},
   "outputs": [
    {
     "data": {
      "text/plain": [
       "(4639, 2)"
      ]
     },
     "execution_count": 125,
     "metadata": {},
     "output_type": "execute_result"
    }
   ],
   "source": [
    "# rescrape businesses with no review data\n",
    "rescrape = review_data[review_data['publish_date'].isna()].index.to_list()\n",
    "rescrape_df = business_df[business_df.index.isin(rescrape)]\n",
    "len(business_df), len(rescrape_df)"
   ]
  },
  {
   "cell_type": "code",
   "execution_count": 127,
   "metadata": {},
   "outputs": [
    {
     "data": {
      "text/html": [
       "<div>\n",
       "<style scoped>\n",
       "    .dataframe tbody tr th:only-of-type {\n",
       "        vertical-align: middle;\n",
       "    }\n",
       "\n",
       "    .dataframe tbody tr th {\n",
       "        vertical-align: top;\n",
       "    }\n",
       "\n",
       "    .dataframe thead th {\n",
       "        text-align: right;\n",
       "    }\n",
       "</style>\n",
       "<table border=\"1\" class=\"dataframe\">\n",
       "  <thead>\n",
       "    <tr style=\"text-align: right;\">\n",
       "      <th></th>\n",
       "      <th>alias</th>\n",
       "      <th>categories</th>\n",
       "      <th>city</th>\n",
       "      <th>coordinates</th>\n",
       "      <th>is_closed</th>\n",
       "      <th>location</th>\n",
       "      <th>name</th>\n",
       "      <th>price</th>\n",
       "      <th>rating</th>\n",
       "      <th>review_count</th>\n",
       "      <th>transactions</th>\n",
       "    </tr>\n",
       "  </thead>\n",
       "  <tbody>\n",
       "    <tr>\n",
       "      <th>buZxGdNGUuRl19gVa8GL0Q</th>\n",
       "      <td>jr-el-mariachi-mexican-restaurant-riverhead</td>\n",
       "      <td>[{'alias': 'mexican', 'title': 'Mexican'}, {'a...</td>\n",
       "      <td>Suffolk, New York</td>\n",
       "      <td>{'latitude': 40.91392, 'longitude': -72.65677}</td>\n",
       "      <td>False</td>\n",
       "      <td>{'address1': '191 Flanders Rd', 'address2': No...</td>\n",
       "      <td>JR El Mariachi Mexican Restaurant</td>\n",
       "      <td>NaN</td>\n",
       "      <td>1.0</td>\n",
       "      <td>1</td>\n",
       "      <td>[delivery]</td>\n",
       "    </tr>\n",
       "    <tr>\n",
       "      <th>X-GDbySI-heuP_l1xJ2Zpg</th>\n",
       "      <td>the-chapel-margate</td>\n",
       "      <td>[{'alias': 'british', 'title': 'British'}, {'a...</td>\n",
       "      <td>Fairfield, Connecticut</td>\n",
       "      <td>{'latitude': 51.3788, 'longitude': 1.40153}</td>\n",
       "      <td>False</td>\n",
       "      <td>{'address1': '44 46 Albion Street', 'address2'...</td>\n",
       "      <td>The Chapel</td>\n",
       "      <td>NaN</td>\n",
       "      <td>5.0</td>\n",
       "      <td>1</td>\n",
       "      <td>[]</td>\n",
       "    </tr>\n",
       "  </tbody>\n",
       "</table>\n",
       "</div>"
      ],
      "text/plain": [
       "                                                              alias  \\\n",
       "buZxGdNGUuRl19gVa8GL0Q  jr-el-mariachi-mexican-restaurant-riverhead   \n",
       "X-GDbySI-heuP_l1xJ2Zpg                           the-chapel-margate   \n",
       "\n",
       "                                                               categories  \\\n",
       "buZxGdNGUuRl19gVa8GL0Q  [{'alias': 'mexican', 'title': 'Mexican'}, {'a...   \n",
       "X-GDbySI-heuP_l1xJ2Zpg  [{'alias': 'british', 'title': 'British'}, {'a...   \n",
       "\n",
       "                                          city  \\\n",
       "buZxGdNGUuRl19gVa8GL0Q       Suffolk, New York   \n",
       "X-GDbySI-heuP_l1xJ2Zpg  Fairfield, Connecticut   \n",
       "\n",
       "                                                           coordinates  \\\n",
       "buZxGdNGUuRl19gVa8GL0Q  {'latitude': 40.91392, 'longitude': -72.65677}   \n",
       "X-GDbySI-heuP_l1xJ2Zpg     {'latitude': 51.3788, 'longitude': 1.40153}   \n",
       "\n",
       "                        is_closed  \\\n",
       "buZxGdNGUuRl19gVa8GL0Q      False   \n",
       "X-GDbySI-heuP_l1xJ2Zpg      False   \n",
       "\n",
       "                                                                 location  \\\n",
       "buZxGdNGUuRl19gVa8GL0Q  {'address1': '191 Flanders Rd', 'address2': No...   \n",
       "X-GDbySI-heuP_l1xJ2Zpg  {'address1': '44 46 Albion Street', 'address2'...   \n",
       "\n",
       "                                                     name price  rating  \\\n",
       "buZxGdNGUuRl19gVa8GL0Q  JR El Mariachi Mexican Restaurant   NaN     1.0   \n",
       "X-GDbySI-heuP_l1xJ2Zpg                         The Chapel   NaN     5.0   \n",
       "\n",
       "                        review_count transactions  \n",
       "buZxGdNGUuRl19gVa8GL0Q             1   [delivery]  \n",
       "X-GDbySI-heuP_l1xJ2Zpg             1           []  "
      ]
     },
     "execution_count": 127,
     "metadata": {},
     "output_type": "execute_result"
    }
   ],
   "source": [
    "# don't worry about rescraping last 2 businesses\n",
    "rescrape_df"
   ]
  },
  {
   "cell_type": "code",
   "execution_count": 142,
   "metadata": {},
   "outputs": [
    {
     "name": "stdout",
     "output_type": "stream",
     "text": [
      "I haven't even left yet. But I am thoroughly pleased with our dinner choice. First there is a huge hockey party here and they were like we won't sit you next to them if you don't want to but we have a kid and we're like no worries. Paul was attentive and kind. He had great suggestions for us.\n",
      "\n",
      "\n",
      " We had the Chicken Carbonara and the Nachos with Chilli. And OMFG it was so good. The chicken was so tender and delightful the Nachos were phenomenal. You'd be surprised how many places mess up nachos, but these guys made them just right. Crispy chips, cheesey, delicious and with fresh tomatoes to boot. My husband and I had to stop ourselves from finishing them. There was no more room in our bellies, but our taste buds demanded more.\n",
      "\n",
      "I'm stoked for the new location in Hudson it cannot open fast enough!\n",
      "\n",
      "I have to stop eating. It's so good! I cannot.\n",
      "I've been to Welly's a few times and each time, the food has been incredible! Most recently I had the veal/eggplant parm combo, which was delicious. Both the veal and eggplant were so tender! It was a little pricey, but the portions were massive and I had plenty to take home for leftovers, so I'd say it was worth it. They also have strong, reasonably priced drinks.\n",
      "\n",
      "Giving them four stars instead of five because it can be packed depending on when you go. Normally this wouldn't be an issue, but because it's such a small space, the seating can be cramped and it can be hard to hear. I'd also recommend either making a reservation or going during a quieter time - last time I went on a Sunday night, and there was about a half hour wait to get in. The service is quick once you do get in, though.\n",
      "Welly's is a very popular bar right in downtown historic  Marlborough center. It has an an American grill theme. I would advise you try to get a table anywhere but the front room. The door opens often and there is a cold wind in the winter. It's a decent sized restaurant but is very crowded, so that tells you that the food is good. They have a varied menu, so there's something for everyone. They have a gluten-free menu and can accommodate most allergies our waiter was Leo and he was very knowledgeable about the menu and about allergies. The drinks came out pretty quick and there were fresh, hot rolls for the table. I ordered the clam chowder. It's had a good consistency-- not too thin and not overly thick and it was very flavorful. My friend ordered the French Onion soup and loved it. I ordered the chicken Parmesan with angel hair spaghetti. The portions on all the dishes were enormous. The chicken patties were breaded fine, but they were a little soggy from the sauce. The angel hair was cooked perfectly, but it didn't taste salted. The meal was good and I would not discourage anyone from getting it, but it didn't blow my socks off. My friends raves about the beef stew, scallops and gluten free risotto. \n",
      "\n",
      "I would recommend you give this restaurant a try, especially if you have food allergies.\n",
      "I used to think the idea of fish tacos were not very appetizing. Well...I was wrong.  I've tried them at several establishments and I say hands down Welly's are the best! Can't wait till I order them again...probably tomorrow .\n",
      "Came here with some work colleagues and ordered some drinks and a burger. I've never had a burger with a fried egg on it before so I had to try that. It was absolutely mind blowing honestly! The only thing I'm not sure if it was the egg or if it had been sitting on the plate too long but the bottom bun was so soggy. The burger was really moist too and had good flavor the only down side was the soggy bun. Had that not happened I would give it 5 stars. The service was really fast and friendly and would definitely go back, looking forward to the Hudson location.\n",
      "I would have given this restaurant 5-stars if the service had been better. \n",
      "\n",
      "I ordered the brazilian-style burger, medium rare. Food came out in a reasonable amount of time, and my burger was perfectly cooked. It was yummy! I love burgers with eggs. My friends think it's weird, but it's so freakin' delicious! It came with a side of fries, which were also tasty. \n",
      "\n",
      "The waitress kept referring to everyone as \"sweetie\" or \"honey\". I can't stand it when they do that. I used to be a waitress and one of the first things they told us during our training was to never refer to customers in that manner. Second issue was that she never came back to ask how the food was. My water glass was never refilled--other members in the party had to flag her down to ask for more water.\n",
      "\n",
      "Conclusion: food great, but service seriously lacking.\n",
      "My coworkers and I came to Welly's for lunch after it was highly recommended to us. We decided to share a bunch of plates to try a little of everything and it was a great way to explore the menu.\n",
      "\n",
      "I couldn't help but try the French Onion soup and it was pretty good! We also shared the steak tips, lobster sliders, and toasted ravioli. \n",
      "\n",
      "For anyone who has never had toasted ravioli, you have to try it! Deep fried pasta with melted ricotta dipped in marinara cannot go wrong. \n",
      "\n",
      "The steak tips were a little disappointing because they ranged from really rare to medium well and weren't consistent. But the star was the lobster sliders! The brioche bun was eggy and rich and the lobster itself really fresh, not too creamy, and very tender.\n",
      "Best food in Marlborough. Anything I've ordered from here has been excellent. The salmon dinner is my go to with the vegetable medley and rice pilaf for the sides. It's incredible. The shrimp scampi is good, chicken broccoli Alfredo. The toasted ravioli is a good starter. The list goes on. If you're in Marlborough make it a point to stop by.\n",
      "Very cute and cozy pub spot. Perfect for a casual lunch or dinner. Great All American food like burgers, salads, and sandwiches. They have combo options where you can do a soup, salad and half a sandwich. Got a great cob salad that was a very generous portion size and fresh ingredients. Overall great service and good quality food with plenty of options! Yum and will be back soon!\n",
      "Now I might be a bit bias because Welington is my boss at his landscaping company butttt this is the best pizza around. I've lived around Marlborough for about 15 years and had never heard of Welly's until one day my manager went down the street and got us a pizza... ever since that day I haven't ordered pizza anywhere else in Marlborough. Their food is delicious! And Welly is not only the best boss ever but also cares so much about his restaurant, it's customers and makes sure to be in the kitchen cooking. Sorry that this picture I had already started eating I just couldn't help myself\n",
      "Patio season is winding down, so we decided to give Welly's a try. Their outdoor seating is on the sidewalk with stanchions separating the tables from the walkway, and the tables have umbrellas. \n",
      "\n",
      "We ordered the fried crispy Brussels sprouts appetizer and fish tacos with sweet potato fries (which were presented as an option but were not disclosed as being an extra $2.) Fish tacos were a good size and there were 3 of them; sweet potato fries were tasty but only a small handful. Having ordered fried Brussels sprouts elsewhere we expected them to be crispy (per the description)..as in fresh, naked and deep fried; sadly these were previously frozen, dipped in batter whole and barely fried. Why one would spend $10 for battered frozen Brussels sprouts is a mystery and given the availability of fresh veggies in the summer it was baffling.\n",
      "\n",
      "Our experience was saved mostly by the pleasant and enthusiastic waitperson who took time to make food recommendations, list all of the draft beers on tap, and who seemed genuinely eager to give us a good experience. I hope the owner will reconsider frozen, mushy vegetables and use readily available fresh ingredients in the future.\n",
      "Excellent food, service and atmosphere!\n",
      "Awesome Nachos and Chicken Parm.\n",
      "The service was excellent and the place was very clean. It was a great experience all around!\n",
      "Decided to stop and eat on another night besides chicken parm soeciall night.  Not disappointed at all. I started with a delicious St Germaine special drink.  Very light and refreshing. Ordered 3 sliders including 1 with no onions and fries.  Added ketchup and mayo. It the spot and fries were hot and tasty.  Hubby had a chicken taco and an individual size tangy grilled chicken pizza.  No skimping on the addons thats for sure.  We now can go three nights a week and not break the bank.Kelly was our server who was very attentive and happy.  Afterwards went over to bartender and ask for measurements for drinks.  He happily gave me quantity and how he prepared my drink.  I like the social feeling of the staff that is partly why I will go back.  The other part food is prepared fresh!!!\n",
      "What a great surprise to find this hidden gem. Great to know you don't have to travel all the way into Boston to get a fabulous meal with unbelievable staff. From cocktails to our meals, everything was perfect. Beautiful restaurant aesthetically as well. Warm and inviting.\n",
      "I got the steak tips which were fabulous, my husband got the fisherman's platter~delicious and friends got the scallop risotto as well as pasta scampi, both of which loved their meals.\n",
      "Came highly recommended by locals I met while working in the area. It did not disappoint. I went on a Tuesday, sat at the bar, and ordered a beer and the chicken parmesan special. Chicken parmesan was 5.95 and was excellent. Tender, tasty, and served with ziti. Yum.\n",
      "I had the chicken parmigiana. It was great and our server Abbe was fabulous  :) quick service with a smile\n",
      "Welly's is the best! Such a great family oriented restaurant. They have so many options and are great with allergies and dietary restrictions. Great drinks too! Highly recommend!\n",
      "Welly's is probably one of the busiest restaurants in Marlborough. They have a wonderful menu to choose from. Lots of wonderful specials. Delicious seafood too. The prices are inexpensive. No wonder the place is busy. I can't wait to try their new location when it opens. The staff here is always friendly. What a gem for Marlborough. Tasty food &amp; delicious drinks. Great for families.\n",
      "I'm sad to write this update! My husband and I frequent Welly's a lot. Most of the male servers recognize us as regulars. I love love love their Chicken Madeira so we decided to go last night for some yummy Welly's! Service has always been hit or miss, but now there has been two occurrences where the female manager (I didn't catch her name) has been unprofessional and unhelpful. A few weeks ago she gave us attitude for asking for blue cheese. We thought about complaining but figured we'd let it go, maybe she was having a rough day. Last night I ordered the Madeira and the chicken was significantly less than usual. I brought it to my server's attention, and then the same female manager came by explaining that \"it's the same amount they probably just pounded it too much.\" I said I come here a lot and I can show her pictures of what it's looked like in the past, but she said no that's ok, that's just how it is. I said I don't agree, but I guess I have to. \n",
      "\n",
      "She did give us 1/2 off just the Madeira in the end, but the whole experience left a bad taste in my mouth. I am hesitant to return again, and I'm going to call the manager to let them know today. \n",
      "\n",
      "So sad because I always say this is my favorite place in Marlborough and always recommend it to my friends and family! \n",
      "\n",
      "Also, we went to Double T's (where the owner cares) after to get some food, because I was still hungry...\n",
      "Love the chicken bites here and the chicken broccoli Alfredo calzone gets pretty busy here but well worth the wait for the bites\n",
      "Took the fam out tonight and had a good meal.  \n",
      "I do love to support the local Mom &amp; Pop places. \n",
      "The chicken Caesar salad pizza was delicious. Burgers and chicken parm were eaten and devoured by all. Will definitely be back to try some other dishes.\n",
      "I LOVE Welly's! I have been twice in two weeks and I travel almost an hour to get there.  I'm a big  time foodie and really loved the chicken Parmesan with sautéed spinach! Great combination. The Blueberry Cheesecake is off the charts! Oh yes and GREAT service by Bri!!\n",
      "I had a disappointing experience at Welly's several years ago, but after going there again several times in the past few months it is now my favorite restaurant!\n",
      "\n",
      "Tonight my boyfriend and I shared the chicken carbonara dish  and the filet mignon/baked haddock with crab special.  Every bite was delicious.   Both the haddock and carbonara dishes were excellent -- and better than similar dishes from other restaurants that I always relished.  And the filets were perfectly cooked - even the rice pilaf was good.   We both agreed it was one of the best meals we've had in a long time.  (And we just spent a week sampling restaurants in Washington DC.)\n",
      "\n",
      "On top of that, the portions were generous (lots of leftovers for tomorrow-- yum!) and the prices extremely reasonable.  \n",
      "\n",
      "Can't wait for the Hudson location to open, but whether it is the Hudson or Marlboro location, we will definitely be back!\n",
      "I saw their CHICKEN PARM on a local foodie show. I've been dreaming about it ever since. I can't make it in a Tuesday night when it's on special for only $6!! I tried it tonight and even at full price, it was well worth it. By far, a game changer for me. I may never eat it anywhere else again because it will never measure up to how delicious Welly's makes it. I saved the second piece and half the pasta for lunch tomorrow and I can't stop thinking about eating it NOW!!\n",
      "The service was professional and everyone was welcoming and friendly. They were slamming busy due to $5 burger night going on but the food was still fast, fresh and HOT.\n",
      "Love this hidden gem! The food is always wonderful as are the staff. Very cozy atmosphere without feeling cramped. Had a girls lunch day yesterday and our waitress couldn't have been more helpful and accommodating! She said she was new, but you would never know it. Also have been with my elderly Mom, and the waitress that day was patient and accommodating too\n",
      "Went for dinner recently with the family on \"chicken parm night\".  Parked right in front of the door and walked in and sat down.  No wait, which was a pleasant surprise.  We had called ahead. I was psyched to get the chicken parm because that's my favorite \"Italian\" dish and I had heard so much about it.  They bake it rather than frying, which I figured would be at least a little healthier.  The problem is if it sits at all after baking, the coating gets really soggy.  I like my parm crispy, so I was disappointed. The chicken itself was so thin I suspect they may be slicing the chicken breasts in half and then pounding them. Since it was chicken parm night I don't feel too bad about it at $5.95, but if I had paid $16, it would have been sent back. The pasta was overcooked. The folks that didn't get the parm thought the food was good. Our waitress was new and wasn't familiar with the menu.  Also, pay attention to wine prices as we thought they were high.  I'll try this place again, as I think they try hard, but I'll definitely make a different menu selection.\n",
      "Place is good but the second time I asked for \"extremely well done \"and I come home with this.. like wth?!?!! It's an $18 dish and I had to give half of mine away both times. Won't be back\n",
      "I really wanted to like this place as I had heard good things. It was a busy night so the host sat us at the bar near some regulars. We weren't drinking and apparently we were in one of the regulars seats. The other regulars at the bar actually talked about us amongst themselves. They said people at the bar should have to drink. It was so rude. Then the bartender did nothing and gave us really slow service. Not going back. So offended! Oh and the bartender was flirting with one of the regulars. So gross dont want to see that while I eat my salad.\n",
      "Exceptional dinners Saturday night. Fish tacos and onion rings, cooked perfectly and haddock and risotto . Just great\n",
      "First time for Chix Parm night with extended family and the lovely Colleen provided outstanding service.   Overall great food, drink and prices.  For total 9 guests, our food tab was only $60 and noone left hungry.   \n",
      "Will definitely return &amp; recommend and love to see a local family restaurant so busy on a Tuesday night.  Keep up the good work!\n",
      "Originally from Marlboro, currently live mid coast Maine. I was so impressed with this sweet little restaurant. Maybe it's the beginning of a Renaissance for Marlboro. \n",
      "\n",
      "Prices were reasonable \n",
      "Great atmosphere \n",
      "Five star waitstaff \n",
      "Outstanding deliciousness food\n",
      "Everything was fresh and Cooked to perfection \n",
      "Outstanding Chef\n",
      "\n",
      "We will be back next time we are in the area. Keep up the great work.\n",
      "The food is great. But the alcoholic drinks are incredibly skimpy (1oz MAX and they charge $10 per drink.)\n",
      "Always a favorite! Good food, friendly service, plenty for vegetarians to choose from and nice atmosphere. Prices are super reasonable and we return on a weekly basis!\n",
      "My husband saw this restaurant on Phantom Gourmet and wanted to try it so badly. So, we decided to go tonight, Saturday night, after a soccer game. There were 8 of us. 4 adults, 4 kids. When we first went in, the man taking the wait list shook his head and said that there was no room for our party. So, as we were outside trying to decide where else to go, one of the owners came out and asked if he could help us. We told him our situation, and he got us a table right away. He couldn't have been nicer, and we so appreciated that. The food was delicious, and our waitress was also wonderful. Also, my son has Celiac, and they had a great GF menu too! We will absolutely be back!\n",
      "Fish tacos for lunch at the bar on a random Tuesday. Excellent! Great price and great service too.\n",
      "What a hidden gem!  This is a small local bar with very good food and excellent service.  Even at 5:30 on a Saturday there was a 45 minute wait but Saturday isn't even their busiest night.  The host told us it's Tuesday because that's when they do a chicken parmigiana dinner for $5.95!  Staff is extremely efficient at turning over the tables.  Welly's is a contradiction of terms... a neighborhood bar and restaurant quality food, homemade dressing and frozen Brussel sprouts, New York Sirloin and San Francisco  Cioppino.  The calzones are huge and the specialty pizzas unique.  There is a lot of value for the dollar here which is not always a good thing, but here the quality is for the most part high especially considering the very economical prices.\n",
      "What a quaint place to have dinner. The staff were all Awesome for our little group of seven even though they had a group of 20 at the same time. The food and drinks were amazing. Several in our group ordered the rum punch and loved them. My wife ordered the twin filets and part way through her meal she stated \"This is the best Steak I have every eaten\". I think she liked it. I went for the Lobster and Shrimp Scampi OMG!! What a plate of deliciousness! We were visiting from NC and were thankful that we found this place. Hope to come back sometime again.\n",
      "Lunch Apr 5 \n",
      "  Great little local bar that serves some pretty good food as well.  What I liked was that most of the stuff on the menu seemed just a bit different than your average bar food menu. As if they put their \"twist\" on it.\n",
      "  Clam Chowder is proclaimed as best in town -- I would agree it was OUTSTANDING!\n",
      "  Fried Brussels Sprouts w/Bang bang sauce - lightly breaded and very tasty.  Unique dish that was full size Brussels Sprouts and not chopped up pieces. I asked for the sauce on the side at servers recco and it was a good call. that kept them crunchy and they didn't get soggy.  \n",
      "  Turkey Sandwich with Vermont Cheese, Apples and Cranberry Mayo was a really good sandwich! perfect size for lunch and everything was fresh!  1st time I have had apple slices on a sandwich and it played very well!\n",
      "  I would definitely go back!\n",
      "Food is good, lunch portions are more than enough and reasonable. I like the lunch combos, a little bit of everything.\n",
      "We went to Welly's on Saturday for the first time. It won't be the last. Very busy but very organized. The service is excellent, as is the food. My wife had the steak tips, they were delicious! My sister had the salmon and said it was excellent. Both my brother and I had one of the specials that night, Chicken and Eggplant Parm Combo and added a side of meatballs (I have meatball problem). The sauce and both parms were fantastic! The meatballs were delicious and as good as anyone's. Many other great looking choices on the menu and specials. Saw this on Phantom a while ago. If you have to drive a bit to go there don't let that stop you,  you will be glad that you did!\n",
      "Love this place. Food is always hot and tastey. Staff is always very helpful too. Only thing better would be having more bar seating but worth the wait.\n",
      "well we were looking for a new place to try so thank you yelp....we got here about 11:45 and were glad we did as it filled up fast, even on a saturday...ate at the bar, service was pleasant, buffalo cauliflower, scallops and pastrami sandwich all very good, drinks good and as ordered, nice looking place with a main bar area and another dining area, both nice looking.....glad we found this place!!!!\n",
      "I can't understand how this place could have anything less than 5 stars. Although it can be quite busy because they offer INCREDIBLY prices specials, it's totally worth the wait. Our favorite to order is the Caesar pizza and chicken carbonara. This spot is a MUST-try in Marlborough.\n",
      "I came here with my grandmother, aunt and mom on a busy Saturday night and thank god we made a reservation as the place was packed!! Parking was a bit tough as it's mostly street parking with one odd lot next to the restaurant. The staff was friendly helping us choose a table that would work for my grandmother and we were seated quickly in the dining area next to the bar. The restaurant is not very big and was pretty noisy seeing as it was very busy at dinner time. They had such nice decor outside with lights and holiday decor! The menu here was expansive, which made it hard to decide, but we all had options that we would enjoy. The menu has appetizers, salads, sandwiches, pasta entrees, steaks, seafood and pizza too! Our waitress was attentive but not over the top and answered questions we had despite how busy she was. We enjoyed the chicken saltimbocca, chicken piccata, Julie's chicken and steak entree and it was all delicious. The dishes were at a fair price for a tavern/restaurant. We didn't get dessert this time, but all talked about coming back again. Great place on Main Street in Marlborough!\n",
      "I couldn't have asked for a better day. We had our friend's bridal shower at Welly's today. Everything from the service, to the space and the food was perfect! Everyone was so pleased with the meals... we provided options of steak tips and mashed, Julia's chicken or eggplant parm and a crudités with hummus and cheese and crackers. They were so accommodating and attentive. I'm sure they made quite a few longtime customers today!  Can't wait to go back!\n",
      "we sat at a cozy booth along the back wall. They do have outdoor seating for nice weather and TVs at the bar for sporting events, etc. their sangria and sandwiches were pretty good. (visited 8/3/17)\n",
      "First visit to this neighborhood joint - good first impression...friendly staff, welcoming atmosphere, cozy vibe on a cold winter night. The fish and chips were good, and I'd return for another serving. The French Onion soup was a little disappointing. It wasn't bad, but it was savory with caraway pumpernickel bread and rosemary (I think). I prefer my onions in this type of soup to be sweet and caramelized, with a slightly creamy broth with sherry or cognac. This broth was more reminiscent of beef au jus...would have been great for a French Dip sandwich, but was a little blah for soup.\n",
      "We needed something  nice in the Marlboro area for a small function. We had 21 people coming and we had already been negotiating with another local restaurant well after several phone calls and requirements of Paying $200 for a private room and another $200 for a bartender and waitress and guaranteed numbers two weeks in advance with $1000 non refundable, my wife called a week ago based on a recommendation from a friend and found them extremely accommodating and friendly. Prices were good and food was great received a lot of compliments for the choice of venue.  Just want to say thank you to the staff at Welly's and our waitress Lucy for all the help\n",
      "This place is great! Delicious steak tips, great chicken parm,reasonable prices and great food specials, especially the Tuesday night chx parm deal. Check out this place... great for families or a quick bite at the bar. Service was very friendly too.\n",
      "Just here in Welly's for a beer and some laptop time. It's like sitting in a Starbucks, but for grown-ups. Good service from a waitress who wanted to get me a roll or a basket of bread or really, anything. Nope, just the beer.\n",
      "\n",
      "Tuesday night is their veal parm special. I was sooooo tempted!\n",
      "\n",
      "Wifi worked well and the table just happened to have a power outlet.\n",
      "\n",
      "Nice work, Welly's!\n",
      "Worth Checking Out!\n",
      "Service: 5\n",
      "Food: 3.5\n",
      "Atmosphere: 3.5\n",
      "\n",
      "This was my first time eating Lunch Welly's. First off, the place was packed and from what I understand, it's almost always is. Grabbed a spot at the bar and the bartender was great, friendly and attentive. Started with a cup of their \"Award Winning\" clam chowder (3.5) which was just ok, not a lot of clams or potatoes (this could just been mine).  My Rueben came out looking good with onion rings.  The sandwich was good (4) but the onion rings were a little under (2).  The guy next to me ordered the Shepard's Pie which looked amazing so will be going back to try it out.  It also looks like they have some great daily specials ranging from $5 cheeseburgers to fish &amp; chips.\n",
      "Both me and my wife wish Welly's was in OUR town. We'd be frequent patrons for sure! We've stopped here numerous times, now, since we discovered it on our way to/from her mother's house. \n",
      "\n",
      "Welly's deserves the 5 stars we've rated it. The myriad of food selections is dizzying, we haven't eaten anything there, yet, that we didn't thoroughly enjoy and just yesterday we stopped for lunch and again were greeted and served by the most cheerful and engaged waitstaff around. \n",
      "\n",
      "This place is great! Even our 90 y.o. mother loves it! And being the great cook that she is in her own right, she's a very picky eater. \n",
      "\n",
      "It'll be a sad day for us when the masses discover Welly's and we can't get in without a reservation. So, for now, we are stopping there as often as we can!\n",
      "The burger was great - well worth the price.  I could not say the same for the chicken parm sandwich.  The parm to bread ratio was off - too much bread for the thin chicken parm.  Also, not sure but it sure seemed like it was microwaved before it came out.  Next time going for burgers.\n",
      "Had a lovely experience at Wellys.  Surprisingly this was my first visit as I've often overlooked it.  I got the Haddock Rachel, which is essentially a haddock sandwich with coleslaw and cheese.  I substituted Swiss for American.  It was a GREAT sandwich and the fries had the perfect amount of crunch!  My dad got a wedge salad with steak tips and very much enjoyed it.  Other local places serve the same dishes, but in my opinion, Wellys did it better.  The sandwich was listed on the menu as $9.95 and on the separate \"Specials\" menu as $10.  I thought that was a little strange as clearly it wasn't an actual special.  I'd like to give Wellys another try next time I'm in town.\n",
      "Their week night specials are great.  Nice little neighborhood restaurant with a wide selection of food on the menu.  My favorite are their boneless wings.  Monday night special, burgers for just 4.95!  Overall a great place to catch a quick bite.\n",
      "First off, a reservation was made and weren't seated till about 30-40 min after our reserved time. Then when my family ordered (4 adults ordered clam chowder and chicken pots pies), we got one appetizer and bread. When our meals came out, they still hadn't received their chowder. This should have come out with the appetizers. It's like they forgot. Some didn't even get to eat the chowder and room it home. Who knows if they ended up eating it. They had also forgot a different soup that another adult in my party ordered. The food is good but I have def had better. The portions are good. This place is always busy but to be honest, I think it's because it's local decent food. They do not have changing tables for babies in the men's room. And I don't know if they have one in the women's room until u look in all the doors. One last thing, they have free WiFi, but I was unable to connect to it\n",
      "Welly's can get pretty busy but at least you get bread while you're waiting! I am a vegetarian and there's not too much on the menu that's vegetarian but at least they have really good salads (meaning lots of ingredients, you're not just given a pile of lettuce). \n",
      "\n",
      "My date got a burger and said it was nothing spectacular but it wasn't bad. We enjoyed the environment, the quick waiters, and the cleanliness. \n",
      "\n",
      "We would probably go again. I would love to see them add a black bean veggie burger to the menu or a pumpkin soup.\n",
      "Have gone back recently to much better experiences. Service is friendly and attentive, food is solid. The chicken carbonara is a favorite as is the Q Kenny Steak Tips. Good lunch spot, and they now have a full liquor license which is a plus.\n",
      "Definitely worth checking out.\n",
      "\n",
      "Tried for first time on a Sunday afternoon. Busy but we were seated quickly, \n",
      "\n",
      "EXCELLENT WAITERS\n",
      "Attentive &amp; Friendly\n",
      "\n",
      "Everyone ordered different items \n",
      "\n",
      "APPETIZER NOT GREAT\n",
      "Ordered two different flavors of chicken wings as appetizer - and they were cold in the center. Maybe Welly's cooks ahead &amp; reheats? That was a bummer &amp; we felt so hungry we didn't want to send 'em back to the kitchen and have to wait longer. I'd never recommend or order wings there again.\n",
      "\n",
      "SALAD AWESOME\n",
      "Ordered a salad with grilled shrimp on top. FANTASTIC. Excellent crisp greens, wide variety of vegetables, flavorful dressing, good amount of shrimp, roasted corn. Large portion.\n",
      "\n",
      "LOBSTER TACOS\n",
      "Diner said it was flavorful and good. \n",
      "\n",
      "SALMON\n",
      "Diner said it was good.\n",
      "\n",
      "Forget what fourth person ordered.\n",
      "\n",
      "Definitely worth checking out.\n",
      "Went there for a traditional corned beef and cabbage meal for St. Patrick's day this year... and it was delicious.. everything was cooked to perfection in my opinion... and our server Stephanie was awesome... super friendly and attentive\n",
      "Business lunch for first experience and did not disappoint! French dip is lean and delicious along with the chowder. Will be back!\n",
      "Another great meal at Wellys. Rolls were perfect, we ordered Chicken Madeira over angel hair and Dans favorite cashew chicken and both were great as usual. Followed up by their new brownie bites dessert.   My favorite go to place. Good food, good service, nice atmosphere.\n",
      "Love Welly's!  They have a young energetic staff, great food and now a full liquor license! You are made to feel welcome - they truly value their customers.  Their menu is quite extensive.  You need to start with the New England Clam Chowder.  It is the absolute best - very thick!!! Daddy like!  Be sure to check out their place mats.  There, you will find their daily meal specials which ranges from chicken parm, tacos, buffalo wings, etc..  My one negative - the wait staff should remind you of these specials, but don't.\n",
      "I love it here! They have great service, good food, and a friendly atmosphere. We are always seated promptly and the staff is attentive even when they are busy. We have tried a lot of dishes and haven't been disappointed by anything. All in all a friendly neighborhood restaurant!\n",
      "Not overpriced at all.  Super comfortable, neighborhood pub style atmosphere.  Warm and comfortable; the waitstaff is friendly and accommodating. I'd go back again .\n",
      "My wife and I give Welly's five stars with no hesitation- diverse menu, quality food, energetic environment, very reasonable prices and very friendly servers. Regarding the latter we are always happy to get Stephanie- she always makes us feel right at home. We have only been in this area for a year and Welly's has become our \"go to\" place.\n",
      "Nice little restaurant and bar in Downtown Marlborough area. Warm and charming atmosphere. Reasonable drink and lunch prices with a good menu selection. I had the clam chowder and Rueben sandwich, my friend had the fish sandwich. Both meals were delicious.\n",
      "Last Thursday my daughter asked if I wanted to meet to grab a bite for dinner.  I wasn't real hungry but of course I wanted to be in her (and my granddaughter's) company.  We met at Welly's around 6:30 PM.  I was impressed when I saw the wrought iron tables in front of the building.  It was very humid, the baby was asleep in the stroller, so we opted to go inside.  The atmosphere was definitely a pub atmosphere.  As we walked through the door, it was a bit noisy but we were guided to a room on the left and it was much quieter in there.  Thursday is $2 taco night.  You could have chicken, beef or fish.  I opted for chicken and they were soft shelled tacos.  I ordered 3.  I ate one and I was full!  My daughter got the steak tips ($14.95, I believe) and she had two choices of sides.  She picked mashed potatoes and broccoli. Hers came on a platter and left no room to spare of mashed potatoes and steak tips.  I had a bite and loved them.  The broccoli came on a separate saucer.....FULL.  It was cooked to perfection, as was her steak tips.  She also said the potatoes were real good.  I need to go there again when I'm hungry and I'm looking forward to it.  I'd love to sit outside on that sidewalk when it's just a bit cooler.  When my granddaughter woke up, she was eating her mother's broccoli!  It was a hit with her as she loves it (calls them 'trees') and she's only 2 yrs old.  \n",
      "They are open on Mon-Thursday from 11 AM to 9:30 PM.  Friday and Saturday 11 AM to 10:30PM and Sunday from 11:30 AM to 8:30 PM.\n",
      "You have a large menu to pick from including starters, soups, salads, sandwiches, pasta, chicken, burgers, beef, seafood to pizza and calzones.  They have specials nightly, including Chicken Parm with ziti on Tuesday,  You can call them if you have questions at (508)281-2091.\n",
      "Keep up the good work.  I'll be back and I'll be bringing others with  me.  It was a fun night out.\n",
      "Reuben was good. Fries were good. Chicken parm special for $6 was awesome. Drinks are reasonably priced. Service was good. We have to come back more often.\n",
      "Finally tried Wellys for the first time and it was really good. We tried the clam chowder, rich and creamy! We also tried the wings and they were really good, had a nice crisp to them and not drenched in sauce, which I like. And the blue cheese dressing to dip in was the best I've had! I had the fish tacos with fries for an entrée. They were really good but I would have preferred some red onion on the tacos to cut the richness but the fish was fresh.  All the food was hot and made to order. We will definitely be going back to try more menu items.\n",
      "Well...I should of dined across the street. Once seated our server, had gave a huge exasperating sigh. Definitely told me she was not happy to be working. Certainly foreshadowed our evening with her.  She was a terrible server to us and the three others she was charged with for the evening.\n",
      "\n",
      "But, the food...It was mediocre. Tried the famous clam chowder, it is great If you are tasting. You know one spoonful, But after more than a couple of spoonfuls you realize that it is super heavy on the cream.  It is so  over (over is a recurring theme here unless you are referring to my wait service) powering with a top note of butter. the concoction lacks any other complimenting flavors, I grade it a \"C\" for constipation.\n",
      "\n",
      "My order of a salmon Caesar salad was disappointing. The salmon was extremely over cooked and dry, with no seasoning at all.  The greens however were nice and served with correct amount of dressing. But certainly not worth the $18 I was charged for it.\n",
      "\n",
      "The appetizer of calamari was...once again over cooked  and under seasoned. They offer complementary rolls with dinner, you should pass.  You can find the same ones at Walmart, highly bleached and guess what over cooked.  Thank god she only brought two.\n",
      "\n",
      "My counterpart had the calzone with spinach and chicken. The chicken was a pre frozen breaded cutlet devoid of moisture, in an over cooked pocket of dough.  this slightly burned  mass of cheeses and dry chicken was paired with an equally bad processed/canned marinara  \"sauce\" that was highly saccharin in taste.\n",
      "\n",
      "The service was just apathetic, I don't see this as being systemic as other servers seemed to be on their game, mine just sucked. You had to request things 2-3 times and she never did the \"little things\" that make the difference between a good experience and a poor one.\n",
      "\n",
      "This is fine dining for the under class and anyone that thinks tucking in a shirt is dressing up. Piss poor ingredients, apathetic service and a kitchen staff that overlooks and over cooks the details is all on the menu here.\n",
      "We had 25 people for lunch after my grandson's baptism! We have the function room set up with a buffet! Chicken palm salad ziti picking ravioli served food was outstanding! Drinks and service in the function room were excellent!\n",
      "I had lunch at Welly's after hearing really good things about he place for quite a while. I've waited a few weeks before putting out my thoughts because I did not want to let emotion be the only force behind this review.  The place has a nice towny feel to it that I like that.  I found the beer selection to be lacking when you compare it to other establishments in the area but not bad. From the Specials Menu, I ordered their version of Fish Tacos with fried fish. I asked why they were on the Specials Menu because they were the same price as their regular menu.  The server said it was because they were \"special\".  When the server asked if I wanted sweet potato fries instead of regular, I said sure.  At the time, I didn't realize that they were up-charging me an extra $1.50 for about 15 one inch sweet potato pieces.  The up-charges for \"substitutions\" at Welly's seem to be a bit high. The tacos arrived and I struggled not to ask \"Where's the fish?\". This wasn't going well. The fish fragments, however small, were crispy and well cooked.  Flavor from the taco was almost nonexistent.  The Pico de Gallo was a tasteless mixture of onion, unripe tomatoes, and little else. I asked for some salsa to add flavor and it was like I had insulted the server's mom.  I'm going to try Welly's again because everyone has a bad day but I won't be getting the fish tacos from their specials menu.\n",
      "On a rainy afternoon on our way to Maine we chose to bypass a number of chains in favor of this restaurant.   The restaurant was pretty busy on a Wednesday afternoon, but we soon had menus in hand.  I had noticed a few trophies for best clam chowder on display in the entry way so my wife and I both ordered bowls of New England chowdah that proved to be creamy, but largely devoid of any clam flavor.  In retrospect, I derived a modicum of comfort knowing we now have experienced Marlborough's finest. \n",
      "\n",
      "A rating of 2.5 stars would be on target.\n",
      "I think I just had the best chicken of my life I mean,I may not be able to go back because there's no way they can do that again. The chicken carbonara. I'm just going to go out on the limb and say it was the best chicken I've ever had. already said that. white sauce, bacon, ziti  Oh God\n",
      "My husband and I are always looking to try different places in the area and heard great things about Welly's. We decided to give it a shot and were more than impressed. We were immediately welcomed when we walked in and were sat right away even though they were busy. The waitress was very attentive and we got our food and drinks right away. I ordered their famous chicken parm and my husband had the fish tacos. The food was fresh and absolutely delicious. We could not have had a better experience. We will definitely be back!\n",
      "Bleh. We were seated near the back and a ceiling fan was on and the way the lights on the ceiling are placed, it was like we had a strobe light on us the entire time. The waiter gave us the wrong menus. Payed way too much for a gross greasy burger. I asked for no cheese and they put it on there anyway. Ordered a cocktail and it wasn't stirred or anything, my first sip was just pure alcohol. Never coming back.\n",
      "Food was  excellent and the service was very good. Can't beat the prices from 4:00-9:30 and there specials ongoing during the week. As well the portions are great and plenty of food.\n",
      "We stopped by on a busy Friday night and the bar as well as the restaurant was hopping.  The staff quickly took our name and said it would be about 15 minutes. We stepped behind the bar and had a drink which was very nice! The bartender was friendly and helped us quickly even with all of the people at the bar. We were seated at a table right by the window and looked over the many choices deciding on the fried pickle appetizer, steak medallions and Emily's haddock. We really like this restaurant anyway and were blown away by how tasty and well prepared our dinner was! Both dinners included yummy mashed potatoes and vegetable medley. Because the portions are big for us we took our leftovers home. We are looking forward to having dinner there and continuing to try other menu items out. Well done!\n",
      "The prime spot in Marlborough. Always greeted by friendly faces and guest service is superior. The bartender, Bill, is super cool and attentive. The owners know what they are doing and the food is very fresh and delicious. Great atmosphere for all types. They offer great weekly specials as well. My favorite spot in Marlborough by a long shot.\n",
      "Food was average. Scallops didn't taste fresh, and pizza wasn't a favorite. Friend raviolis were good. The staff and manager were very nice and attentive.\n",
      "Welly's is great food with reasonable prices. They staff is great. This week I was there for lunch and then for dinner.  The chicken parmesan is is the best I have ever had. YUM\n",
      "Welly's is my new favorite pub. It's the kind of place I feel comfortable bringing colleagues for dinner or my octogenarian father-in-law for lunch.  The food is solid, well executed, and unpretentious.  Their clam chowder is yummy and not the usual boring tanker truck variety, it's a little thicker and there are leeks and other visible vegetables.  A bowl of chowder and a beer make for a very satisfying and affordable lunch.  Some places try to over do the beer selection, here the draft list is relatively compact and they have some good local favorites. During the week they have nightly specials, the Monday night burger special is hard to beat and makes for a cheap date night with the wife. One of my favorites is the haddock rachel, it comes out piping hot and the fries are always good, never too heavy/greasy.  The bar is a great spot to catch a game or just hangout for a few beers and fry-o-lator favorites.  There are a bunch of regulars but i did not feel like I was intruding on their \"territory\". Overall the prices are very reasonable, service is friendly and professional, and parking is a breeze.  Welly's is another great example of the underrated spots in downtown Marlborough.\n",
      "Great service, great prices and good beer selection. The food is average but for the price you can't beat it. I have eaten hear many times and I enjoy this restaurant. I would recommend.\n",
      "Quality food, great prices, good service in a relaxed setting. It's definitely worth checking out.\n",
      "\n",
      "Must try: the clam chowder is amazing. Some of the best I have ever had. \n",
      "\n",
      "Recommended:\n",
      "Any sandwich or burger. My favorites are the Welly's Blackened burger and Theresa's Spinach BLT.\n",
      "Great little restaurant in downtown Marlboro. Food never disappoints and the staff is always very nice.  Parking can be tough but there are options with a quick walk.   Can get very crowded at times, especially on Tuesday nights when their killer chicken parm is on special, but you can't beat it for $6!\n",
      "One of the more solid restaurants in Marlboro. Friendly staff, extensive menu, fast service and fair prices.\n",
      "Pretty good food, the calzone was massive. Service and atmosphere was alright, would go back.\n",
      "This was our first time at Wellys but it won't be our last. We're from out of state but our son lives in Marlborough and we visit often and are always looking for somewhere with a nice atmosphere, good food and great staff and we found it here. I had the shepherds pie which came  deconstructed which is not what I'm used to but it was really good and full of flavor. My husband had the pastrami that came on what looked like a brioche roll and crispy fries. His only complaint was that it  could have had  a little more pastrami but it had a great flavor.  Can't wait till our next visit so we cam try something else on their vast menu.\n",
      "This place is surprisingly great. The menu is expansive and the service is friendly and attentive. Have been twice and both times have been thoroughly impressed. Salads are lovely and burgers are delish! I would like to try one of their nightly specials at some point. Wish I lived a little closer or I'd be here all the time!\n",
      "I'm having their broccoli ziti, corn, mashed potatoes with sweet potato fries and a pint of Wachusett blueberries beer. The beer is excellent with real blueberries in the beer!!!\n",
      "Great place to eat in Marlborough, the staff and food is great. We quickly became regular's here as you can't beat the prices. You get great quality food and service. Try their seafood dishes and steak they are all good. Also the chicken parm special on Tuesday's is the best. Worth giving it a try, you won't regret it!\n",
      "Food was good prices were excellent.  Had an old school feel like family restaurant from the 80's\n",
      "Just finished having lunch at Welly's in downtown Marlborough. The menu had great variety, the food was delicious, service was excellent and it was a casual, relaxing atmosphere. I noticed there is also a separate area for larger groups. I will certainly be back! Overall, great experience.\n",
      "Well, it wasn't that well.  The famous chowder was ok.  Too creamy with not too many clams nor potatoes and a horseradish taste. Maybe it's their secret ingredient.  A cup is enough for a taste.  Scallop risotto was good but very liquidy.  Plenty of scallops.  The pumpkin ravioli was not that good...couldn't eat it.  Tastes like freezer burn and the sage white sauce had no taste.  Just flour and sage, way too thick. No autumnal flavoring. Disappointing.  Staff is lovely. Atmosphere very good.  I should have stuck to basic pub fare...burger, sandwich.\n",
      "Great restaurant in cute downtown area of Marlboro. We had our hockey team lunch here and they were able to accommodate all 46 of is in a separate room. The food was great and the service was incredible on how quick they were able to serve us all. Big portions with good pricing. The owner was so helpful and appreciative of our business. Highly recommend this place!\n",
      "Sirloin tips topped with sautéed mushrooms and onions, served with mashed potatoes and gravy.\n",
      "That is the description. \n",
      "I got take out , what I got was okay tasting steak tips with no mushrooms, no onions and rice pilaf instead of mash potatoes and gravy. If your takeout is gonna be a stripped down version of your dinner, strip down the price also.\n",
      "Stopped for lunch on Memorial Day.  One star for simply being open.  Thanks!\n",
      "\n",
      "Friendly staff and reasonably good fare make this a pleasant stop, if you're in Marlborough.  We had chili, fish tacos, and the salad and half sandwich.  I wouldn't say I'd write home about them but they all hit the spot for a light lunch...though, for the record, the chili, while fresh, could lose a little of the \"fresh tomato sauce\" taste.\n",
      "\n",
      "If I'm in the area, I'd go back.\n",
      "Sandwiches were terrific. I had the Emily's Chicken wrap. I would definitely come again.\n",
      "Always fantastic service at Welly's! Waiters are friendly and Welly is always around to greet the regulars. They are super flexible with orders (especially if you're a regular and one of their specials isn't on the menu that day, they'll make it for you anyway if they have the ingredients). Highly recommend, they have everything on the menu. And how can you go wrong with the weekly specials and $6 chicken parm on Tuesday's! Support local businesses and great food!\n"
     ]
    },
    {
     "data": {
      "text/plain": [
       "--CprxtcUfzKoz29hAzm5w    None\n",
       "--CprxtcUfzKoz29hAzm5w    None\n",
       "--CprxtcUfzKoz29hAzm5w    None\n",
       "--CprxtcUfzKoz29hAzm5w    None\n",
       "--CprxtcUfzKoz29hAzm5w    None\n",
       "--CprxtcUfzKoz29hAzm5w    None\n",
       "--CprxtcUfzKoz29hAzm5w    None\n",
       "--CprxtcUfzKoz29hAzm5w    None\n",
       "--CprxtcUfzKoz29hAzm5w    None\n",
       "--CprxtcUfzKoz29hAzm5w    None\n",
       "--CprxtcUfzKoz29hAzm5w    None\n",
       "--CprxtcUfzKoz29hAzm5w    None\n",
       "--CprxtcUfzKoz29hAzm5w    None\n",
       "--CprxtcUfzKoz29hAzm5w    None\n",
       "--CprxtcUfzKoz29hAzm5w    None\n",
       "--CprxtcUfzKoz29hAzm5w    None\n",
       "--CprxtcUfzKoz29hAzm5w    None\n",
       "--CprxtcUfzKoz29hAzm5w    None\n",
       "--CprxtcUfzKoz29hAzm5w    None\n",
       "--CprxtcUfzKoz29hAzm5w    None\n",
       "--CprxtcUfzKoz29hAzm5w    None\n",
       "--CprxtcUfzKoz29hAzm5w    None\n",
       "--CprxtcUfzKoz29hAzm5w    None\n",
       "--CprxtcUfzKoz29hAzm5w    None\n",
       "--CprxtcUfzKoz29hAzm5w    None\n",
       "--CprxtcUfzKoz29hAzm5w    None\n",
       "--CprxtcUfzKoz29hAzm5w    None\n",
       "--CprxtcUfzKoz29hAzm5w    None\n",
       "--CprxtcUfzKoz29hAzm5w    None\n",
       "--CprxtcUfzKoz29hAzm5w    None\n",
       "                          ... \n",
       "--CprxtcUfzKoz29hAzm5w    None\n",
       "--CprxtcUfzKoz29hAzm5w    None\n",
       "--CprxtcUfzKoz29hAzm5w    None\n",
       "--CprxtcUfzKoz29hAzm5w    None\n",
       "--CprxtcUfzKoz29hAzm5w    None\n",
       "--CprxtcUfzKoz29hAzm5w    None\n",
       "--CprxtcUfzKoz29hAzm5w    None\n",
       "--CprxtcUfzKoz29hAzm5w    None\n",
       "--CprxtcUfzKoz29hAzm5w    None\n",
       "--CprxtcUfzKoz29hAzm5w    None\n",
       "--CprxtcUfzKoz29hAzm5w    None\n",
       "--CprxtcUfzKoz29hAzm5w    None\n",
       "--CprxtcUfzKoz29hAzm5w    None\n",
       "--CprxtcUfzKoz29hAzm5w    None\n",
       "--CprxtcUfzKoz29hAzm5w    None\n",
       "--CprxtcUfzKoz29hAzm5w    None\n",
       "--CprxtcUfzKoz29hAzm5w    None\n",
       "--CprxtcUfzKoz29hAzm5w    None\n",
       "--CprxtcUfzKoz29hAzm5w    None\n",
       "--CprxtcUfzKoz29hAzm5w    None\n",
       "--CprxtcUfzKoz29hAzm5w    None\n",
       "--CprxtcUfzKoz29hAzm5w    None\n",
       "--CprxtcUfzKoz29hAzm5w    None\n",
       "--CprxtcUfzKoz29hAzm5w    None\n",
       "--CprxtcUfzKoz29hAzm5w    None\n",
       "--CprxtcUfzKoz29hAzm5w    None\n",
       "--CprxtcUfzKoz29hAzm5w    None\n",
       "--CprxtcUfzKoz29hAzm5w    None\n",
       "--CprxtcUfzKoz29hAzm5w    None\n",
       "--CprxtcUfzKoz29hAzm5w    None\n",
       "Name: description, Length: 100, dtype: object"
      ]
     },
     "execution_count": 142,
     "metadata": {},
     "output_type": "execute_result"
    }
   ],
   "source": [
    "# double check that full reviews are present\n",
    "review_data.loc['--CprxtcUfzKoz29hAzm5w', 'description'].apply(lambda x: print(x))"
   ]
  },
  {
   "cell_type": "code",
   "execution_count": null,
   "metadata": {},
   "outputs": [],
   "source": []
  }
 ],
 "metadata": {
  "kernelspec": {
   "display_name": "Python 3",
   "language": "python",
   "name": "python3"
  },
  "language_info": {
   "codemirror_mode": {
    "name": "ipython",
    "version": 3
   },
   "file_extension": ".py",
   "mimetype": "text/x-python",
   "name": "python",
   "nbconvert_exporter": "python",
   "pygments_lexer": "ipython3",
   "version": "3.7.3"
  }
 },
 "nbformat": 4,
 "nbformat_minor": 2
}
